{
 "cells": [
  {
   "cell_type": "markdown",
   "id": "009856f2",
   "metadata": {},
   "source": [
    "<h1>Table of Contents</h1>\n",
    "\n",
    "<div class=\"alert alert-block alert-info\" style=\"margin-top: 20px\">\n",
    "    <ol>\n",
    "        <li><a href=\"#import_libraries\">Import Libraries</a></li>\n",
    "        <li><a href=\"#import_dataset\">Import \"Pima Indians Diabetes\" Dataset</a></li>\n",
    "        <li><a href=\"#information\">Information about the Dataset</a></li>\n",
    "        <li><a href=\"#pre-processing\">Pre-processing</a></li>        \n",
    "        <li><a href=\"#feature_selection\">Feature Selection</a></li>\n",
    "        <li><a href=\"#classification\">Classification</a></li>        \n",
    "    </ol>\n",
    "</div>\n",
    "<br>\n",
    "<hr>"
   ]
  },
  {
   "cell_type": "markdown",
   "id": "ac64bbe0",
   "metadata": {},
   "source": [
    "<div id=\"import_libraries\"> \n",
    "    <h2>Import Libraries</h2>    \n",
    "</div>"
   ]
  },
  {
   "cell_type": "code",
   "execution_count": 1,
   "id": "67b7e8d8",
   "metadata": {},
   "outputs": [],
   "source": [
    "\n",
    "import numpy as np\n",
    "import pandas as pd\n",
    "from sklearn.neighbors import KNeighborsClassifier\n",
    "from sklearn.model_selection import train_test_split\n",
    "from sklearn.model_selection import cross_val_score \n",
    "from sklearn.impute import SimpleImputer\n",
    "from sklearn.experimental import enable_iterative_imputer\n",
    "from sklearn.impute import IterativeImputer\n",
    "from sklearn.impute import KNNImputer\n",
    "import seaborn as sns  \n",
    "import matplotlib.pyplot as plt  \n",
    "from sklearn.preprocessing import StandardScaler\n",
    "from sklearn.preprocessing import MinMaxScaler\n",
    "from imblearn.over_sampling import SMOTE\n",
    "from imblearn.under_sampling import NearMiss\n",
    "from sklearn.linear_model import LogisticRegression  \n",
    "from sklearn.feature_selection import RFE\n",
    "from sklearn.decomposition import PCA \n",
    "from sklearn.naive_bayes import GaussianNB\n",
    "from sklearn import metrics\n",
    "from sklearn.metrics import accuracy_score, recall_score, precision_score, f1_score\n",
    "from sklearn.metrics import confusion_matrix, classification_report\n",
    "from sklearn.metrics import roc_curve, roc_auc_score\n",
    "from sklearn.model_selection import LeaveOneOut\n",
    "from sklearn.ensemble import RandomForestClassifier\n",
    "from sklearn.model_selection import GridSearchCV\n",
    "\n",
    "import warnings\n",
    "warnings.filterwarnings(\"ignore\")"
   ]
  },
  {
   "cell_type": "markdown",
   "id": "8d3da290",
   "metadata": {},
   "source": [
    "<hr>\n",
    "<div id=\"import_dataset\"> \n",
    "    <h2>Import \"Pima Indians Diabetes\" Dataset</h2>         \n",
    "</div>"
   ]
  },
  {
   "cell_type": "markdown",
   "id": "f52138e4",
   "metadata": {},
   "source": [
    "**About the dataset :**\n",
    "<ul>\n",
    "       <li> The \"<strong>Pima Indians Diabetes</strong>\" dataset includes medical data for <strong>768 women</strong> of Pima Indian descent, aimed at predicting diabetes onset. It consists of features such as <strong>the number of pregnancies, glucose levels, blood pressure, skin thickness, insulin levels, body mass index (BMI), diabetes pedigree function, and age</strong>. The target variable indicates whether an individual has <strong>diabetes (1) or not (0)</strong>. \n",
    "        <br>\n",
    "        <br>\n",
    "        <li> This dataset is commonly used in machine learning for developing <strong>predictive models and understanding diabetes risk factors</strong>.\n",
    "        <br>\n",
    "        <br>\n",
    "        <li> By analyzing this dataset, researchers can identify <strong>significant predictors of diabetes, enhancing early detection and informing healthcare strategies for prevention and intervention in at-risk populations</strong>. \n",
    "</ul> "
   ]
  },
  {
   "cell_type": "code",
   "execution_count": 2,
   "id": "74b70cec",
   "metadata": {},
   "outputs": [
    {
     "data": {
      "text/html": [
       "<div>\n",
       "<style scoped>\n",
       "    .dataframe tbody tr th:only-of-type {\n",
       "        vertical-align: middle;\n",
       "    }\n",
       "\n",
       "    .dataframe tbody tr th {\n",
       "        vertical-align: top;\n",
       "    }\n",
       "\n",
       "    .dataframe thead th {\n",
       "        text-align: right;\n",
       "    }\n",
       "</style>\n",
       "<table border=\"1\" class=\"dataframe\">\n",
       "  <thead>\n",
       "    <tr style=\"text-align: right;\">\n",
       "      <th></th>\n",
       "      <th>Pregnancies</th>\n",
       "      <th>Glucose</th>\n",
       "      <th>BloodPressure</th>\n",
       "      <th>SkinThickness</th>\n",
       "      <th>Insulin</th>\n",
       "      <th>BMI</th>\n",
       "      <th>DiabetesPedigreeFunction</th>\n",
       "      <th>Age</th>\n",
       "      <th>Outcome</th>\n",
       "    </tr>\n",
       "  </thead>\n",
       "  <tbody>\n",
       "    <tr>\n",
       "      <th>0</th>\n",
       "      <td>6</td>\n",
       "      <td>148</td>\n",
       "      <td>72</td>\n",
       "      <td>35</td>\n",
       "      <td>0</td>\n",
       "      <td>33.6</td>\n",
       "      <td>0.627</td>\n",
       "      <td>50</td>\n",
       "      <td>1</td>\n",
       "    </tr>\n",
       "    <tr>\n",
       "      <th>1</th>\n",
       "      <td>1</td>\n",
       "      <td>85</td>\n",
       "      <td>66</td>\n",
       "      <td>29</td>\n",
       "      <td>0</td>\n",
       "      <td>26.6</td>\n",
       "      <td>0.351</td>\n",
       "      <td>31</td>\n",
       "      <td>0</td>\n",
       "    </tr>\n",
       "    <tr>\n",
       "      <th>2</th>\n",
       "      <td>8</td>\n",
       "      <td>183</td>\n",
       "      <td>64</td>\n",
       "      <td>0</td>\n",
       "      <td>0</td>\n",
       "      <td>23.3</td>\n",
       "      <td>0.672</td>\n",
       "      <td>32</td>\n",
       "      <td>1</td>\n",
       "    </tr>\n",
       "    <tr>\n",
       "      <th>3</th>\n",
       "      <td>1</td>\n",
       "      <td>89</td>\n",
       "      <td>66</td>\n",
       "      <td>23</td>\n",
       "      <td>94</td>\n",
       "      <td>28.1</td>\n",
       "      <td>0.167</td>\n",
       "      <td>21</td>\n",
       "      <td>0</td>\n",
       "    </tr>\n",
       "    <tr>\n",
       "      <th>4</th>\n",
       "      <td>0</td>\n",
       "      <td>137</td>\n",
       "      <td>40</td>\n",
       "      <td>35</td>\n",
       "      <td>168</td>\n",
       "      <td>43.1</td>\n",
       "      <td>2.288</td>\n",
       "      <td>33</td>\n",
       "      <td>1</td>\n",
       "    </tr>\n",
       "    <tr>\n",
       "      <th>...</th>\n",
       "      <td>...</td>\n",
       "      <td>...</td>\n",
       "      <td>...</td>\n",
       "      <td>...</td>\n",
       "      <td>...</td>\n",
       "      <td>...</td>\n",
       "      <td>...</td>\n",
       "      <td>...</td>\n",
       "      <td>...</td>\n",
       "    </tr>\n",
       "    <tr>\n",
       "      <th>763</th>\n",
       "      <td>10</td>\n",
       "      <td>101</td>\n",
       "      <td>76</td>\n",
       "      <td>48</td>\n",
       "      <td>180</td>\n",
       "      <td>32.9</td>\n",
       "      <td>0.171</td>\n",
       "      <td>63</td>\n",
       "      <td>0</td>\n",
       "    </tr>\n",
       "    <tr>\n",
       "      <th>764</th>\n",
       "      <td>2</td>\n",
       "      <td>122</td>\n",
       "      <td>70</td>\n",
       "      <td>27</td>\n",
       "      <td>0</td>\n",
       "      <td>36.8</td>\n",
       "      <td>0.340</td>\n",
       "      <td>27</td>\n",
       "      <td>0</td>\n",
       "    </tr>\n",
       "    <tr>\n",
       "      <th>765</th>\n",
       "      <td>5</td>\n",
       "      <td>121</td>\n",
       "      <td>72</td>\n",
       "      <td>23</td>\n",
       "      <td>112</td>\n",
       "      <td>26.2</td>\n",
       "      <td>0.245</td>\n",
       "      <td>30</td>\n",
       "      <td>0</td>\n",
       "    </tr>\n",
       "    <tr>\n",
       "      <th>766</th>\n",
       "      <td>1</td>\n",
       "      <td>126</td>\n",
       "      <td>60</td>\n",
       "      <td>0</td>\n",
       "      <td>0</td>\n",
       "      <td>30.1</td>\n",
       "      <td>0.349</td>\n",
       "      <td>47</td>\n",
       "      <td>1</td>\n",
       "    </tr>\n",
       "    <tr>\n",
       "      <th>767</th>\n",
       "      <td>1</td>\n",
       "      <td>93</td>\n",
       "      <td>70</td>\n",
       "      <td>31</td>\n",
       "      <td>0</td>\n",
       "      <td>30.4</td>\n",
       "      <td>0.315</td>\n",
       "      <td>23</td>\n",
       "      <td>0</td>\n",
       "    </tr>\n",
       "  </tbody>\n",
       "</table>\n",
       "<p>768 rows × 9 columns</p>\n",
       "</div>"
      ],
      "text/plain": [
       "     Pregnancies  Glucose  BloodPressure  SkinThickness  Insulin   BMI  \\\n",
       "0              6      148             72             35        0  33.6   \n",
       "1              1       85             66             29        0  26.6   \n",
       "2              8      183             64              0        0  23.3   \n",
       "3              1       89             66             23       94  28.1   \n",
       "4              0      137             40             35      168  43.1   \n",
       "..           ...      ...            ...            ...      ...   ...   \n",
       "763           10      101             76             48      180  32.9   \n",
       "764            2      122             70             27        0  36.8   \n",
       "765            5      121             72             23      112  26.2   \n",
       "766            1      126             60              0        0  30.1   \n",
       "767            1       93             70             31        0  30.4   \n",
       "\n",
       "     DiabetesPedigreeFunction  Age  Outcome  \n",
       "0                       0.627   50        1  \n",
       "1                       0.351   31        0  \n",
       "2                       0.672   32        1  \n",
       "3                       0.167   21        0  \n",
       "4                       2.288   33        1  \n",
       "..                        ...  ...      ...  \n",
       "763                     0.171   63        0  \n",
       "764                     0.340   27        0  \n",
       "765                     0.245   30        0  \n",
       "766                     0.349   47        1  \n",
       "767                     0.315   23        0  \n",
       "\n",
       "[768 rows x 9 columns]"
      ]
     },
     "metadata": {},
     "output_type": "display_data"
    }
   ],
   "source": [
    "url = \"https://raw.githubusercontent.com/jbrownlee/Datasets/master/pima-indians-diabetes.data.csv\"  \n",
    "column_names = ['Pregnancies', 'Glucose', 'BloodPressure', 'SkinThickness',  \n",
    "                'Insulin', 'BMI', 'DiabetesPedigreeFunction', 'Age', 'Outcome']  \n",
    "pid_df = pd.read_csv(url, header=None, names=column_names)\n",
    "display(pid_df)"
   ]
  },
  {
   "cell_type": "markdown",
   "id": "99363ebb",
   "metadata": {},
   "source": [
    "<hr>\n",
    "<div id=\"information\"> \n",
    "    <h2>Information about the Dataset</h2>    \n",
    "</div>"
   ]
  },
  {
   "cell_type": "code",
   "execution_count": 3,
   "id": "3391bc74",
   "metadata": {},
   "outputs": [
    {
     "name": "stdout",
     "output_type": "stream",
     "text": [
      "\n",
      "The dataset description:\n",
      "\n"
     ]
    },
    {
     "data": {
      "text/html": [
       "<div>\n",
       "<style scoped>\n",
       "    .dataframe tbody tr th:only-of-type {\n",
       "        vertical-align: middle;\n",
       "    }\n",
       "\n",
       "    .dataframe tbody tr th {\n",
       "        vertical-align: top;\n",
       "    }\n",
       "\n",
       "    .dataframe thead th {\n",
       "        text-align: right;\n",
       "    }\n",
       "</style>\n",
       "<table border=\"1\" class=\"dataframe\">\n",
       "  <thead>\n",
       "    <tr style=\"text-align: right;\">\n",
       "      <th></th>\n",
       "      <th>Pregnancies</th>\n",
       "      <th>Glucose</th>\n",
       "      <th>BloodPressure</th>\n",
       "      <th>SkinThickness</th>\n",
       "      <th>Insulin</th>\n",
       "      <th>BMI</th>\n",
       "      <th>DiabetesPedigreeFunction</th>\n",
       "      <th>Age</th>\n",
       "      <th>Outcome</th>\n",
       "    </tr>\n",
       "  </thead>\n",
       "  <tbody>\n",
       "    <tr>\n",
       "      <th>count</th>\n",
       "      <td>768.000000</td>\n",
       "      <td>768.000000</td>\n",
       "      <td>768.000000</td>\n",
       "      <td>768.000000</td>\n",
       "      <td>768.000000</td>\n",
       "      <td>768.000000</td>\n",
       "      <td>768.000000</td>\n",
       "      <td>768.000000</td>\n",
       "      <td>768.000000</td>\n",
       "    </tr>\n",
       "    <tr>\n",
       "      <th>mean</th>\n",
       "      <td>3.845052</td>\n",
       "      <td>120.894531</td>\n",
       "      <td>69.105469</td>\n",
       "      <td>20.536458</td>\n",
       "      <td>79.799479</td>\n",
       "      <td>31.992578</td>\n",
       "      <td>0.471876</td>\n",
       "      <td>33.240885</td>\n",
       "      <td>0.348958</td>\n",
       "    </tr>\n",
       "    <tr>\n",
       "      <th>std</th>\n",
       "      <td>3.369578</td>\n",
       "      <td>31.972618</td>\n",
       "      <td>19.355807</td>\n",
       "      <td>15.952218</td>\n",
       "      <td>115.244002</td>\n",
       "      <td>7.884160</td>\n",
       "      <td>0.331329</td>\n",
       "      <td>11.760232</td>\n",
       "      <td>0.476951</td>\n",
       "    </tr>\n",
       "    <tr>\n",
       "      <th>min</th>\n",
       "      <td>0.000000</td>\n",
       "      <td>0.000000</td>\n",
       "      <td>0.000000</td>\n",
       "      <td>0.000000</td>\n",
       "      <td>0.000000</td>\n",
       "      <td>0.000000</td>\n",
       "      <td>0.078000</td>\n",
       "      <td>21.000000</td>\n",
       "      <td>0.000000</td>\n",
       "    </tr>\n",
       "    <tr>\n",
       "      <th>25%</th>\n",
       "      <td>1.000000</td>\n",
       "      <td>99.000000</td>\n",
       "      <td>62.000000</td>\n",
       "      <td>0.000000</td>\n",
       "      <td>0.000000</td>\n",
       "      <td>27.300000</td>\n",
       "      <td>0.243750</td>\n",
       "      <td>24.000000</td>\n",
       "      <td>0.000000</td>\n",
       "    </tr>\n",
       "    <tr>\n",
       "      <th>50%</th>\n",
       "      <td>3.000000</td>\n",
       "      <td>117.000000</td>\n",
       "      <td>72.000000</td>\n",
       "      <td>23.000000</td>\n",
       "      <td>30.500000</td>\n",
       "      <td>32.000000</td>\n",
       "      <td>0.372500</td>\n",
       "      <td>29.000000</td>\n",
       "      <td>0.000000</td>\n",
       "    </tr>\n",
       "    <tr>\n",
       "      <th>75%</th>\n",
       "      <td>6.000000</td>\n",
       "      <td>140.250000</td>\n",
       "      <td>80.000000</td>\n",
       "      <td>32.000000</td>\n",
       "      <td>127.250000</td>\n",
       "      <td>36.600000</td>\n",
       "      <td>0.626250</td>\n",
       "      <td>41.000000</td>\n",
       "      <td>1.000000</td>\n",
       "    </tr>\n",
       "    <tr>\n",
       "      <th>max</th>\n",
       "      <td>17.000000</td>\n",
       "      <td>199.000000</td>\n",
       "      <td>122.000000</td>\n",
       "      <td>99.000000</td>\n",
       "      <td>846.000000</td>\n",
       "      <td>67.100000</td>\n",
       "      <td>2.420000</td>\n",
       "      <td>81.000000</td>\n",
       "      <td>1.000000</td>\n",
       "    </tr>\n",
       "  </tbody>\n",
       "</table>\n",
       "</div>"
      ],
      "text/plain": [
       "       Pregnancies     Glucose  BloodPressure  SkinThickness     Insulin  \\\n",
       "count   768.000000  768.000000     768.000000     768.000000  768.000000   \n",
       "mean      3.845052  120.894531      69.105469      20.536458   79.799479   \n",
       "std       3.369578   31.972618      19.355807      15.952218  115.244002   \n",
       "min       0.000000    0.000000       0.000000       0.000000    0.000000   \n",
       "25%       1.000000   99.000000      62.000000       0.000000    0.000000   \n",
       "50%       3.000000  117.000000      72.000000      23.000000   30.500000   \n",
       "75%       6.000000  140.250000      80.000000      32.000000  127.250000   \n",
       "max      17.000000  199.000000     122.000000      99.000000  846.000000   \n",
       "\n",
       "              BMI  DiabetesPedigreeFunction         Age     Outcome  \n",
       "count  768.000000                768.000000  768.000000  768.000000  \n",
       "mean    31.992578                  0.471876   33.240885    0.348958  \n",
       "std      7.884160                  0.331329   11.760232    0.476951  \n",
       "min      0.000000                  0.078000   21.000000    0.000000  \n",
       "25%     27.300000                  0.243750   24.000000    0.000000  \n",
       "50%     32.000000                  0.372500   29.000000    0.000000  \n",
       "75%     36.600000                  0.626250   41.000000    1.000000  \n",
       "max     67.100000                  2.420000   81.000000    1.000000  "
      ]
     },
     "metadata": {},
     "output_type": "display_data"
    }
   ],
   "source": [
    "# Show summary statistics for the dataset\n",
    "# This includes count, mean, standard deviation, minimum, 25%, 50%, 75%, and maximum values for numeric columns\n",
    "print('\\nThe dataset description:\\n')\n",
    "\n",
    "data_describe = pid_df.describe()\n",
    "display(data_describe)"
   ]
  },
  {
   "cell_type": "code",
   "execution_count": 4,
   "id": "5b742610",
   "metadata": {},
   "outputs": [
    {
     "name": "stdout",
     "output_type": "stream",
     "text": [
      "\n",
      "More information about the dataset:\n",
      "\n",
      "<class 'pandas.core.frame.DataFrame'>\n",
      "RangeIndex: 768 entries, 0 to 767\n",
      "Data columns (total 9 columns):\n",
      " #   Column                    Non-Null Count  Dtype  \n",
      "---  ------                    --------------  -----  \n",
      " 0   Pregnancies               768 non-null    int64  \n",
      " 1   Glucose                   768 non-null    int64  \n",
      " 2   BloodPressure             768 non-null    int64  \n",
      " 3   SkinThickness             768 non-null    int64  \n",
      " 4   Insulin                   768 non-null    int64  \n",
      " 5   BMI                       768 non-null    float64\n",
      " 6   DiabetesPedigreeFunction  768 non-null    float64\n",
      " 7   Age                       768 non-null    int64  \n",
      " 8   Outcome                   768 non-null    int64  \n",
      "dtypes: float64(2), int64(7)\n",
      "memory usage: 54.1 KB\n"
     ]
    },
    {
     "data": {
      "text/plain": [
       "None"
      ]
     },
     "metadata": {},
     "output_type": "display_data"
    }
   ],
   "source": [
    "# Display a concise summary of the dataset\n",
    "# This summary includes the index dtype, column dtypes, non-null values, and memory usage \n",
    "print('\\nMore information about the dataset:\\n')\n",
    "\n",
    "data_information = pid_df.info()\n",
    "display(data_information)"
   ]
  },
  {
   "cell_type": "code",
   "execution_count": 5,
   "id": "9b21ea2d",
   "metadata": {},
   "outputs": [
    {
     "name": "stdout",
     "output_type": "stream",
     "text": [
      "\n",
      "The shape of the dataset --> (768, 9)\n"
     ]
    }
   ],
   "source": [
    "# Get the shape of the dataset, which returns the number of rows and columns\n",
    "shape_of_the_dataset = pid_df.shape\n",
    "print(\"\\nThe shape of the dataset -->\", shape_of_the_dataset)"
   ]
  },
  {
   "cell_type": "code",
   "execution_count": 6,
   "id": "626d0a96",
   "metadata": {},
   "outputs": [
    {
     "name": "stdout",
     "output_type": "stream",
     "text": [
      "\n",
      "Number of unique data in the dataset:\n",
      "\n",
      "Pregnancies                  17\n",
      "Glucose                     136\n",
      "BloodPressure                47\n",
      "SkinThickness                51\n",
      "Insulin                     186\n",
      "BMI                         248\n",
      "DiabetesPedigreeFunction    517\n",
      "Age                          52\n",
      "Outcome                       2\n",
      "dtype: int64\n"
     ]
    }
   ],
   "source": [
    "# Calculate the number of unique values in each column of the dataset\n",
    "print('\\nNumber of unique data in the dataset:\\n')\n",
    "\n",
    "unique_data = pid_df.nunique()\n",
    "print(unique_data)\n"
   ]
  },
  {
   "cell_type": "markdown",
   "id": "ebcb4ec6",
   "metadata": {},
   "source": [
    "<hr>\n",
    "<div id=\"pre-processing\"> \n",
    "    <h2>Pre-processing</h2>    \n",
    "</div>\n",
    "<div>\n",
    "    <ol>\n",
    "        <li><a href=\"#duplicates\">Duplicate Tuples</a></li>\n",
    "        <li><a href=\"#outliers\">Detecting Outliers (Noise)</a></li>\n",
    "        <li><a href=\"#missing_values\">Handling Missing Values</a></li>\n",
    "        <li><a href=\"#standardization\">Standardization</a></li>\n",
    "        <li><a href=\"#data_imbalance\">Handling Data Imbalance</a></li>      \n",
    "    </ol>\n",
    "</div>\n",
    "<br>"
   ]
  },
  {
   "cell_type": "markdown",
   "id": "411c7625",
   "metadata": {},
   "source": [
    "<hr>\n",
    "<div id=\"duplicates\"> \n",
    "    <h2>Duplicate Tuples</h2>    \n",
    "</div>"
   ]
  },
  {
   "cell_type": "code",
   "execution_count": 7,
   "id": "74119aef",
   "metadata": {},
   "outputs": [
    {
     "name": "stdout",
     "output_type": "stream",
     "text": [
      "\n",
      "The number of duplicate rows --> 0\n"
     ]
    }
   ],
   "source": [
    "# Calculate the number of duplicate rows in the dataframe\n",
    "Num_of_duplicate_rows = pid_df.duplicated().sum()\n",
    "print(\"\\nThe number of duplicate rows -->\", Num_of_duplicate_rows)"
   ]
  },
  {
   "cell_type": "markdown",
   "id": "af837725",
   "metadata": {},
   "source": [
    "<hr>\n",
    "<div id=\"outliers\"> \n",
    "    <h2>Detecting Outliers (Noise)</h2>    \n",
    "</div>\n",
    "<div>\n",
    "    <ol>\n",
    "        <li><a href=\"#iqr\">Interquartile Range (IQR) method</a></li>          \n",
    "    </ol>\n",
    "</div>\n",
    "<br>"
   ]
  },
  {
   "cell_type": "markdown",
   "id": "2e56794d",
   "metadata": {},
   "source": [
    "<div id=\"iqr\"> \n",
    "    <h2>Interquartile Range (IQR) method</h2>    \n",
    "</div>"
   ]
  },
  {
   "cell_type": "code",
   "execution_count": 8,
   "id": "b4eac1c2",
   "metadata": {},
   "outputs": [],
   "source": [
    "# Calculate Q1 (25th percentile) and Q3 (75th percentile)  \n",
    "Q1 = pid_df.quantile(0.25)  \n",
    "Q3 = pid_df.quantile(0.75)  \n",
    "IQR = Q3 - Q1  \n",
    "\n",
    "# Define the outlier detection bounds  \n",
    "lower_bound = Q1 - 1.5 * IQR  \n",
    "upper_bound = Q3 + 1.5 * IQR  "
   ]
  },
  {
   "cell_type": "code",
   "execution_count": 9,
   "id": "9d148754",
   "metadata": {},
   "outputs": [
    {
     "data": {
      "text/html": [
       "<div>\n",
       "<style scoped>\n",
       "    .dataframe tbody tr th:only-of-type {\n",
       "        vertical-align: middle;\n",
       "    }\n",
       "\n",
       "    .dataframe tbody tr th {\n",
       "        vertical-align: top;\n",
       "    }\n",
       "\n",
       "    .dataframe thead th {\n",
       "        text-align: right;\n",
       "    }\n",
       "</style>\n",
       "<table border=\"1\" class=\"dataframe\">\n",
       "  <thead>\n",
       "    <tr style=\"text-align: right;\">\n",
       "      <th></th>\n",
       "      <th>Pregnancies</th>\n",
       "      <th>Glucose</th>\n",
       "      <th>BloodPressure</th>\n",
       "      <th>SkinThickness</th>\n",
       "      <th>Insulin</th>\n",
       "      <th>BMI</th>\n",
       "      <th>DiabetesPedigreeFunction</th>\n",
       "      <th>Age</th>\n",
       "      <th>Outcome</th>\n",
       "    </tr>\n",
       "  </thead>\n",
       "  <tbody>\n",
       "    <tr>\n",
       "      <th>0</th>\n",
       "      <td>6</td>\n",
       "      <td>148</td>\n",
       "      <td>72</td>\n",
       "      <td>35</td>\n",
       "      <td>0</td>\n",
       "      <td>33.6</td>\n",
       "      <td>0.627</td>\n",
       "      <td>50</td>\n",
       "      <td>1</td>\n",
       "    </tr>\n",
       "    <tr>\n",
       "      <th>1</th>\n",
       "      <td>1</td>\n",
       "      <td>85</td>\n",
       "      <td>66</td>\n",
       "      <td>29</td>\n",
       "      <td>0</td>\n",
       "      <td>26.6</td>\n",
       "      <td>0.351</td>\n",
       "      <td>31</td>\n",
       "      <td>0</td>\n",
       "    </tr>\n",
       "    <tr>\n",
       "      <th>2</th>\n",
       "      <td>8</td>\n",
       "      <td>183</td>\n",
       "      <td>64</td>\n",
       "      <td>0</td>\n",
       "      <td>0</td>\n",
       "      <td>23.3</td>\n",
       "      <td>0.672</td>\n",
       "      <td>32</td>\n",
       "      <td>1</td>\n",
       "    </tr>\n",
       "    <tr>\n",
       "      <th>3</th>\n",
       "      <td>1</td>\n",
       "      <td>89</td>\n",
       "      <td>66</td>\n",
       "      <td>23</td>\n",
       "      <td>94</td>\n",
       "      <td>28.1</td>\n",
       "      <td>0.167</td>\n",
       "      <td>21</td>\n",
       "      <td>0</td>\n",
       "    </tr>\n",
       "    <tr>\n",
       "      <th>5</th>\n",
       "      <td>5</td>\n",
       "      <td>116</td>\n",
       "      <td>74</td>\n",
       "      <td>0</td>\n",
       "      <td>0</td>\n",
       "      <td>25.6</td>\n",
       "      <td>0.201</td>\n",
       "      <td>30</td>\n",
       "      <td>0</td>\n",
       "    </tr>\n",
       "    <tr>\n",
       "      <th>...</th>\n",
       "      <td>...</td>\n",
       "      <td>...</td>\n",
       "      <td>...</td>\n",
       "      <td>...</td>\n",
       "      <td>...</td>\n",
       "      <td>...</td>\n",
       "      <td>...</td>\n",
       "      <td>...</td>\n",
       "      <td>...</td>\n",
       "    </tr>\n",
       "    <tr>\n",
       "      <th>763</th>\n",
       "      <td>10</td>\n",
       "      <td>101</td>\n",
       "      <td>76</td>\n",
       "      <td>48</td>\n",
       "      <td>180</td>\n",
       "      <td>32.9</td>\n",
       "      <td>0.171</td>\n",
       "      <td>63</td>\n",
       "      <td>0</td>\n",
       "    </tr>\n",
       "    <tr>\n",
       "      <th>764</th>\n",
       "      <td>2</td>\n",
       "      <td>122</td>\n",
       "      <td>70</td>\n",
       "      <td>27</td>\n",
       "      <td>0</td>\n",
       "      <td>36.8</td>\n",
       "      <td>0.340</td>\n",
       "      <td>27</td>\n",
       "      <td>0</td>\n",
       "    </tr>\n",
       "    <tr>\n",
       "      <th>765</th>\n",
       "      <td>5</td>\n",
       "      <td>121</td>\n",
       "      <td>72</td>\n",
       "      <td>23</td>\n",
       "      <td>112</td>\n",
       "      <td>26.2</td>\n",
       "      <td>0.245</td>\n",
       "      <td>30</td>\n",
       "      <td>0</td>\n",
       "    </tr>\n",
       "    <tr>\n",
       "      <th>766</th>\n",
       "      <td>1</td>\n",
       "      <td>126</td>\n",
       "      <td>60</td>\n",
       "      <td>0</td>\n",
       "      <td>0</td>\n",
       "      <td>30.1</td>\n",
       "      <td>0.349</td>\n",
       "      <td>47</td>\n",
       "      <td>1</td>\n",
       "    </tr>\n",
       "    <tr>\n",
       "      <th>767</th>\n",
       "      <td>1</td>\n",
       "      <td>93</td>\n",
       "      <td>70</td>\n",
       "      <td>31</td>\n",
       "      <td>0</td>\n",
       "      <td>30.4</td>\n",
       "      <td>0.315</td>\n",
       "      <td>23</td>\n",
       "      <td>0</td>\n",
       "    </tr>\n",
       "  </tbody>\n",
       "</table>\n",
       "<p>639 rows × 9 columns</p>\n",
       "</div>"
      ],
      "text/plain": [
       "     Pregnancies  Glucose  BloodPressure  SkinThickness  Insulin   BMI  \\\n",
       "0              6      148             72             35        0  33.6   \n",
       "1              1       85             66             29        0  26.6   \n",
       "2              8      183             64              0        0  23.3   \n",
       "3              1       89             66             23       94  28.1   \n",
       "5              5      116             74              0        0  25.6   \n",
       "..           ...      ...            ...            ...      ...   ...   \n",
       "763           10      101             76             48      180  32.9   \n",
       "764            2      122             70             27        0  36.8   \n",
       "765            5      121             72             23      112  26.2   \n",
       "766            1      126             60              0        0  30.1   \n",
       "767            1       93             70             31        0  30.4   \n",
       "\n",
       "     DiabetesPedigreeFunction  Age  Outcome  \n",
       "0                       0.627   50        1  \n",
       "1                       0.351   31        0  \n",
       "2                       0.672   32        1  \n",
       "3                       0.167   21        0  \n",
       "5                       0.201   30        0  \n",
       "..                        ...  ...      ...  \n",
       "763                     0.171   63        0  \n",
       "764                     0.340   27        0  \n",
       "765                     0.245   30        0  \n",
       "766                     0.349   47        1  \n",
       "767                     0.315   23        0  \n",
       "\n",
       "[639 rows x 9 columns]"
      ]
     },
     "metadata": {},
     "output_type": "display_data"
    }
   ],
   "source": [
    "# Create a mask to filter out rows with outliers  \n",
    "outlier_mask = ~((pid_df < lower_bound) |   \n",
    "                 (pid_df > upper_bound)).any(axis=1)  \n",
    "\n",
    "# Create a new dataframe after outlier detection and deleting\n",
    "df_iqr = pid_df[outlier_mask]  \n",
    "display(df_iqr)"
   ]
  },
  {
   "cell_type": "code",
   "execution_count": 10,
   "id": "e09583ae",
   "metadata": {},
   "outputs": [],
   "source": [
    "# Validate the IQR method\n",
    "# Separate features and target variable  \n",
    "x = df_iqr.drop('Outcome', axis=1)            # Features\n",
    "y = df_iqr['Outcome']                         # Target variable\n",
    "\n",
    "# Split the data into training and testing sets (80/20) \n",
    "x_train, x_test, y_train, y_test = train_test_split(x, y, test_size=0.2, random_state=42)  "
   ]
  },
  {
   "cell_type": "code",
   "execution_count": 11,
   "id": "60f11a41",
   "metadata": {},
   "outputs": [
    {
     "name": "stdout",
     "output_type": "stream",
     "text": [
      "\n",
      "Cross-validated accuracy after IQR outlier removal: 0.6791\n",
      "\n"
     ]
    }
   ],
   "source": [
    "# Initialize the KNN classifier  \n",
    "clf_iqr = KNeighborsClassifier(n_neighbors=1)  \n",
    "\n",
    "# Perform cross-validation to check accuracy after IQR outlier removal  \n",
    "accuracy = np.mean(cross_val_score(clf_iqr, x_train, y_train, scoring='accuracy', cv=10))  \n",
    "print(f'\\nCross-validated accuracy after IQR outlier removal: {accuracy:.4f}\\n')"
   ]
  },
  {
   "cell_type": "code",
   "execution_count": 12,
   "id": "fa8ad597",
   "metadata": {},
   "outputs": [
    {
     "name": "stdout",
     "output_type": "stream",
     "text": [
      "\n",
      "Dataset shape before deleting the outliers --> (768, 9)\n",
      "\n",
      "Dataset shape after deleting the outliers --> (639, 9)\n",
      "\n",
      "\n"
     ]
    }
   ],
   "source": [
    "print(\"\\nDataset shape before deleting the outliers -->\", pid_df.shape)\n",
    "print(\"\\nDataset shape after deleting the outliers -->\", df_iqr.shape)\n",
    "print(\"\\n\")"
   ]
  },
  {
   "cell_type": "markdown",
   "id": "c3b69b58",
   "metadata": {},
   "source": [
    "<hr>\n",
    "<div id=\"missing_values\"> \n",
    "    <h2>Handling Missing Values</h2>    \n",
    "</div>\n",
    "<div>\n",
    "    <ol>\n",
    "        <li><a href=\"#mean\">Mean Imputation</a></li>\n",
    "        <li><a href=\"#iterative\">Iterative Imputation</a></li>\n",
    "        <li><a href=\"#knn\">K-Nearest Neighbors (KNN) Imputation</a></li>     \n",
    "        <li><a href=\"#output\">Output the results</a></li>    \n",
    "    </ol>\n",
    "</div>\n",
    "<br>"
   ]
  },
  {
   "cell_type": "code",
   "execution_count": 13,
   "id": "aecc444b",
   "metadata": {},
   "outputs": [
    {
     "name": "stdout",
     "output_type": "stream",
     "text": [
      "\n",
      "The data set description after detecting outliers:\n",
      "\n"
     ]
    },
    {
     "data": {
      "text/html": [
       "<div>\n",
       "<style scoped>\n",
       "    .dataframe tbody tr th:only-of-type {\n",
       "        vertical-align: middle;\n",
       "    }\n",
       "\n",
       "    .dataframe tbody tr th {\n",
       "        vertical-align: top;\n",
       "    }\n",
       "\n",
       "    .dataframe thead th {\n",
       "        text-align: right;\n",
       "    }\n",
       "</style>\n",
       "<table border=\"1\" class=\"dataframe\">\n",
       "  <thead>\n",
       "    <tr style=\"text-align: right;\">\n",
       "      <th></th>\n",
       "      <th>Pregnancies</th>\n",
       "      <th>Glucose</th>\n",
       "      <th>BloodPressure</th>\n",
       "      <th>SkinThickness</th>\n",
       "      <th>Insulin</th>\n",
       "      <th>BMI</th>\n",
       "      <th>DiabetesPedigreeFunction</th>\n",
       "      <th>Age</th>\n",
       "      <th>Outcome</th>\n",
       "    </tr>\n",
       "  </thead>\n",
       "  <tbody>\n",
       "    <tr>\n",
       "      <th>count</th>\n",
       "      <td>639.000000</td>\n",
       "      <td>639.000000</td>\n",
       "      <td>639.000000</td>\n",
       "      <td>639.000000</td>\n",
       "      <td>639.000000</td>\n",
       "      <td>639.00000</td>\n",
       "      <td>639.000000</td>\n",
       "      <td>639.000000</td>\n",
       "      <td>639.000000</td>\n",
       "    </tr>\n",
       "    <tr>\n",
       "      <th>mean</th>\n",
       "      <td>3.804382</td>\n",
       "      <td>119.112676</td>\n",
       "      <td>72.120501</td>\n",
       "      <td>20.563380</td>\n",
       "      <td>65.931142</td>\n",
       "      <td>32.00579</td>\n",
       "      <td>0.429177</td>\n",
       "      <td>32.715180</td>\n",
       "      <td>0.312989</td>\n",
       "    </tr>\n",
       "    <tr>\n",
       "      <th>std</th>\n",
       "      <td>3.260995</td>\n",
       "      <td>29.162175</td>\n",
       "      <td>11.348686</td>\n",
       "      <td>15.339991</td>\n",
       "      <td>79.569482</td>\n",
       "      <td>6.43397</td>\n",
       "      <td>0.250957</td>\n",
       "      <td>11.080651</td>\n",
       "      <td>0.464073</td>\n",
       "    </tr>\n",
       "    <tr>\n",
       "      <th>min</th>\n",
       "      <td>0.000000</td>\n",
       "      <td>44.000000</td>\n",
       "      <td>38.000000</td>\n",
       "      <td>0.000000</td>\n",
       "      <td>0.000000</td>\n",
       "      <td>18.20000</td>\n",
       "      <td>0.078000</td>\n",
       "      <td>21.000000</td>\n",
       "      <td>0.000000</td>\n",
       "    </tr>\n",
       "    <tr>\n",
       "      <th>25%</th>\n",
       "      <td>1.000000</td>\n",
       "      <td>99.000000</td>\n",
       "      <td>64.000000</td>\n",
       "      <td>0.000000</td>\n",
       "      <td>0.000000</td>\n",
       "      <td>27.30000</td>\n",
       "      <td>0.242000</td>\n",
       "      <td>24.000000</td>\n",
       "      <td>0.000000</td>\n",
       "    </tr>\n",
       "    <tr>\n",
       "      <th>50%</th>\n",
       "      <td>3.000000</td>\n",
       "      <td>114.000000</td>\n",
       "      <td>72.000000</td>\n",
       "      <td>23.000000</td>\n",
       "      <td>37.000000</td>\n",
       "      <td>32.00000</td>\n",
       "      <td>0.358000</td>\n",
       "      <td>29.000000</td>\n",
       "      <td>0.000000</td>\n",
       "    </tr>\n",
       "    <tr>\n",
       "      <th>75%</th>\n",
       "      <td>6.000000</td>\n",
       "      <td>137.000000</td>\n",
       "      <td>80.000000</td>\n",
       "      <td>32.000000</td>\n",
       "      <td>120.000000</td>\n",
       "      <td>35.95000</td>\n",
       "      <td>0.586000</td>\n",
       "      <td>40.000000</td>\n",
       "      <td>1.000000</td>\n",
       "    </tr>\n",
       "    <tr>\n",
       "      <th>max</th>\n",
       "      <td>13.000000</td>\n",
       "      <td>198.000000</td>\n",
       "      <td>106.000000</td>\n",
       "      <td>60.000000</td>\n",
       "      <td>318.000000</td>\n",
       "      <td>50.00000</td>\n",
       "      <td>1.191000</td>\n",
       "      <td>66.000000</td>\n",
       "      <td>1.000000</td>\n",
       "    </tr>\n",
       "  </tbody>\n",
       "</table>\n",
       "</div>"
      ],
      "text/plain": [
       "       Pregnancies     Glucose  BloodPressure  SkinThickness     Insulin  \\\n",
       "count   639.000000  639.000000     639.000000     639.000000  639.000000   \n",
       "mean      3.804382  119.112676      72.120501      20.563380   65.931142   \n",
       "std       3.260995   29.162175      11.348686      15.339991   79.569482   \n",
       "min       0.000000   44.000000      38.000000       0.000000    0.000000   \n",
       "25%       1.000000   99.000000      64.000000       0.000000    0.000000   \n",
       "50%       3.000000  114.000000      72.000000      23.000000   37.000000   \n",
       "75%       6.000000  137.000000      80.000000      32.000000  120.000000   \n",
       "max      13.000000  198.000000     106.000000      60.000000  318.000000   \n",
       "\n",
       "             BMI  DiabetesPedigreeFunction         Age     Outcome  \n",
       "count  639.00000                639.000000  639.000000  639.000000  \n",
       "mean    32.00579                  0.429177   32.715180    0.312989  \n",
       "std      6.43397                  0.250957   11.080651    0.464073  \n",
       "min     18.20000                  0.078000   21.000000    0.000000  \n",
       "25%     27.30000                  0.242000   24.000000    0.000000  \n",
       "50%     32.00000                  0.358000   29.000000    0.000000  \n",
       "75%     35.95000                  0.586000   40.000000    1.000000  \n",
       "max     50.00000                  1.191000   66.000000    1.000000  "
      ]
     },
     "metadata": {},
     "output_type": "display_data"
    }
   ],
   "source": [
    "# Show summary statistics after detecting outliers\n",
    "# This includes count, mean, standard deviation, minimum, 25%, 50%, 75%, and maximum values for numeric columns\n",
    "print('\\nThe data set description after detecting outliers:\\n')\n",
    "display(df_iqr.describe())"
   ]
  },
  {
   "cell_type": "code",
   "execution_count": 14,
   "id": "53cad71e",
   "metadata": {},
   "outputs": [
    {
     "name": "stdout",
     "output_type": "stream",
     "text": [
      "                          0\n",
      "Pregnancies               0\n",
      "Glucose                   0\n",
      "BloodPressure             0\n",
      "SkinThickness             0\n",
      "Insulin                   0\n",
      "BMI                       0\n",
      "DiabetesPedigreeFunction  0\n",
      "Age                       0\n",
      "Outcome                   0\n"
     ]
    }
   ],
   "source": [
    "# Check for missing values in the dataframe\n",
    "isna = pd.DataFrame(df_iqr.isna().sum(axis=0))\n",
    "print(isna)"
   ]
  },
  {
   "cell_type": "code",
   "execution_count": 15,
   "id": "12b1d429",
   "metadata": {},
   "outputs": [
    {
     "name": "stdout",
     "output_type": "stream",
     "text": [
      "\n",
      "There are no NaN values in the dataset \n",
      "\n",
      "\n",
      "But according to the description, some variables cannot be zero. So they must be handled\n",
      "They are --> SkinThickness and Insulin \n",
      "\n"
     ]
    }
   ],
   "source": [
    "print('\\nThere are no NaN values in the dataset \\n')\n",
    "print('\\nBut according to the description, some variables cannot be zero. So they must be handled')\n",
    "print('They are --> SkinThickness and Insulin \\n')"
   ]
  },
  {
   "cell_type": "code",
   "execution_count": 16,
   "id": "ebf4e0ce",
   "metadata": {},
   "outputs": [
    {
     "name": "stdout",
     "output_type": "stream",
     "text": [
      "                            0\n",
      "Pregnancies                 0\n",
      "Glucose                     0\n",
      "BloodPressure               0\n",
      "SkinThickness             179\n",
      "Insulin                   307\n",
      "BMI                         0\n",
      "DiabetesPedigreeFunction    0\n",
      "Age                         0\n",
      "Outcome                     0\n"
     ]
    }
   ],
   "source": [
    "# Replace zero values with NaN in specified columns \n",
    "temp= ['SkinThickness', 'Insulin']\n",
    "df_iqr[temp]= df_iqr[temp].replace(0, np.nan)\n",
    "\n",
    "# Check for missing values after replacement\n",
    "isna= pd.DataFrame(df_iqr.isna().sum(axis=0))\n",
    "print(isna)"
   ]
  },
  {
   "cell_type": "markdown",
   "id": "3812d905",
   "metadata": {},
   "source": [
    "<div id=\"mean\"> \n",
    "    <h2>Mean Imputation</h2>    \n",
    "</div>"
   ]
  },
  {
   "cell_type": "code",
   "execution_count": 17,
   "id": "92199bc2",
   "metadata": {},
   "outputs": [],
   "source": [
    "# Create a copy of the original dataframe for mean imputation  \n",
    "DfMean = df_iqr.copy(deep=True)  \n",
    "\n",
    "# Initialize the simpleimputer for mean imputation  \n",
    "MeanImputer = SimpleImputer(missing_values=np.nan, strategy='mean')  "
   ]
  },
  {
   "cell_type": "code",
   "execution_count": 18,
   "id": "e48abc14",
   "metadata": {},
   "outputs": [
    {
     "name": "stdout",
     "output_type": "stream",
     "text": [
      "\n",
      "Preview the data after mean imputation: \n",
      "\n"
     ]
    },
    {
     "data": {
      "text/html": [
       "<div>\n",
       "<style scoped>\n",
       "    .dataframe tbody tr th:only-of-type {\n",
       "        vertical-align: middle;\n",
       "    }\n",
       "\n",
       "    .dataframe tbody tr th {\n",
       "        vertical-align: top;\n",
       "    }\n",
       "\n",
       "    .dataframe thead th {\n",
       "        text-align: right;\n",
       "    }\n",
       "</style>\n",
       "<table border=\"1\" class=\"dataframe\">\n",
       "  <thead>\n",
       "    <tr style=\"text-align: right;\">\n",
       "      <th></th>\n",
       "      <th>Pregnancies</th>\n",
       "      <th>Glucose</th>\n",
       "      <th>BloodPressure</th>\n",
       "      <th>SkinThickness</th>\n",
       "      <th>Insulin</th>\n",
       "      <th>BMI</th>\n",
       "      <th>DiabetesPedigreeFunction</th>\n",
       "      <th>Age</th>\n",
       "      <th>Outcome</th>\n",
       "    </tr>\n",
       "  </thead>\n",
       "  <tbody>\n",
       "    <tr>\n",
       "      <th>0</th>\n",
       "      <td>6</td>\n",
       "      <td>148</td>\n",
       "      <td>72</td>\n",
       "      <td>35.000000</td>\n",
       "      <td>126.89759</td>\n",
       "      <td>33.6</td>\n",
       "      <td>0.627</td>\n",
       "      <td>50</td>\n",
       "      <td>1</td>\n",
       "    </tr>\n",
       "    <tr>\n",
       "      <th>1</th>\n",
       "      <td>1</td>\n",
       "      <td>85</td>\n",
       "      <td>66</td>\n",
       "      <td>29.000000</td>\n",
       "      <td>126.89759</td>\n",
       "      <td>26.6</td>\n",
       "      <td>0.351</td>\n",
       "      <td>31</td>\n",
       "      <td>0</td>\n",
       "    </tr>\n",
       "    <tr>\n",
       "      <th>2</th>\n",
       "      <td>8</td>\n",
       "      <td>183</td>\n",
       "      <td>64</td>\n",
       "      <td>28.565217</td>\n",
       "      <td>126.89759</td>\n",
       "      <td>23.3</td>\n",
       "      <td>0.672</td>\n",
       "      <td>32</td>\n",
       "      <td>1</td>\n",
       "    </tr>\n",
       "    <tr>\n",
       "      <th>3</th>\n",
       "      <td>1</td>\n",
       "      <td>89</td>\n",
       "      <td>66</td>\n",
       "      <td>23.000000</td>\n",
       "      <td>94.00000</td>\n",
       "      <td>28.1</td>\n",
       "      <td>0.167</td>\n",
       "      <td>21</td>\n",
       "      <td>0</td>\n",
       "    </tr>\n",
       "    <tr>\n",
       "      <th>5</th>\n",
       "      <td>5</td>\n",
       "      <td>116</td>\n",
       "      <td>74</td>\n",
       "      <td>28.565217</td>\n",
       "      <td>126.89759</td>\n",
       "      <td>25.6</td>\n",
       "      <td>0.201</td>\n",
       "      <td>30</td>\n",
       "      <td>0</td>\n",
       "    </tr>\n",
       "  </tbody>\n",
       "</table>\n",
       "</div>"
      ],
      "text/plain": [
       "   Pregnancies  Glucose  BloodPressure  SkinThickness    Insulin   BMI  \\\n",
       "0            6      148             72      35.000000  126.89759  33.6   \n",
       "1            1       85             66      29.000000  126.89759  26.6   \n",
       "2            8      183             64      28.565217  126.89759  23.3   \n",
       "3            1       89             66      23.000000   94.00000  28.1   \n",
       "5            5      116             74      28.565217  126.89759  25.6   \n",
       "\n",
       "   DiabetesPedigreeFunction  Age  Outcome  \n",
       "0                     0.627   50        1  \n",
       "1                     0.351   31        0  \n",
       "2                     0.672   32        1  \n",
       "3                     0.167   21        0  \n",
       "5                     0.201   30        0  "
      ]
     },
     "metadata": {},
     "output_type": "display_data"
    }
   ],
   "source": [
    "# Apply mean imputation   \n",
    "DfMean.iloc[:, :] = MeanImputer.fit_transform(DfMean)  \n",
    "\n",
    "# Preview the data after mean imputation  \n",
    "print('\\nPreview the data after mean imputation: \\n')\n",
    "display(DfMean.head())"
   ]
  },
  {
   "cell_type": "markdown",
   "id": "a9f26101",
   "metadata": {},
   "source": [
    "<div id=\"iterative\"> \n",
    "    <h2>Iterative Imputation</h2>    \n",
    "</div>"
   ]
  },
  {
   "cell_type": "code",
   "execution_count": 19,
   "id": "64f86111",
   "metadata": {},
   "outputs": [],
   "source": [
    "# Create a copy of the original dataset  \n",
    "DfIterative = df_iqr.copy(deep=True)  \n",
    "\n",
    "# Set up the iterative imputer\n",
    "imputer_ite = IterativeImputer(missing_values=np.nan, sample_posterior=True, min_value=0,\n",
    "                               random_state=42)"
   ]
  },
  {
   "cell_type": "code",
   "execution_count": 20,
   "id": "a1b53434",
   "metadata": {},
   "outputs": [
    {
     "name": "stdout",
     "output_type": "stream",
     "text": [
      "\n",
      "Preview the data after iterative imputation: \n",
      "\n"
     ]
    },
    {
     "data": {
      "text/html": [
       "<div>\n",
       "<style scoped>\n",
       "    .dataframe tbody tr th:only-of-type {\n",
       "        vertical-align: middle;\n",
       "    }\n",
       "\n",
       "    .dataframe tbody tr th {\n",
       "        vertical-align: top;\n",
       "    }\n",
       "\n",
       "    .dataframe thead th {\n",
       "        text-align: right;\n",
       "    }\n",
       "</style>\n",
       "<table border=\"1\" class=\"dataframe\">\n",
       "  <thead>\n",
       "    <tr style=\"text-align: right;\">\n",
       "      <th></th>\n",
       "      <th>Pregnancies</th>\n",
       "      <th>Glucose</th>\n",
       "      <th>BloodPressure</th>\n",
       "      <th>SkinThickness</th>\n",
       "      <th>Insulin</th>\n",
       "      <th>BMI</th>\n",
       "      <th>DiabetesPedigreeFunction</th>\n",
       "      <th>Age</th>\n",
       "      <th>Outcome</th>\n",
       "    </tr>\n",
       "  </thead>\n",
       "  <tbody>\n",
       "    <tr>\n",
       "      <th>0</th>\n",
       "      <td>6</td>\n",
       "      <td>148</td>\n",
       "      <td>72</td>\n",
       "      <td>35.000000</td>\n",
       "      <td>241.427854</td>\n",
       "      <td>33.6</td>\n",
       "      <td>0.627</td>\n",
       "      <td>50</td>\n",
       "      <td>1</td>\n",
       "    </tr>\n",
       "    <tr>\n",
       "      <th>1</th>\n",
       "      <td>1</td>\n",
       "      <td>85</td>\n",
       "      <td>66</td>\n",
       "      <td>29.000000</td>\n",
       "      <td>77.663658</td>\n",
       "      <td>26.6</td>\n",
       "      <td>0.351</td>\n",
       "      <td>31</td>\n",
       "      <td>0</td>\n",
       "    </tr>\n",
       "    <tr>\n",
       "      <th>2</th>\n",
       "      <td>8</td>\n",
       "      <td>183</td>\n",
       "      <td>64</td>\n",
       "      <td>21.316083</td>\n",
       "      <td>197.772724</td>\n",
       "      <td>23.3</td>\n",
       "      <td>0.672</td>\n",
       "      <td>32</td>\n",
       "      <td>1</td>\n",
       "    </tr>\n",
       "    <tr>\n",
       "      <th>3</th>\n",
       "      <td>1</td>\n",
       "      <td>89</td>\n",
       "      <td>66</td>\n",
       "      <td>23.000000</td>\n",
       "      <td>94.000000</td>\n",
       "      <td>28.1</td>\n",
       "      <td>0.167</td>\n",
       "      <td>21</td>\n",
       "      <td>0</td>\n",
       "    </tr>\n",
       "    <tr>\n",
       "      <th>5</th>\n",
       "      <td>5</td>\n",
       "      <td>116</td>\n",
       "      <td>74</td>\n",
       "      <td>21.837785</td>\n",
       "      <td>132.714637</td>\n",
       "      <td>25.6</td>\n",
       "      <td>0.201</td>\n",
       "      <td>30</td>\n",
       "      <td>0</td>\n",
       "    </tr>\n",
       "  </tbody>\n",
       "</table>\n",
       "</div>"
      ],
      "text/plain": [
       "   Pregnancies  Glucose  BloodPressure  SkinThickness     Insulin   BMI  \\\n",
       "0            6      148             72      35.000000  241.427854  33.6   \n",
       "1            1       85             66      29.000000   77.663658  26.6   \n",
       "2            8      183             64      21.316083  197.772724  23.3   \n",
       "3            1       89             66      23.000000   94.000000  28.1   \n",
       "5            5      116             74      21.837785  132.714637  25.6   \n",
       "\n",
       "   DiabetesPedigreeFunction  Age  Outcome  \n",
       "0                     0.627   50        1  \n",
       "1                     0.351   31        0  \n",
       "2                     0.672   32        1  \n",
       "3                     0.167   21        0  \n",
       "5                     0.201   30        0  "
      ]
     },
     "metadata": {},
     "output_type": "display_data"
    }
   ],
   "source": [
    "# Perfore the imputation\n",
    "DfIterative.iloc[:, :] = imputer_ite.fit_transform(DfIterative)\n",
    "\n",
    "# Preview the data after iterative imputation\n",
    "print('\\nPreview the data after iterative imputation: \\n')\n",
    "display(DfIterative.head())               "
   ]
  },
  {
   "cell_type": "markdown",
   "id": "9c015e40",
   "metadata": {},
   "source": [
    "<div id=\"knn\"> \n",
    "\t\t<h2>K-Nearest Neighbors (KNN) Imputation</h2>    \n",
    "</div>"
   ]
  },
  {
   "cell_type": "code",
   "execution_count": 21,
   "id": "d3c2e063",
   "metadata": {},
   "outputs": [],
   "source": [
    "# Create a copy of the original dataset  \n",
    "Df_knn = df_iqr.copy() \n",
    "\n",
    "# Initialize the KNN imputer  \n",
    "imputer_knn = KNNImputer(n_neighbors=5)\n",
    "# Fit the imputer and transform the dataset  \n",
    "imputed_data_knn = imputer_knn.fit_transform(Df_knn)"
   ]
  },
  {
   "cell_type": "code",
   "execution_count": 22,
   "id": "8e920c96",
   "metadata": {},
   "outputs": [
    {
     "name": "stdout",
     "output_type": "stream",
     "text": [
      "\n",
      "Preview the data after KNN imputation: \n",
      "\n"
     ]
    },
    {
     "data": {
      "text/html": [
       "<div>\n",
       "<style scoped>\n",
       "    .dataframe tbody tr th:only-of-type {\n",
       "        vertical-align: middle;\n",
       "    }\n",
       "\n",
       "    .dataframe tbody tr th {\n",
       "        vertical-align: top;\n",
       "    }\n",
       "\n",
       "    .dataframe thead th {\n",
       "        text-align: right;\n",
       "    }\n",
       "</style>\n",
       "<table border=\"1\" class=\"dataframe\">\n",
       "  <thead>\n",
       "    <tr style=\"text-align: right;\">\n",
       "      <th></th>\n",
       "      <th>Pregnancies</th>\n",
       "      <th>Glucose</th>\n",
       "      <th>BloodPressure</th>\n",
       "      <th>SkinThickness</th>\n",
       "      <th>Insulin</th>\n",
       "      <th>BMI</th>\n",
       "      <th>DiabetesPedigreeFunction</th>\n",
       "      <th>Age</th>\n",
       "      <th>Outcome</th>\n",
       "    </tr>\n",
       "  </thead>\n",
       "  <tbody>\n",
       "    <tr>\n",
       "      <th>0</th>\n",
       "      <td>6.0</td>\n",
       "      <td>148.0</td>\n",
       "      <td>72.0</td>\n",
       "      <td>35.0</td>\n",
       "      <td>154.8</td>\n",
       "      <td>33.6</td>\n",
       "      <td>0.627</td>\n",
       "      <td>50.0</td>\n",
       "      <td>1.0</td>\n",
       "    </tr>\n",
       "    <tr>\n",
       "      <th>1</th>\n",
       "      <td>1.0</td>\n",
       "      <td>85.0</td>\n",
       "      <td>66.0</td>\n",
       "      <td>29.0</td>\n",
       "      <td>58.6</td>\n",
       "      <td>26.6</td>\n",
       "      <td>0.351</td>\n",
       "      <td>31.0</td>\n",
       "      <td>0.0</td>\n",
       "    </tr>\n",
       "    <tr>\n",
       "      <th>2</th>\n",
       "      <td>8.0</td>\n",
       "      <td>183.0</td>\n",
       "      <td>64.0</td>\n",
       "      <td>25.2</td>\n",
       "      <td>135.6</td>\n",
       "      <td>23.3</td>\n",
       "      <td>0.672</td>\n",
       "      <td>32.0</td>\n",
       "      <td>1.0</td>\n",
       "    </tr>\n",
       "    <tr>\n",
       "      <th>3</th>\n",
       "      <td>1.0</td>\n",
       "      <td>89.0</td>\n",
       "      <td>66.0</td>\n",
       "      <td>23.0</td>\n",
       "      <td>94.0</td>\n",
       "      <td>28.1</td>\n",
       "      <td>0.167</td>\n",
       "      <td>21.0</td>\n",
       "      <td>0.0</td>\n",
       "    </tr>\n",
       "    <tr>\n",
       "      <th>4</th>\n",
       "      <td>5.0</td>\n",
       "      <td>116.0</td>\n",
       "      <td>74.0</td>\n",
       "      <td>20.6</td>\n",
       "      <td>102.8</td>\n",
       "      <td>25.6</td>\n",
       "      <td>0.201</td>\n",
       "      <td>30.0</td>\n",
       "      <td>0.0</td>\n",
       "    </tr>\n",
       "  </tbody>\n",
       "</table>\n",
       "</div>"
      ],
      "text/plain": [
       "   Pregnancies  Glucose  BloodPressure  SkinThickness  Insulin   BMI  \\\n",
       "0          6.0    148.0           72.0           35.0    154.8  33.6   \n",
       "1          1.0     85.0           66.0           29.0     58.6  26.6   \n",
       "2          8.0    183.0           64.0           25.2    135.6  23.3   \n",
       "3          1.0     89.0           66.0           23.0     94.0  28.1   \n",
       "4          5.0    116.0           74.0           20.6    102.8  25.6   \n",
       "\n",
       "   DiabetesPedigreeFunction   Age  Outcome  \n",
       "0                     0.627  50.0      1.0  \n",
       "1                     0.351  31.0      0.0  \n",
       "2                     0.672  32.0      1.0  \n",
       "3                     0.167  21.0      0.0  \n",
       "4                     0.201  30.0      0.0  "
      ]
     },
     "metadata": {},
     "output_type": "display_data"
    }
   ],
   "source": [
    "# Convert back to dataframe  \n",
    "Df_imputed_knn = pd.DataFrame(imputed_data_knn, columns=Df_knn.columns)\n",
    "\n",
    "# Preview the data after KNN imputation\n",
    "print('\\nPreview the data after KNN imputation: \\n')\n",
    "display(Df_imputed_knn.head())"
   ]
  },
  {
   "cell_type": "markdown",
   "id": "d7dc6d64",
   "metadata": {},
   "source": [
    "<div id=\"output\"> \n",
    "    <h2>Output the results</h2>    \n",
    "</div>"
   ]
  },
  {
   "cell_type": "markdown",
   "id": "f7727a30",
   "metadata": {},
   "source": [
    "Compare the different Imputation Methods using **Kernel Density Estimation (KDE) Plots**"
   ]
  },
  {
   "cell_type": "code",
   "execution_count": 23,
   "id": "f0a71a57",
   "metadata": {},
   "outputs": [
    {
     "data": {
      "image/png": "[encoded data removed]",
      "text/plain": [
       "<Figure size 1400x1000 with 1 Axes>"
      ]
     },
     "metadata": {},
     "output_type": "display_data"
    }
   ],
   "source": [
    "# 'SkinThickness' column\n",
    "# Setup the plotting environment  \n",
    "plt.figure(figsize=(14, 10))  \n",
    "\n",
    "# KDE for 'SkinThickness' column  \n",
    "sns.kdeplot(df_iqr['SkinThickness'], label='Baseline', fill=False, bw_adjust=0.5)  \n",
    "sns.kdeplot(DfMean['SkinThickness'], label='Mean Imputation', fill=False, bw_adjust=0.5)  \n",
    "sns.kdeplot(DfIterative['SkinThickness'], label='Iterative Imputation', fill=False, bw_adjust=0.5)\n",
    "sns.kdeplot(Df_imputed_knn['SkinThickness'], label='KNN Imputation', fill=False, bw_adjust=0.5) \n",
    "\n",
    "# Aesthetic aspects of the plot  \n",
    "plt.title('KDE Plot comparison of SkinThickness across Imputation Methods')  \n",
    "plt.xlabel('SkinThickness')  \n",
    "plt.ylabel('Density')  \n",
    "plt.legend()  \n",
    "plt.grid(True)  \n",
    "plt.show()  "
   ]
  },
  {
   "cell_type": "code",
   "execution_count": 24,
   "id": "0af4e555",
   "metadata": {},
   "outputs": [
    {
     "data": {
      "image/png": "[encoded data removed]",
      "text/plain": [
       "<Figure size 1400x1000 with 1 Axes>"
      ]
     },
     "metadata": {},
     "output_type": "display_data"
    }
   ],
   "source": [
    "# 'Insulin' column\n",
    "# Setup the plotting environment  \n",
    "plt.figure(figsize=(14, 10))  \n",
    "\n",
    "# KDE for 'Insulin' column\n",
    "sns.kdeplot(df_iqr['Insulin'], label='Baseline', fill=False, bw_adjust=0.5)  \n",
    "sns.kdeplot(DfMean['Insulin'], label='Mean Imputation', fill=False, bw_adjust=0.5)     \n",
    "sns.kdeplot(DfIterative['Insulin'], label='Iterative Imputation', fill=False, bw_adjust=0.5)\n",
    "sns.kdeplot(Df_imputed_knn['Insulin'], label='KNN Imputation', fill=False, bw_adjust=0.5)\n",
    "\n",
    "# Aesthetic aspects of the plot\n",
    "plt.title('KDE Plot comparison of Insulin across Imputation Methods')  \n",
    "plt.xlabel('Insulin')  \n",
    "plt.ylabel('Density')  \n",
    "plt.legend()  \n",
    "plt.grid(True)  \n",
    "plt.show()"
   ]
  },
  {
   "cell_type": "code",
   "execution_count": 25,
   "id": "22788914",
   "metadata": {},
   "outputs": [
    {
     "name": "stdout",
     "output_type": "stream",
     "text": [
      "\n",
      "Continue working with iterative imputation after comparing different imputation methods:\n",
      "\n"
     ]
    },
    {
     "data": {
      "text/html": [
       "<div>\n",
       "<style scoped>\n",
       "    .dataframe tbody tr th:only-of-type {\n",
       "        vertical-align: middle;\n",
       "    }\n",
       "\n",
       "    .dataframe tbody tr th {\n",
       "        vertical-align: top;\n",
       "    }\n",
       "\n",
       "    .dataframe thead th {\n",
       "        text-align: right;\n",
       "    }\n",
       "</style>\n",
       "<table border=\"1\" class=\"dataframe\">\n",
       "  <thead>\n",
       "    <tr style=\"text-align: right;\">\n",
       "      <th></th>\n",
       "      <th>Pregnancies</th>\n",
       "      <th>Glucose</th>\n",
       "      <th>BloodPressure</th>\n",
       "      <th>SkinThickness</th>\n",
       "      <th>Insulin</th>\n",
       "      <th>BMI</th>\n",
       "      <th>DiabetesPedigreeFunction</th>\n",
       "      <th>Age</th>\n",
       "      <th>Outcome</th>\n",
       "    </tr>\n",
       "  </thead>\n",
       "  <tbody>\n",
       "    <tr>\n",
       "      <th>0</th>\n",
       "      <td>6</td>\n",
       "      <td>148</td>\n",
       "      <td>72</td>\n",
       "      <td>35.000000</td>\n",
       "      <td>241.427854</td>\n",
       "      <td>33.6</td>\n",
       "      <td>0.627</td>\n",
       "      <td>50</td>\n",
       "      <td>1</td>\n",
       "    </tr>\n",
       "    <tr>\n",
       "      <th>1</th>\n",
       "      <td>1</td>\n",
       "      <td>85</td>\n",
       "      <td>66</td>\n",
       "      <td>29.000000</td>\n",
       "      <td>77.663658</td>\n",
       "      <td>26.6</td>\n",
       "      <td>0.351</td>\n",
       "      <td>31</td>\n",
       "      <td>0</td>\n",
       "    </tr>\n",
       "    <tr>\n",
       "      <th>2</th>\n",
       "      <td>8</td>\n",
       "      <td>183</td>\n",
       "      <td>64</td>\n",
       "      <td>21.316083</td>\n",
       "      <td>197.772724</td>\n",
       "      <td>23.3</td>\n",
       "      <td>0.672</td>\n",
       "      <td>32</td>\n",
       "      <td>1</td>\n",
       "    </tr>\n",
       "    <tr>\n",
       "      <th>3</th>\n",
       "      <td>1</td>\n",
       "      <td>89</td>\n",
       "      <td>66</td>\n",
       "      <td>23.000000</td>\n",
       "      <td>94.000000</td>\n",
       "      <td>28.1</td>\n",
       "      <td>0.167</td>\n",
       "      <td>21</td>\n",
       "      <td>0</td>\n",
       "    </tr>\n",
       "    <tr>\n",
       "      <th>5</th>\n",
       "      <td>5</td>\n",
       "      <td>116</td>\n",
       "      <td>74</td>\n",
       "      <td>21.837785</td>\n",
       "      <td>132.714637</td>\n",
       "      <td>25.6</td>\n",
       "      <td>0.201</td>\n",
       "      <td>30</td>\n",
       "      <td>0</td>\n",
       "    </tr>\n",
       "    <tr>\n",
       "      <th>...</th>\n",
       "      <td>...</td>\n",
       "      <td>...</td>\n",
       "      <td>...</td>\n",
       "      <td>...</td>\n",
       "      <td>...</td>\n",
       "      <td>...</td>\n",
       "      <td>...</td>\n",
       "      <td>...</td>\n",
       "      <td>...</td>\n",
       "    </tr>\n",
       "    <tr>\n",
       "      <th>763</th>\n",
       "      <td>10</td>\n",
       "      <td>101</td>\n",
       "      <td>76</td>\n",
       "      <td>48.000000</td>\n",
       "      <td>180.000000</td>\n",
       "      <td>32.9</td>\n",
       "      <td>0.171</td>\n",
       "      <td>63</td>\n",
       "      <td>0</td>\n",
       "    </tr>\n",
       "    <tr>\n",
       "      <th>764</th>\n",
       "      <td>2</td>\n",
       "      <td>122</td>\n",
       "      <td>70</td>\n",
       "      <td>27.000000</td>\n",
       "      <td>225.650687</td>\n",
       "      <td>36.8</td>\n",
       "      <td>0.340</td>\n",
       "      <td>27</td>\n",
       "      <td>0</td>\n",
       "    </tr>\n",
       "    <tr>\n",
       "      <th>765</th>\n",
       "      <td>5</td>\n",
       "      <td>121</td>\n",
       "      <td>72</td>\n",
       "      <td>23.000000</td>\n",
       "      <td>112.000000</td>\n",
       "      <td>26.2</td>\n",
       "      <td>0.245</td>\n",
       "      <td>30</td>\n",
       "      <td>0</td>\n",
       "    </tr>\n",
       "    <tr>\n",
       "      <th>766</th>\n",
       "      <td>1</td>\n",
       "      <td>126</td>\n",
       "      <td>60</td>\n",
       "      <td>17.206246</td>\n",
       "      <td>219.718443</td>\n",
       "      <td>30.1</td>\n",
       "      <td>0.349</td>\n",
       "      <td>47</td>\n",
       "      <td>1</td>\n",
       "    </tr>\n",
       "    <tr>\n",
       "      <th>767</th>\n",
       "      <td>1</td>\n",
       "      <td>93</td>\n",
       "      <td>70</td>\n",
       "      <td>31.000000</td>\n",
       "      <td>159.711301</td>\n",
       "      <td>30.4</td>\n",
       "      <td>0.315</td>\n",
       "      <td>23</td>\n",
       "      <td>0</td>\n",
       "    </tr>\n",
       "  </tbody>\n",
       "</table>\n",
       "<p>639 rows × 9 columns</p>\n",
       "</div>"
      ],
      "text/plain": [
       "     Pregnancies  Glucose  BloodPressure  SkinThickness     Insulin   BMI  \\\n",
       "0              6      148             72      35.000000  241.427854  33.6   \n",
       "1              1       85             66      29.000000   77.663658  26.6   \n",
       "2              8      183             64      21.316083  197.772724  23.3   \n",
       "3              1       89             66      23.000000   94.000000  28.1   \n",
       "5              5      116             74      21.837785  132.714637  25.6   \n",
       "..           ...      ...            ...            ...         ...   ...   \n",
       "763           10      101             76      48.000000  180.000000  32.9   \n",
       "764            2      122             70      27.000000  225.650687  36.8   \n",
       "765            5      121             72      23.000000  112.000000  26.2   \n",
       "766            1      126             60      17.206246  219.718443  30.1   \n",
       "767            1       93             70      31.000000  159.711301  30.4   \n",
       "\n",
       "     DiabetesPedigreeFunction  Age  Outcome  \n",
       "0                       0.627   50        1  \n",
       "1                       0.351   31        0  \n",
       "2                       0.672   32        1  \n",
       "3                       0.167   21        0  \n",
       "5                       0.201   30        0  \n",
       "..                        ...  ...      ...  \n",
       "763                     0.171   63        0  \n",
       "764                     0.340   27        0  \n",
       "765                     0.245   30        0  \n",
       "766                     0.349   47        1  \n",
       "767                     0.315   23        0  \n",
       "\n",
       "[639 rows x 9 columns]"
      ]
     },
     "metadata": {},
     "output_type": "display_data"
    }
   ],
   "source": [
    "print(\"\\nContinue working with iterative imputation after comparing different imputation methods:\\n\")\n",
    "display(DfIterative)"
   ]
  },
  {
   "cell_type": "markdown",
   "id": "7e24e39f",
   "metadata": {},
   "source": [
    "<hr>\n",
    "<div id=\"standardization\"> \n",
    "    <h2>Standardization</h2>    \n",
    "</div>\n",
    "<div>\n",
    "    <ol>\n",
    "        <li><a href=\"#z-score\">Z-Score Standardization (Standard Scaling)</a></li>\n",
    "        <li><a href=\"#min-max\">Min-Max Scaling (Normalization)</a></li> \n",
    "        <li><a href=\"#output\">Output the results</a></li>     \n",
    "    </ol>\n",
    "</div>\n",
    "<br>"
   ]
  },
  {
   "cell_type": "markdown",
   "id": "04a0cf61",
   "metadata": {},
   "source": [
    "<div id=\"z-score\"> \n",
    "    <h2>Z-Score Standardization (Standard Scaling)</h2>    \n",
    "</div>"
   ]
  },
  {
   "cell_type": "code",
   "execution_count": 26,
   "id": "0349f1cd",
   "metadata": {},
   "outputs": [],
   "source": [
    "# Apply the Z-score standardization\n",
    "Z_scaler = StandardScaler()  \n",
    "Z_Scaled = Z_scaler.fit_transform(DfIterative)\n",
    "\n",
    "# Create a new dataframe with the scaled data  \n",
    "df_Z_Scaled = pd.DataFrame(Z_Scaled, columns = list(DfIterative.columns))"
   ]
  },
  {
   "cell_type": "code",
   "execution_count": 27,
   "id": "d8511541",
   "metadata": {},
   "outputs": [
    {
     "data": {
      "text/html": [
       "<div>\n",
       "<style scoped>\n",
       "    .dataframe tbody tr th:only-of-type {\n",
       "        vertical-align: middle;\n",
       "    }\n",
       "\n",
       "    .dataframe tbody tr th {\n",
       "        vertical-align: top;\n",
       "    }\n",
       "\n",
       "    .dataframe thead th {\n",
       "        text-align: right;\n",
       "    }\n",
       "</style>\n",
       "<table border=\"1\" class=\"dataframe\">\n",
       "  <thead>\n",
       "    <tr style=\"text-align: right;\">\n",
       "      <th></th>\n",
       "      <th>Pregnancies</th>\n",
       "      <th>Glucose</th>\n",
       "      <th>BloodPressure</th>\n",
       "      <th>SkinThickness</th>\n",
       "      <th>Insulin</th>\n",
       "      <th>BMI</th>\n",
       "      <th>DiabetesPedigreeFunction</th>\n",
       "      <th>Age</th>\n",
       "      <th>Outcome</th>\n",
       "    </tr>\n",
       "  </thead>\n",
       "  <tbody>\n",
       "    <tr>\n",
       "      <th>0</th>\n",
       "      <td>0.673824</td>\n",
       "      <td>0.991351</td>\n",
       "      <td>-0.010626</td>\n",
       "      <td>0.694306</td>\n",
       "      <td>1.653288</td>\n",
       "      <td>0.247974</td>\n",
       "      <td>0.788892</td>\n",
       "      <td>1.561132</td>\n",
       "      <td>1</td>\n",
       "    </tr>\n",
       "    <tr>\n",
       "      <th>1</th>\n",
       "      <td>-0.860651</td>\n",
       "      <td>-1.170674</td>\n",
       "      <td>-0.539736</td>\n",
       "      <td>0.088124</td>\n",
       "      <td>-0.768397</td>\n",
       "      <td>-0.840853</td>\n",
       "      <td>-0.311759</td>\n",
       "      <td>-0.154912</td>\n",
       "      <td>0</td>\n",
       "    </tr>\n",
       "    <tr>\n",
       "      <th>2</th>\n",
       "      <td>1.287615</td>\n",
       "      <td>2.192476</td>\n",
       "      <td>-0.716106</td>\n",
       "      <td>-0.688185</td>\n",
       "      <td>1.007732</td>\n",
       "      <td>-1.354158</td>\n",
       "      <td>0.968346</td>\n",
       "      <td>-0.064594</td>\n",
       "      <td>1</td>\n",
       "    </tr>\n",
       "    <tr>\n",
       "      <th>3</th>\n",
       "      <td>-0.860651</td>\n",
       "      <td>-1.033403</td>\n",
       "      <td>-0.539736</td>\n",
       "      <td>-0.518059</td>\n",
       "      <td>-0.526821</td>\n",
       "      <td>-0.607533</td>\n",
       "      <td>-1.045526</td>\n",
       "      <td>-1.058093</td>\n",
       "      <td>0</td>\n",
       "    </tr>\n",
       "    <tr>\n",
       "      <th>4</th>\n",
       "      <td>0.366929</td>\n",
       "      <td>-0.106820</td>\n",
       "      <td>0.165744</td>\n",
       "      <td>-0.635478</td>\n",
       "      <td>0.045677</td>\n",
       "      <td>-0.996400</td>\n",
       "      <td>-0.909939</td>\n",
       "      <td>-0.245230</td>\n",
       "      <td>0</td>\n",
       "    </tr>\n",
       "  </tbody>\n",
       "</table>\n",
       "</div>"
      ],
      "text/plain": [
       "   Pregnancies   Glucose  BloodPressure  SkinThickness   Insulin       BMI  \\\n",
       "0     0.673824  0.991351      -0.010626       0.694306  1.653288  0.247974   \n",
       "1    -0.860651 -1.170674      -0.539736       0.088124 -0.768397 -0.840853   \n",
       "2     1.287615  2.192476      -0.716106      -0.688185  1.007732 -1.354158   \n",
       "3    -0.860651 -1.033403      -0.539736      -0.518059 -0.526821 -0.607533   \n",
       "4     0.366929 -0.106820       0.165744      -0.635478  0.045677 -0.996400   \n",
       "\n",
       "   DiabetesPedigreeFunction       Age  Outcome  \n",
       "0                  0.788892  1.561132        1  \n",
       "1                 -0.311759 -0.154912        0  \n",
       "2                  0.968346 -0.064594        1  \n",
       "3                 -1.045526 -1.058093        0  \n",
       "4                 -0.909939 -0.245230        0  "
      ]
     },
     "metadata": {},
     "output_type": "display_data"
    }
   ],
   "source": [
    "# Use all columns except 'Outcome'\n",
    "df_Z_Scaled_final = df_Z_Scaled.drop('Outcome', axis = 1)\n",
    "\n",
    "# Add the 'Outcome' column back to the dataframe\n",
    "df_Z_Scaled_final['Outcome'] = DfIterative['Outcome'].tolist()\n",
    "display(df_Z_Scaled_final.head())"
   ]
  },
  {
   "cell_type": "code",
   "execution_count": 28,
   "id": "073339f4",
   "metadata": {},
   "outputs": [],
   "source": [
    "# Validate the Z-score standardization\n",
    "# Separate features and target variable  \n",
    "x_z = df_Z_Scaled_final.drop('Outcome', axis = 1)               # Features\n",
    "y_z = df_Z_Scaled_final['Outcome']                              # Target variable\n",
    "\n",
    "# Split the data into training and testing sets (80/20)  \n",
    "x_train_z, x_test_z, y_train_z, y_test_z = train_test_split(x_z, y_z, test_size=0.2, random_state=42)  "
   ]
  },
  {
   "cell_type": "code",
   "execution_count": 29,
   "id": "4159c9ee",
   "metadata": {},
   "outputs": [
    {
     "name": "stdout",
     "output_type": "stream",
     "text": [
      "\n",
      "Cross-validated accuracy after the Z-standard scaling: 0.7573\n",
      "\n"
     ]
    }
   ],
   "source": [
    "# Initialize the KNN classifier  \n",
    "clf_z = KNeighborsClassifier(n_neighbors=10)  \n",
    "\n",
    "# Perform cross-validation to check accuracy after the Z-standard scaling  \n",
    "accuracy_z = np.mean(cross_val_score(clf_z, x_train_z, y_train_z, scoring='accuracy', cv=10)) \n",
    "print(f'\\nCross-validated accuracy after the Z-standard scaling: {accuracy_z:.4f}\\n')"
   ]
  },
  {
   "cell_type": "markdown",
   "id": "4ae6a7a5",
   "metadata": {},
   "source": [
    "<div id=\"min-max\"> \n",
    "    <h2>Min-Max Scaling (Normalization)</h2>    \n",
    "</div>"
   ]
  },
  {
   "cell_type": "code",
   "execution_count": 30,
   "id": "92162a9e",
   "metadata": {},
   "outputs": [
    {
     "data": {
      "text/html": [
       "<div>\n",
       "<style scoped>\n",
       "    .dataframe tbody tr th:only-of-type {\n",
       "        vertical-align: middle;\n",
       "    }\n",
       "\n",
       "    .dataframe tbody tr th {\n",
       "        vertical-align: top;\n",
       "    }\n",
       "\n",
       "    .dataframe thead th {\n",
       "        text-align: right;\n",
       "    }\n",
       "</style>\n",
       "<table border=\"1\" class=\"dataframe\">\n",
       "  <thead>\n",
       "    <tr style=\"text-align: right;\">\n",
       "      <th></th>\n",
       "      <th>Pregnancies</th>\n",
       "      <th>Glucose</th>\n",
       "      <th>BloodPressure</th>\n",
       "      <th>SkinThickness</th>\n",
       "      <th>Insulin</th>\n",
       "      <th>BMI</th>\n",
       "      <th>DiabetesPedigreeFunction</th>\n",
       "      <th>Age</th>\n",
       "      <th>Outcome</th>\n",
       "    </tr>\n",
       "  </thead>\n",
       "  <tbody>\n",
       "    <tr>\n",
       "      <th>0</th>\n",
       "      <td>0.461538</td>\n",
       "      <td>0.675325</td>\n",
       "      <td>0.500000</td>\n",
       "      <td>0.572922</td>\n",
       "      <td>0.753171</td>\n",
       "      <td>0.484277</td>\n",
       "      <td>0.493261</td>\n",
       "      <td>0.644444</td>\n",
       "      <td>1.0</td>\n",
       "    </tr>\n",
       "    <tr>\n",
       "      <th>1</th>\n",
       "      <td>0.076923</td>\n",
       "      <td>0.266234</td>\n",
       "      <td>0.411765</td>\n",
       "      <td>0.470423</td>\n",
       "      <td>0.242123</td>\n",
       "      <td>0.264151</td>\n",
       "      <td>0.245283</td>\n",
       "      <td>0.222222</td>\n",
       "      <td>0.0</td>\n",
       "    </tr>\n",
       "    <tr>\n",
       "      <th>2</th>\n",
       "      <td>0.615385</td>\n",
       "      <td>0.902597</td>\n",
       "      <td>0.382353</td>\n",
       "      <td>0.339158</td>\n",
       "      <td>0.616939</td>\n",
       "      <td>0.160377</td>\n",
       "      <td>0.533693</td>\n",
       "      <td>0.244444</td>\n",
       "      <td>1.0</td>\n",
       "    </tr>\n",
       "    <tr>\n",
       "      <th>3</th>\n",
       "      <td>0.076923</td>\n",
       "      <td>0.292208</td>\n",
       "      <td>0.411765</td>\n",
       "      <td>0.367925</td>\n",
       "      <td>0.293102</td>\n",
       "      <td>0.311321</td>\n",
       "      <td>0.079964</td>\n",
       "      <td>0.000000</td>\n",
       "      <td>0.0</td>\n",
       "    </tr>\n",
       "    <tr>\n",
       "      <th>4</th>\n",
       "      <td>0.384615</td>\n",
       "      <td>0.467532</td>\n",
       "      <td>0.529412</td>\n",
       "      <td>0.348070</td>\n",
       "      <td>0.413917</td>\n",
       "      <td>0.232704</td>\n",
       "      <td>0.110512</td>\n",
       "      <td>0.200000</td>\n",
       "      <td>0.0</td>\n",
       "    </tr>\n",
       "  </tbody>\n",
       "</table>\n",
       "</div>"
      ],
      "text/plain": [
       "   Pregnancies   Glucose  BloodPressure  SkinThickness   Insulin       BMI  \\\n",
       "0     0.461538  0.675325       0.500000       0.572922  0.753171  0.484277   \n",
       "1     0.076923  0.266234       0.411765       0.470423  0.242123  0.264151   \n",
       "2     0.615385  0.902597       0.382353       0.339158  0.616939  0.160377   \n",
       "3     0.076923  0.292208       0.411765       0.367925  0.293102  0.311321   \n",
       "4     0.384615  0.467532       0.529412       0.348070  0.413917  0.232704   \n",
       "\n",
       "   DiabetesPedigreeFunction       Age  Outcome  \n",
       "0                  0.493261  0.644444      1.0  \n",
       "1                  0.245283  0.222222      0.0  \n",
       "2                  0.533693  0.244444      1.0  \n",
       "3                  0.079964  0.000000      0.0  \n",
       "4                  0.110512  0.200000      0.0  "
      ]
     },
     "metadata": {},
     "output_type": "display_data"
    }
   ],
   "source": [
    "# Apply Min Max scaler\n",
    "MM_scaler = MinMaxScaler()\n",
    "Min_Max_Scaled = MM_scaler.fit_transform(DfIterative)\n",
    "\n",
    "# Create a new dataframe with the scaled data \n",
    "df_Min_Max_Scaled_final = pd.DataFrame(Min_Max_Scaled, columns = list(DfIterative.columns))\n",
    "display(df_Min_Max_Scaled_final.head())"
   ]
  },
  {
   "cell_type": "code",
   "execution_count": 31,
   "id": "3be8c749",
   "metadata": {},
   "outputs": [],
   "source": [
    "# Validate the Min Max Scaler\n",
    "# Separate features and target variable  \n",
    "x_mm = df_Min_Max_Scaled_final.drop('Outcome', axis = 1)            # Features\n",
    "y_mm = df_Min_Max_Scaled_final['Outcome']                           # Target variable\n",
    "\n",
    "# Split the data into training and testing sets (80/20) \n",
    "x_train_mm, x_test_mm, y_train_mm, y_test_mm = train_test_split(x_mm, y_mm, test_size=0.2, random_state=42) "
   ]
  },
  {
   "cell_type": "code",
   "execution_count": 32,
   "id": "2b37880a",
   "metadata": {},
   "outputs": [
    {
     "name": "stdout",
     "output_type": "stream",
     "text": [
      "\n",
      "Cross-validated accuracy after the Min Max scaling: 0.7436\n",
      "\n"
     ]
    }
   ],
   "source": [
    "# Initialize the KNN classifier  \n",
    "clf_mm = KNeighborsClassifier(n_neighbors=10)  \n",
    "\n",
    "# Perform cross-validation to check accuracy after the Min Max scaling  \n",
    "accuracy_mm = np.mean(cross_val_score(clf_mm, x_train_mm, y_train_mm, scoring='accuracy', cv=10))\n",
    "print(f'\\nCross-validated accuracy after the Min Max scaling: {accuracy_mm:.4f}\\n')"
   ]
  },
  {
   "cell_type": "markdown",
   "id": "7e77a9a6",
   "metadata": {},
   "source": [
    "<div id=\"output\"> \n",
    "    <h2>Output the results</h2>    \n",
    "</div>"
   ]
  },
  {
   "cell_type": "code",
   "execution_count": 33,
   "id": "07462c58",
   "metadata": {},
   "outputs": [
    {
     "name": "stdout",
     "output_type": "stream",
     "text": [
      "\n",
      "Z-standard scaling result: 0.757315233785822\n",
      "\n",
      "Min Max scaling result: 0.7436274509803922\n"
     ]
    }
   ],
   "source": [
    "# Output the results of different standardization methods   \n",
    "print('\\nZ-standard scaling result:', accuracy_z)  # Print accuracy score for the z-score standardization method  \n",
    "print('\\nMin Max scaling result:', accuracy_mm)    # Print accuracy score for the min max scaler method "
   ]
  },
  {
   "cell_type": "code",
   "execution_count": 34,
   "id": "3dd2ed89",
   "metadata": {},
   "outputs": [
    {
     "name": "stdout",
     "output_type": "stream",
     "text": [
      "\n",
      "Continue working with the dataset scaled by the Z-score Standardization after comparing different scaling methods:\n",
      "\n"
     ]
    },
    {
     "data": {
      "text/html": [
       "<div>\n",
       "<style scoped>\n",
       "    .dataframe tbody tr th:only-of-type {\n",
       "        vertical-align: middle;\n",
       "    }\n",
       "\n",
       "    .dataframe tbody tr th {\n",
       "        vertical-align: top;\n",
       "    }\n",
       "\n",
       "    .dataframe thead th {\n",
       "        text-align: right;\n",
       "    }\n",
       "</style>\n",
       "<table border=\"1\" class=\"dataframe\">\n",
       "  <thead>\n",
       "    <tr style=\"text-align: right;\">\n",
       "      <th></th>\n",
       "      <th>Pregnancies</th>\n",
       "      <th>Glucose</th>\n",
       "      <th>BloodPressure</th>\n",
       "      <th>SkinThickness</th>\n",
       "      <th>Insulin</th>\n",
       "      <th>BMI</th>\n",
       "      <th>DiabetesPedigreeFunction</th>\n",
       "      <th>Age</th>\n",
       "      <th>Outcome</th>\n",
       "    </tr>\n",
       "  </thead>\n",
       "  <tbody>\n",
       "    <tr>\n",
       "      <th>0</th>\n",
       "      <td>0.673824</td>\n",
       "      <td>0.991351</td>\n",
       "      <td>-0.010626</td>\n",
       "      <td>0.694306</td>\n",
       "      <td>1.653288</td>\n",
       "      <td>0.247974</td>\n",
       "      <td>0.788892</td>\n",
       "      <td>1.561132</td>\n",
       "      <td>1</td>\n",
       "    </tr>\n",
       "    <tr>\n",
       "      <th>1</th>\n",
       "      <td>-0.860651</td>\n",
       "      <td>-1.170674</td>\n",
       "      <td>-0.539736</td>\n",
       "      <td>0.088124</td>\n",
       "      <td>-0.768397</td>\n",
       "      <td>-0.840853</td>\n",
       "      <td>-0.311759</td>\n",
       "      <td>-0.154912</td>\n",
       "      <td>0</td>\n",
       "    </tr>\n",
       "    <tr>\n",
       "      <th>2</th>\n",
       "      <td>1.287615</td>\n",
       "      <td>2.192476</td>\n",
       "      <td>-0.716106</td>\n",
       "      <td>-0.688185</td>\n",
       "      <td>1.007732</td>\n",
       "      <td>-1.354158</td>\n",
       "      <td>0.968346</td>\n",
       "      <td>-0.064594</td>\n",
       "      <td>1</td>\n",
       "    </tr>\n",
       "    <tr>\n",
       "      <th>3</th>\n",
       "      <td>-0.860651</td>\n",
       "      <td>-1.033403</td>\n",
       "      <td>-0.539736</td>\n",
       "      <td>-0.518059</td>\n",
       "      <td>-0.526821</td>\n",
       "      <td>-0.607533</td>\n",
       "      <td>-1.045526</td>\n",
       "      <td>-1.058093</td>\n",
       "      <td>0</td>\n",
       "    </tr>\n",
       "    <tr>\n",
       "      <th>4</th>\n",
       "      <td>0.366929</td>\n",
       "      <td>-0.106820</td>\n",
       "      <td>0.165744</td>\n",
       "      <td>-0.635478</td>\n",
       "      <td>0.045677</td>\n",
       "      <td>-0.996400</td>\n",
       "      <td>-0.909939</td>\n",
       "      <td>-0.245230</td>\n",
       "      <td>0</td>\n",
       "    </tr>\n",
       "  </tbody>\n",
       "</table>\n",
       "</div>"
      ],
      "text/plain": [
       "   Pregnancies   Glucose  BloodPressure  SkinThickness   Insulin       BMI  \\\n",
       "0     0.673824  0.991351      -0.010626       0.694306  1.653288  0.247974   \n",
       "1    -0.860651 -1.170674      -0.539736       0.088124 -0.768397 -0.840853   \n",
       "2     1.287615  2.192476      -0.716106      -0.688185  1.007732 -1.354158   \n",
       "3    -0.860651 -1.033403      -0.539736      -0.518059 -0.526821 -0.607533   \n",
       "4     0.366929 -0.106820       0.165744      -0.635478  0.045677 -0.996400   \n",
       "\n",
       "   DiabetesPedigreeFunction       Age  Outcome  \n",
       "0                  0.788892  1.561132        1  \n",
       "1                 -0.311759 -0.154912        0  \n",
       "2                  0.968346 -0.064594        1  \n",
       "3                 -1.045526 -1.058093        0  \n",
       "4                 -0.909939 -0.245230        0  "
      ]
     },
     "metadata": {},
     "output_type": "display_data"
    }
   ],
   "source": [
    "print(\"\\nContinue working with the dataset scaled by the Z-score Standardization after comparing different scaling methods:\\n\")\n",
    "df_Scaled = df_Z_Scaled_final\n",
    "display(df_Scaled.head())"
   ]
  },
  {
   "cell_type": "markdown",
   "id": "8ca93550",
   "metadata": {},
   "source": [
    "<hr>\n",
    "<div id=\"data_imbalance\"> \n",
    "    <h2>Handling Data Imbalance</h2>    \n",
    "</div>\n",
    "<div>\n",
    "    <ol>\n",
    "        <li><a href=\"#oversampling\">Oversampling</a></li>\n",
    "        <li><a href=\"#undersampling\">Undersampling</a></li> \n",
    "        <li><a href=\"#output\">Output the results</a></li>   \n",
    "    </ol>\n",
    "</div>\n",
    "<br>"
   ]
  },
  {
   "cell_type": "code",
   "execution_count": 35,
   "id": "369eab1e",
   "metadata": {},
   "outputs": [
    {
     "name": "stdout",
     "output_type": "stream",
     "text": [
      "Outcome distribution:\n",
      " Outcome\n",
      "0    439\n",
      "1    200\n",
      "Name: count, dtype: int64\n"
     ]
    }
   ],
   "source": [
    "# Check the distribution of the 'Outcome' variable\n",
    "outcome_counts = df_Scaled['Outcome'].value_counts()  \n",
    "print(\"Outcome distribution:\\n\", outcome_counts)"
   ]
  },
  {
   "cell_type": "code",
   "execution_count": 36,
   "id": "2626ab0f",
   "metadata": {},
   "outputs": [],
   "source": [
    "# Separate features and target variable \n",
    "X = df_Scaled.drop('Outcome', axis = 1)             # Features\n",
    "y = df_Scaled['Outcome']                            # Target variable\n",
    "\n",
    "# Split the data into training and testing sets (80/20)\n",
    "X_train, X_test, Y_train, Y_test = train_test_split(X, y, test_size=0.2, random_state=42, stratify=y)"
   ]
  },
  {
   "cell_type": "markdown",
   "id": "fa39d28d",
   "metadata": {},
   "source": [
    "<div id=\"oversampling\"> \n",
    "    <h2>Oversampling</h2>    \n",
    "</div>"
   ]
  },
  {
   "cell_type": "code",
   "execution_count": 37,
   "id": "c0278541",
   "metadata": {},
   "outputs": [
    {
     "name": "stdout",
     "output_type": "stream",
     "text": [
      "\n",
      "Class 1 before oversampling -->  160\n",
      "\n",
      "Class 0 before oversampling -->  351\n"
     ]
    }
   ],
   "source": [
    "# Initialize SMOTE \n",
    "sm = SMOTE(random_state=42)\n",
    "\n",
    "# Print class distribution before oversampling\n",
    "print(\"\\nClass 1 before oversampling --> \", sum(Y_train == 1))\n",
    "print(\"\\nClass 0 before oversampling --> \", sum(Y_train == 0))"
   ]
  },
  {
   "cell_type": "code",
   "execution_count": 38,
   "id": "e92e0b14",
   "metadata": {},
   "outputs": [],
   "source": [
    "# Apply SMOTE to the training data\n",
    "# X_train after oversampling --> X_train_OS\n",
    "# Y_train after oversampling --> Y_train_OS\n",
    "X_train_OS, Y_train_OS = sm.fit_resample(X_train, Y_train)"
   ]
  },
  {
   "cell_type": "code",
   "execution_count": 39,
   "id": "4725988c",
   "metadata": {},
   "outputs": [
    {
     "name": "stdout",
     "output_type": "stream",
     "text": [
      "\n",
      "The shape of X after oversampling --> (702, 8)\n",
      "\n",
      "The shape of Y after oversampling --> (702,)\n"
     ]
    }
   ],
   "source": [
    "# Print the shapes of the datasets after oversampling\n",
    "print(\"\\nThe shape of X after oversampling -->\", X_train_OS.shape)\n",
    "print(\"\\nThe shape of Y after oversampling -->\", Y_train_OS.shape)"
   ]
  },
  {
   "cell_type": "code",
   "execution_count": 40,
   "id": "735383de",
   "metadata": {},
   "outputs": [
    {
     "name": "stdout",
     "output_type": "stream",
     "text": [
      "\n",
      "Class 1 after oversampling -->  351\n",
      "\n",
      "Class 0 after oversampling -->  351\n",
      "\n",
      "\n"
     ]
    }
   ],
   "source": [
    "# Print class distribution after oversampling \n",
    "print(\"\\nClass 1 after oversampling --> \", sum(Y_train_OS == 1))\n",
    "print(\"\\nClass 0 after oversampling --> \", sum(Y_train_OS == 0))\n",
    "print(\"\\n\")"
   ]
  },
  {
   "cell_type": "code",
   "execution_count": 41,
   "id": "b045770f",
   "metadata": {},
   "outputs": [
    {
     "name": "stdout",
     "output_type": "stream",
     "text": [
      "\n",
      "Cross-validated accuracy after oversampling: 0.8705\n",
      "\n"
     ]
    }
   ],
   "source": [
    "# Validate oversampling\n",
    "# Initialize the KNN classifier  \n",
    "clf_os = KNeighborsClassifier(n_neighbors=1)  \n",
    "\n",
    "# Perform cross-validation to check accuracy after oversampling  \n",
    "accuracy_os = np.mean(cross_val_score(clf_os, X_train_OS, Y_train_OS, scoring='accuracy', cv=10))\n",
    "print(f'\\nCross-validated accuracy after oversampling: {accuracy_os:.4f}\\n')"
   ]
  },
  {
   "cell_type": "markdown",
   "id": "d0d235f3",
   "metadata": {},
   "source": [
    "<div id=\"undersampling\"> \n",
    "    <h2>Undersampling</h2>    \n",
    "</div>"
   ]
  },
  {
   "cell_type": "code",
   "execution_count": 42,
   "id": "c96036ff",
   "metadata": {},
   "outputs": [
    {
     "name": "stdout",
     "output_type": "stream",
     "text": [
      "\n",
      "Class 1 before undersampling -->  160\n",
      "\n",
      "Class 0 before undersampling -->  351\n"
     ]
    }
   ],
   "source": [
    "# Initialize NearMiss  \n",
    "nr = NearMiss()  \n",
    "\n",
    "# Print class distribution before undersampling  \n",
    "print(\"\\nClass 1 before undersampling --> \", sum(Y_train == 1))  \n",
    "print(\"\\nClass 0 before undersampling --> \", sum(Y_train == 0))    "
   ]
  },
  {
   "cell_type": "code",
   "execution_count": 43,
   "id": "503102a2",
   "metadata": {},
   "outputs": [],
   "source": [
    "# Apply NearMiss to the training data  \n",
    "# X_train after undersampling --> X_train_US\n",
    "# Y_train after undersampling --> Y_train_US\n",
    "X_train_US, Y_train_US = nr.fit_resample(X_train, Y_train) "
   ]
  },
  {
   "cell_type": "code",
   "execution_count": 44,
   "id": "0b2957d3",
   "metadata": {},
   "outputs": [
    {
     "name": "stdout",
     "output_type": "stream",
     "text": [
      "\n",
      "The shape of X after undersampling --> (320, 8)\n",
      "\n",
      "The shape of Y after undersampling --> (320,)\n"
     ]
    }
   ],
   "source": [
    "# Print the shapes of the datasets after undersampling  \n",
    "print(\"\\nThe shape of X after undersampling -->\", X_train_US.shape)  \n",
    "print(\"\\nThe shape of Y after undersampling -->\", Y_train_US.shape)  "
   ]
  },
  {
   "cell_type": "code",
   "execution_count": 45,
   "id": "59a374e2",
   "metadata": {},
   "outputs": [
    {
     "name": "stdout",
     "output_type": "stream",
     "text": [
      "\n",
      "Class 1 after undersampling -->  160\n",
      "\n",
      "Class 0 after undersampling -->  160\n",
      "\n",
      "\n"
     ]
    }
   ],
   "source": [
    "# Print class distribution after undersampling  \n",
    "print(\"\\nClass 1 after undersampling --> \", sum(Y_train_US == 1))  \n",
    "print(\"\\nClass 0 after undersampling --> \", sum(Y_train_US == 0))  \n",
    "print(\"\\n\")"
   ]
  },
  {
   "cell_type": "code",
   "execution_count": 46,
   "id": "c9847d10",
   "metadata": {},
   "outputs": [
    {
     "name": "stdout",
     "output_type": "stream",
     "text": [
      "\n",
      "Cross-validated zacuracy after undersampling: 0.6500\n",
      "\n"
     ]
    }
   ],
   "source": [
    "# Validate undersampling\n",
    "# Initialize the KNN classifier  \n",
    "clf_us = KNeighborsClassifier(n_neighbors=1)  \n",
    "\n",
    "# Perform cross-validation to check accuracy after undersampling  \n",
    "accuracy_us = np.mean(cross_val_score(clf_us, X_train_US, Y_train_US, scoring='accuracy', cv=10))\n",
    "print(f'\\nCross-validated zacuracy after undersampling: {accuracy_us:.4f}\\n')"
   ]
  },
  {
   "cell_type": "markdown",
   "id": "77aecbff",
   "metadata": {},
   "source": [
    "<div id=\"output\"> \n",
    "    <h2>Output the results</h2>    \n",
    "</div>"
   ]
  },
  {
   "cell_type": "code",
   "execution_count": 47,
   "id": "0e99e68b",
   "metadata": {},
   "outputs": [
    {
     "name": "stdout",
     "output_type": "stream",
     "text": [
      "\n",
      "Oversampling result: 0.8705231388329979\n",
      "\n",
      "Undersampling result: 0.65\n"
     ]
    }
   ],
   "source": [
    "# Output the results of different handling imbalanced data methods   \n",
    "print('\\nOversampling result:', accuracy_os)     # Print accuracy score for oversampling method  \n",
    "print('\\nUndersampling result:', accuracy_us)    # Print accuracy score for undersampling method "
   ]
  },
  {
   "cell_type": "code",
   "execution_count": 48,
   "id": "c81955d5",
   "metadata": {},
   "outputs": [
    {
     "name": "stdout",
     "output_type": "stream",
     "text": [
      "\n",
      "Continue working with the dataset handled by oversampling after comparing different methods\n",
      "\n"
     ]
    }
   ],
   "source": [
    "print(\"\\nContinue working with the dataset handled by oversampling after comparing different methods\\n\")"
   ]
  },
  {
   "cell_type": "markdown",
   "id": "2b85f6d7",
   "metadata": {},
   "source": [
    "**Final dataset** after Pre-processing\n",
    "<hr>"
   ]
  },
  {
   "cell_type": "code",
   "execution_count": 49,
   "id": "7acd586d",
   "metadata": {},
   "outputs": [
    {
     "data": {
      "text/html": [
       "<div>\n",
       "<style scoped>\n",
       "    .dataframe tbody tr th:only-of-type {\n",
       "        vertical-align: middle;\n",
       "    }\n",
       "\n",
       "    .dataframe tbody tr th {\n",
       "        vertical-align: top;\n",
       "    }\n",
       "\n",
       "    .dataframe thead th {\n",
       "        text-align: right;\n",
       "    }\n",
       "</style>\n",
       "<table border=\"1\" class=\"dataframe\">\n",
       "  <thead>\n",
       "    <tr style=\"text-align: right;\">\n",
       "      <th></th>\n",
       "      <th>Pregnancies</th>\n",
       "      <th>Glucose</th>\n",
       "      <th>BloodPressure</th>\n",
       "      <th>SkinThickness</th>\n",
       "      <th>Insulin</th>\n",
       "      <th>BMI</th>\n",
       "      <th>DiabetesPedigreeFunction</th>\n",
       "      <th>Age</th>\n",
       "      <th>Outcome</th>\n",
       "    </tr>\n",
       "  </thead>\n",
       "  <tbody>\n",
       "    <tr>\n",
       "      <th>0</th>\n",
       "      <td>-0.553756</td>\n",
       "      <td>-1.239310</td>\n",
       "      <td>-0.539736</td>\n",
       "      <td>-0.518059</td>\n",
       "      <td>-1.177477</td>\n",
       "      <td>0.030209</td>\n",
       "      <td>0.270470</td>\n",
       "      <td>-0.967775</td>\n",
       "      <td>0</td>\n",
       "    </tr>\n",
       "    <tr>\n",
       "      <th>1</th>\n",
       "      <td>1.287615</td>\n",
       "      <td>0.030451</td>\n",
       "      <td>1.223963</td>\n",
       "      <td>-0.841390</td>\n",
       "      <td>1.156083</td>\n",
       "      <td>-0.560869</td>\n",
       "      <td>-0.678643</td>\n",
       "      <td>-0.967775</td>\n",
       "      <td>1</td>\n",
       "    </tr>\n",
       "    <tr>\n",
       "      <th>2</th>\n",
       "      <td>0.980720</td>\n",
       "      <td>-0.175456</td>\n",
       "      <td>-0.539736</td>\n",
       "      <td>-0.495250</td>\n",
       "      <td>1.201340</td>\n",
       "      <td>0.123537</td>\n",
       "      <td>-0.682630</td>\n",
       "      <td>0.838587</td>\n",
       "      <td>1</td>\n",
       "    </tr>\n",
       "    <tr>\n",
       "      <th>3</th>\n",
       "      <td>-0.553756</td>\n",
       "      <td>0.339312</td>\n",
       "      <td>0.165744</td>\n",
       "      <td>-0.214967</td>\n",
       "      <td>1.114606</td>\n",
       "      <td>0.185755</td>\n",
       "      <td>0.645329</td>\n",
       "      <td>-0.696820</td>\n",
       "      <td>0</td>\n",
       "    </tr>\n",
       "    <tr>\n",
       "      <th>4</th>\n",
       "      <td>1.901405</td>\n",
       "      <td>-1.754078</td>\n",
       "      <td>2.987662</td>\n",
       "      <td>-0.518059</td>\n",
       "      <td>-1.192265</td>\n",
       "      <td>0.543513</td>\n",
       "      <td>-0.574958</td>\n",
       "      <td>1.290178</td>\n",
       "      <td>0</td>\n",
       "    </tr>\n",
       "  </tbody>\n",
       "</table>\n",
       "</div>"
      ],
      "text/plain": [
       "   Pregnancies   Glucose  BloodPressure  SkinThickness   Insulin       BMI  \\\n",
       "0    -0.553756 -1.239310      -0.539736      -0.518059 -1.177477  0.030209   \n",
       "1     1.287615  0.030451       1.223963      -0.841390  1.156083 -0.560869   \n",
       "2     0.980720 -0.175456      -0.539736      -0.495250  1.201340  0.123537   \n",
       "3    -0.553756  0.339312       0.165744      -0.214967  1.114606  0.185755   \n",
       "4     1.901405 -1.754078       2.987662      -0.518059 -1.192265  0.543513   \n",
       "\n",
       "   DiabetesPedigreeFunction       Age  Outcome  \n",
       "0                  0.270470 -0.967775        0  \n",
       "1                 -0.678643 -0.967775        1  \n",
       "2                 -0.682630  0.838587        1  \n",
       "3                  0.645329 -0.696820        0  \n",
       "4                 -0.574958  1.290178        0  "
      ]
     },
     "metadata": {},
     "output_type": "display_data"
    }
   ],
   "source": [
    "# Training set\n",
    "X = pd.DataFrame(X_train_OS)\n",
    "Y = pd.DataFrame(Y_train_OS, columns = ['Outcome'])\n",
    "\n",
    "# Combine features and target for the training set\n",
    "df_train_final = pd.concat([X, Y], axis = 'columns')\n",
    "display(df_train_final.head())              # Preview the training set"
   ]
  },
  {
   "cell_type": "code",
   "execution_count": 50,
   "id": "ed1d5073",
   "metadata": {},
   "outputs": [
    {
     "data": {
      "text/html": [
       "<div>\n",
       "<style scoped>\n",
       "    .dataframe tbody tr th:only-of-type {\n",
       "        vertical-align: middle;\n",
       "    }\n",
       "\n",
       "    .dataframe tbody tr th {\n",
       "        vertical-align: top;\n",
       "    }\n",
       "\n",
       "    .dataframe thead th {\n",
       "        text-align: right;\n",
       "    }\n",
       "</style>\n",
       "<table border=\"1\" class=\"dataframe\">\n",
       "  <thead>\n",
       "    <tr style=\"text-align: right;\">\n",
       "      <th></th>\n",
       "      <th>Pregnancies</th>\n",
       "      <th>Glucose</th>\n",
       "      <th>BloodPressure</th>\n",
       "      <th>SkinThickness</th>\n",
       "      <th>Insulin</th>\n",
       "      <th>BMI</th>\n",
       "      <th>DiabetesPedigreeFunction</th>\n",
       "      <th>Age</th>\n",
       "      <th>Outcome</th>\n",
       "    </tr>\n",
       "  </thead>\n",
       "  <tbody>\n",
       "    <tr>\n",
       "      <th>55</th>\n",
       "      <td>-0.553756</td>\n",
       "      <td>-0.655906</td>\n",
       "      <td>-0.539736</td>\n",
       "      <td>-0.821150</td>\n",
       "      <td>-0.585972</td>\n",
       "      <td>0.139091</td>\n",
       "      <td>1.745980</td>\n",
       "      <td>-0.425866</td>\n",
       "      <td>1</td>\n",
       "    </tr>\n",
       "    <tr>\n",
       "      <th>474</th>\n",
       "      <td>-0.553756</td>\n",
       "      <td>0.373630</td>\n",
       "      <td>2.105813</td>\n",
       "      <td>-2.693984</td>\n",
       "      <td>-1.910324</td>\n",
       "      <td>-1.463041</td>\n",
       "      <td>-0.642752</td>\n",
       "      <td>-1.058093</td>\n",
       "      <td>0</td>\n",
       "    </tr>\n",
       "    <tr>\n",
       "      <th>157</th>\n",
       "      <td>1.287615</td>\n",
       "      <td>-1.170674</td>\n",
       "      <td>-1.509771</td>\n",
       "      <td>-0.821150</td>\n",
       "      <td>0.608934</td>\n",
       "      <td>-1.183056</td>\n",
       "      <td>-1.169150</td>\n",
       "      <td>0.838587</td>\n",
       "      <td>0</td>\n",
       "    </tr>\n",
       "    <tr>\n",
       "      <th>403</th>\n",
       "      <td>-0.553756</td>\n",
       "      <td>-1.033403</td>\n",
       "      <td>1.576703</td>\n",
       "      <td>0.189154</td>\n",
       "      <td>-1.693103</td>\n",
       "      <td>0.232420</td>\n",
       "      <td>-0.547043</td>\n",
       "      <td>0.838587</td>\n",
       "      <td>0</td>\n",
       "    </tr>\n",
       "    <tr>\n",
       "      <th>583</th>\n",
       "      <td>-0.553756</td>\n",
       "      <td>-0.896131</td>\n",
       "      <td>-0.716106</td>\n",
       "      <td>0.391215</td>\n",
       "      <td>0.449163</td>\n",
       "      <td>0.932380</td>\n",
       "      <td>0.976322</td>\n",
       "      <td>-0.877457</td>\n",
       "      <td>1</td>\n",
       "    </tr>\n",
       "  </tbody>\n",
       "</table>\n",
       "</div>"
      ],
      "text/plain": [
       "     Pregnancies   Glucose  BloodPressure  SkinThickness   Insulin       BMI  \\\n",
       "55     -0.553756 -0.655906      -0.539736      -0.821150 -0.585972  0.139091   \n",
       "474    -0.553756  0.373630       2.105813      -2.693984 -1.910324 -1.463041   \n",
       "157     1.287615 -1.170674      -1.509771      -0.821150  0.608934 -1.183056   \n",
       "403    -0.553756 -1.033403       1.576703       0.189154 -1.693103  0.232420   \n",
       "583    -0.553756 -0.896131      -0.716106       0.391215  0.449163  0.932380   \n",
       "\n",
       "     DiabetesPedigreeFunction       Age  Outcome  \n",
       "55                   1.745980 -0.425866        1  \n",
       "474                 -0.642752 -1.058093        0  \n",
       "157                 -1.169150  0.838587        0  \n",
       "403                 -0.547043  0.838587        0  \n",
       "583                  0.976322 -0.877457        1  "
      ]
     },
     "metadata": {},
     "output_type": "display_data"
    }
   ],
   "source": [
    "# Testing set\n",
    "# Combine features and target for the testing set\n",
    "df_test_final = pd.concat([X_test, Y_test], axis = 'columns')\n",
    "display(df_test_final.head())              # Preview the testing set "
   ]
  },
  {
   "cell_type": "code",
   "execution_count": 51,
   "id": "aee75859",
   "metadata": {},
   "outputs": [
    {
     "name": "stdout",
     "output_type": "stream",
     "text": [
      "\n",
      "The shape of training dataset --> (702, 9)\n",
      "\n",
      "The shape of testing dataset --> (128, 9)\n"
     ]
    }
   ],
   "source": [
    "# The final training and test datasets\n",
    "print('\\nThe shape of training dataset -->', df_train_final.shape)\n",
    "print('\\nThe shape of testing dataset -->', df_test_final.shape)"
   ]
  },
  {
   "cell_type": "code",
   "execution_count": 52,
   "id": "f786432d",
   "metadata": {},
   "outputs": [
    {
     "data": {
      "text/html": [
       "<div>\n",
       "<style scoped>\n",
       "    .dataframe tbody tr th:only-of-type {\n",
       "        vertical-align: middle;\n",
       "    }\n",
       "\n",
       "    .dataframe tbody tr th {\n",
       "        vertical-align: top;\n",
       "    }\n",
       "\n",
       "    .dataframe thead th {\n",
       "        text-align: right;\n",
       "    }\n",
       "</style>\n",
       "<table border=\"1\" class=\"dataframe\">\n",
       "  <thead>\n",
       "    <tr style=\"text-align: right;\">\n",
       "      <th></th>\n",
       "      <th>Pregnancies</th>\n",
       "      <th>Glucose</th>\n",
       "      <th>BloodPressure</th>\n",
       "      <th>SkinThickness</th>\n",
       "      <th>Insulin</th>\n",
       "      <th>BMI</th>\n",
       "      <th>DiabetesPedigreeFunction</th>\n",
       "      <th>Age</th>\n",
       "      <th>Outcome</th>\n",
       "    </tr>\n",
       "  </thead>\n",
       "  <tbody>\n",
       "    <tr>\n",
       "      <th>0</th>\n",
       "      <td>-0.553756</td>\n",
       "      <td>-1.239310</td>\n",
       "      <td>-0.539736</td>\n",
       "      <td>-0.518059</td>\n",
       "      <td>-1.177477</td>\n",
       "      <td>0.030209</td>\n",
       "      <td>0.270470</td>\n",
       "      <td>-0.967775</td>\n",
       "      <td>0</td>\n",
       "    </tr>\n",
       "    <tr>\n",
       "      <th>1</th>\n",
       "      <td>1.287615</td>\n",
       "      <td>0.030451</td>\n",
       "      <td>1.223963</td>\n",
       "      <td>-0.841390</td>\n",
       "      <td>1.156083</td>\n",
       "      <td>-0.560869</td>\n",
       "      <td>-0.678643</td>\n",
       "      <td>-0.967775</td>\n",
       "      <td>1</td>\n",
       "    </tr>\n",
       "    <tr>\n",
       "      <th>2</th>\n",
       "      <td>0.980720</td>\n",
       "      <td>-0.175456</td>\n",
       "      <td>-0.539736</td>\n",
       "      <td>-0.495250</td>\n",
       "      <td>1.201340</td>\n",
       "      <td>0.123537</td>\n",
       "      <td>-0.682630</td>\n",
       "      <td>0.838587</td>\n",
       "      <td>1</td>\n",
       "    </tr>\n",
       "    <tr>\n",
       "      <th>3</th>\n",
       "      <td>-0.553756</td>\n",
       "      <td>0.339312</td>\n",
       "      <td>0.165744</td>\n",
       "      <td>-0.214967</td>\n",
       "      <td>1.114606</td>\n",
       "      <td>0.185755</td>\n",
       "      <td>0.645329</td>\n",
       "      <td>-0.696820</td>\n",
       "      <td>0</td>\n",
       "    </tr>\n",
       "    <tr>\n",
       "      <th>4</th>\n",
       "      <td>1.901405</td>\n",
       "      <td>-1.754078</td>\n",
       "      <td>2.987662</td>\n",
       "      <td>-0.518059</td>\n",
       "      <td>-1.192265</td>\n",
       "      <td>0.543513</td>\n",
       "      <td>-0.574958</td>\n",
       "      <td>1.290178</td>\n",
       "      <td>0</td>\n",
       "    </tr>\n",
       "  </tbody>\n",
       "</table>\n",
       "</div>"
      ],
      "text/plain": [
       "   Pregnancies   Glucose  BloodPressure  SkinThickness   Insulin       BMI  \\\n",
       "0    -0.553756 -1.239310      -0.539736      -0.518059 -1.177477  0.030209   \n",
       "1     1.287615  0.030451       1.223963      -0.841390  1.156083 -0.560869   \n",
       "2     0.980720 -0.175456      -0.539736      -0.495250  1.201340  0.123537   \n",
       "3    -0.553756  0.339312       0.165744      -0.214967  1.114606  0.185755   \n",
       "4     1.901405 -1.754078       2.987662      -0.518059 -1.192265  0.543513   \n",
       "\n",
       "   DiabetesPedigreeFunction       Age  Outcome  \n",
       "0                  0.270470 -0.967775        0  \n",
       "1                 -0.678643 -0.967775        1  \n",
       "2                 -0.682630  0.838587        1  \n",
       "3                  0.645329 -0.696820        0  \n",
       "4                 -0.574958  1.290178        0  "
      ]
     },
     "metadata": {},
     "output_type": "display_data"
    }
   ],
   "source": [
    "# The training and testing set together\n",
    "# df_final_adp --> df_final_after data preprocessing\n",
    "df_final_adp = pd.concat([df_train_final,df_test_final])      \n",
    "display(df_final_adp.head())                 # Preview the combined dataset"
   ]
  },
  {
   "cell_type": "code",
   "execution_count": 53,
   "id": "e0f7b757",
   "metadata": {},
   "outputs": [
    {
     "name": "stdout",
     "output_type": "stream",
     "text": [
      "\n",
      "The shape of the combined dataset --> (830, 9)\n",
      "\n",
      "\n"
     ]
    }
   ],
   "source": [
    "print('\\nThe shape of the combined dataset -->', df_final_adp.shape)\n",
    "print('\\n')"
   ]
  },
  {
   "cell_type": "markdown",
   "id": "6a060711",
   "metadata": {},
   "source": [
    "<hr>\n",
    "<div id=\"feature_selection\"> \n",
    "    <h2>Feature Selection</h2>    \n",
    "</div>\n",
    "<div>\n",
    "    <ol>\n",
    "        <li><a href=\"#fm\">Filter Method (Correlation Analysis)</a></li>        \n",
    "        <li><a href=\"#rfe\">Recursive Feature Elimination (RFE)</a></li>\n",
    "        <li><a href=\"#pca\">Principal Component Analysis (PCA)</a></li>         \n",
    "        <li><a href=\"#output\">Output the results</a></li> \t\t\n",
    "    </ol>\n",
    "</div>\n",
    "<br>"
   ]
  },
  {
   "cell_type": "markdown",
   "id": "aa64d316",
   "metadata": {},
   "source": [
    "<div id=\"fm\"> \n",
    "    <h2>Filter Method (Correlation Analysis)</h2>    \n",
    "</div>"
   ]
  },
  {
   "cell_type": "code",
   "execution_count": 54,
   "id": "45189ff1",
   "metadata": {},
   "outputs": [
    {
     "name": "stdout",
     "output_type": "stream",
     "text": [
      "\n",
      "Correlation between the features in the dataset:\n",
      "\n"
     ]
    },
    {
     "data": {
      "text/html": [
       "<div>\n",
       "<style scoped>\n",
       "    .dataframe tbody tr th:only-of-type {\n",
       "        vertical-align: middle;\n",
       "    }\n",
       "\n",
       "    .dataframe tbody tr th {\n",
       "        vertical-align: top;\n",
       "    }\n",
       "\n",
       "    .dataframe thead th {\n",
       "        text-align: right;\n",
       "    }\n",
       "</style>\n",
       "<table border=\"1\" class=\"dataframe\">\n",
       "  <thead>\n",
       "    <tr style=\"text-align: right;\">\n",
       "      <th></th>\n",
       "      <th>Pregnancies</th>\n",
       "      <th>Glucose</th>\n",
       "      <th>BloodPressure</th>\n",
       "      <th>SkinThickness</th>\n",
       "      <th>Insulin</th>\n",
       "      <th>BMI</th>\n",
       "      <th>DiabetesPedigreeFunction</th>\n",
       "      <th>Age</th>\n",
       "      <th>Outcome</th>\n",
       "    </tr>\n",
       "  </thead>\n",
       "  <tbody>\n",
       "    <tr>\n",
       "      <th>Pregnancies</th>\n",
       "      <td>1.000000</td>\n",
       "      <td>0.139879</td>\n",
       "      <td>0.212810</td>\n",
       "      <td>0.110729</td>\n",
       "      <td>0.148353</td>\n",
       "      <td>0.047924</td>\n",
       "      <td>0.017566</td>\n",
       "      <td>0.561867</td>\n",
       "      <td>0.266621</td>\n",
       "    </tr>\n",
       "    <tr>\n",
       "      <th>Glucose</th>\n",
       "      <td>0.139879</td>\n",
       "      <td>1.000000</td>\n",
       "      <td>0.277412</td>\n",
       "      <td>0.147957</td>\n",
       "      <td>0.574105</td>\n",
       "      <td>0.224149</td>\n",
       "      <td>0.071264</td>\n",
       "      <td>0.311886</td>\n",
       "      <td>0.514122</td>\n",
       "    </tr>\n",
       "    <tr>\n",
       "      <th>BloodPressure</th>\n",
       "      <td>0.212810</td>\n",
       "      <td>0.277412</td>\n",
       "      <td>1.000000</td>\n",
       "      <td>0.206843</td>\n",
       "      <td>0.178026</td>\n",
       "      <td>0.308688</td>\n",
       "      <td>0.023845</td>\n",
       "      <td>0.390130</td>\n",
       "      <td>0.212777</td>\n",
       "    </tr>\n",
       "    <tr>\n",
       "      <th>SkinThickness</th>\n",
       "      <td>0.110729</td>\n",
       "      <td>0.147957</td>\n",
       "      <td>0.206843</td>\n",
       "      <td>1.000000</td>\n",
       "      <td>0.218272</td>\n",
       "      <td>0.643604</td>\n",
       "      <td>0.079371</td>\n",
       "      <td>0.080970</td>\n",
       "      <td>0.231655</td>\n",
       "    </tr>\n",
       "    <tr>\n",
       "      <th>Insulin</th>\n",
       "      <td>0.148353</td>\n",
       "      <td>0.574105</td>\n",
       "      <td>0.178026</td>\n",
       "      <td>0.218272</td>\n",
       "      <td>1.000000</td>\n",
       "      <td>0.298563</td>\n",
       "      <td>0.062245</td>\n",
       "      <td>0.264412</td>\n",
       "      <td>0.378670</td>\n",
       "    </tr>\n",
       "    <tr>\n",
       "      <th>BMI</th>\n",
       "      <td>0.047924</td>\n",
       "      <td>0.224149</td>\n",
       "      <td>0.308688</td>\n",
       "      <td>0.643604</td>\n",
       "      <td>0.298563</td>\n",
       "      <td>1.000000</td>\n",
       "      <td>0.129460</td>\n",
       "      <td>0.054897</td>\n",
       "      <td>0.294145</td>\n",
       "    </tr>\n",
       "    <tr>\n",
       "      <th>DiabetesPedigreeFunction</th>\n",
       "      <td>0.017566</td>\n",
       "      <td>0.071264</td>\n",
       "      <td>0.023845</td>\n",
       "      <td>0.079371</td>\n",
       "      <td>0.062245</td>\n",
       "      <td>0.129460</td>\n",
       "      <td>1.000000</td>\n",
       "      <td>0.065897</td>\n",
       "      <td>0.177552</td>\n",
       "    </tr>\n",
       "    <tr>\n",
       "      <th>Age</th>\n",
       "      <td>0.561867</td>\n",
       "      <td>0.311886</td>\n",
       "      <td>0.390130</td>\n",
       "      <td>0.080970</td>\n",
       "      <td>0.264412</td>\n",
       "      <td>0.054897</td>\n",
       "      <td>0.065897</td>\n",
       "      <td>1.000000</td>\n",
       "      <td>0.305336</td>\n",
       "    </tr>\n",
       "    <tr>\n",
       "      <th>Outcome</th>\n",
       "      <td>0.266621</td>\n",
       "      <td>0.514122</td>\n",
       "      <td>0.212777</td>\n",
       "      <td>0.231655</td>\n",
       "      <td>0.378670</td>\n",
       "      <td>0.294145</td>\n",
       "      <td>0.177552</td>\n",
       "      <td>0.305336</td>\n",
       "      <td>1.000000</td>\n",
       "    </tr>\n",
       "  </tbody>\n",
       "</table>\n",
       "</div>"
      ],
      "text/plain": [
       "                          Pregnancies   Glucose  BloodPressure  SkinThickness  \\\n",
       "Pregnancies                  1.000000  0.139879       0.212810       0.110729   \n",
       "Glucose                      0.139879  1.000000       0.277412       0.147957   \n",
       "BloodPressure                0.212810  0.277412       1.000000       0.206843   \n",
       "SkinThickness                0.110729  0.147957       0.206843       1.000000   \n",
       "Insulin                      0.148353  0.574105       0.178026       0.218272   \n",
       "BMI                          0.047924  0.224149       0.308688       0.643604   \n",
       "DiabetesPedigreeFunction     0.017566  0.071264       0.023845       0.079371   \n",
       "Age                          0.561867  0.311886       0.390130       0.080970   \n",
       "Outcome                      0.266621  0.514122       0.212777       0.231655   \n",
       "\n",
       "                           Insulin       BMI  DiabetesPedigreeFunction  \\\n",
       "Pregnancies               0.148353  0.047924                  0.017566   \n",
       "Glucose                   0.574105  0.224149                  0.071264   \n",
       "BloodPressure             0.178026  0.308688                  0.023845   \n",
       "SkinThickness             0.218272  0.643604                  0.079371   \n",
       "Insulin                   1.000000  0.298563                  0.062245   \n",
       "BMI                       0.298563  1.000000                  0.129460   \n",
       "DiabetesPedigreeFunction  0.062245  0.129460                  1.000000   \n",
       "Age                       0.264412  0.054897                  0.065897   \n",
       "Outcome                   0.378670  0.294145                  0.177552   \n",
       "\n",
       "                               Age   Outcome  \n",
       "Pregnancies               0.561867  0.266621  \n",
       "Glucose                   0.311886  0.514122  \n",
       "BloodPressure             0.390130  0.212777  \n",
       "SkinThickness             0.080970  0.231655  \n",
       "Insulin                   0.264412  0.378670  \n",
       "BMI                       0.054897  0.294145  \n",
       "DiabetesPedigreeFunction  0.065897  0.177552  \n",
       "Age                       1.000000  0.305336  \n",
       "Outcome                   0.305336  1.000000  "
      ]
     },
     "metadata": {},
     "output_type": "display_data"
    }
   ],
   "source": [
    "# Calculate correlation matrix\n",
    "corr = df_final_adp.corr()\n",
    "print('\\nCorrelation between the features in the dataset:\\n')\n",
    "\n",
    "# Display the correlation matrix\n",
    "with pd.option_context('display.max_rows', None, 'display.max_columns', None):  \n",
    "    display(corr)"
   ]
  },
  {
   "cell_type": "code",
   "execution_count": 55,
   "id": "e46ccf50",
   "metadata": {},
   "outputs": [
    {
     "name": "stdout",
     "output_type": "stream",
     "text": [
      "\n",
      "Visualizing the correlation of the dataset:\n",
      "\n"
     ]
    },
    {
     "data": {
      "image/png": "[encoded data removed]",
      "text/plain": [
       "<Figure size 1500x1500 with 2 Axes>"
      ]
     },
     "metadata": {},
     "output_type": "display_data"
    }
   ],
   "source": [
    "# Visualize the correlation matrix using a heatmap plot\n",
    "# Setup the plotting environment \n",
    "plt.figure(figsize=(15,15))\n",
    "print('\\nVisualizing the correlation of the dataset:\\n')\n",
    "\n",
    "# Heatmap plot for correlation\n",
    "sns.heatmap(corr, cbar=True, square= True, fmt='.2f', annot=True, annot_kws={'size':10}, cmap='Blues')\n",
    "\n",
    "# Aesthetic aspects of the plot\n",
    "plt.title('Feature Correlation Heatmap', fontsize=18)  \n",
    "plt.show() "
   ]
  },
  {
   "cell_type": "code",
   "execution_count": 56,
   "id": "25fff891",
   "metadata": {},
   "outputs": [
    {
     "name": "stdout",
     "output_type": "stream",
     "text": [
      "\n",
      "The correlation of 'Outcome' with other features:\n",
      "\n",
      "Outcome                     1.000000\n",
      "Glucose                     0.514122\n",
      "Insulin                     0.378670\n",
      "Age                         0.305336\n",
      "BMI                         0.294145\n",
      "Pregnancies                 0.266621\n",
      "SkinThickness               0.231655\n",
      "BloodPressure               0.212777\n",
      "DiabetesPedigreeFunction    0.177552\n",
      "Name: Outcome, dtype: float64\n"
     ]
    }
   ],
   "source": [
    "# Get and print correlation of 'Outcome' with other features\n",
    "print(\"\\nThe correlation of 'Outcome' with other features:\\n\")\n",
    "outcome_corr = df_final_adp.corr()['Outcome'].sort_values(ascending=False)  \n",
    "print(outcome_corr) "
   ]
  },
  {
   "cell_type": "code",
   "execution_count": 57,
   "id": "71cf8dfd",
   "metadata": {},
   "outputs": [
    {
     "name": "stdout",
     "output_type": "stream",
     "text": [
      "\n",
      "Choosing features that have correlation >= 0.2':\n",
      " ['Glucose', 'Insulin', 'Age', 'BMI', 'Pregnancies', 'SkinThickness', 'BloodPressure']\n"
     ]
    }
   ],
   "source": [
    "# Select features with correlation >= 0.2 with 'Outcome'\n",
    "significant_features_fm = outcome_corr[outcome_corr.abs() >= 0.2].index.tolist()  # Apply abs() to consider both positive and negative correlations  \n",
    "\n",
    "# Remove 'Outcome' from the list of significant features\n",
    "significant_features_fm = [feature for feature in significant_features_fm if feature != 'Outcome']           \n",
    "print(\"\\nChoosing features that have correlation >= 0.2':\\n\", significant_features_fm) "
   ]
  },
  {
   "cell_type": "code",
   "execution_count": 58,
   "id": "4ccb666e",
   "metadata": {},
   "outputs": [],
   "source": [
    "# Validate filter method\n",
    "# Separate features and target variable\n",
    "x_fm = df_final_adp[significant_features_fm].drop(columns=['Outcome'], errors='ignore')               # Features \n",
    "y_fm = df_final_adp['Outcome']                                                                        # Target variable\n",
    "\n",
    "# Split the dataset into training and testing sets (80/20) with random state  \n",
    "X_train, X_test, y_train, y_test = train_test_split(x_fm, y_fm, test_size=0.2, random_state=42, stratify=y_fm)"
   ]
  },
  {
   "cell_type": "code",
   "execution_count": 59,
   "id": "33c4900d",
   "metadata": {},
   "outputs": [
    {
     "name": "stdout",
     "output_type": "stream",
     "text": [
      "\n",
      "Cross-validated accuracy after filter method: 0.8329\n"
     ]
    }
   ],
   "source": [
    "# Initialize the KNN classifier\n",
    "clf_fm = KNeighborsClassifier(n_neighbors=1)  \n",
    "\n",
    "# Perform cross-validation to check accuracy after filter method \n",
    "accuracy_fm = np.mean(cross_val_score(clf_fm, X_train, y_train, scoring='accuracy', cv=10))  \n",
    "print(f\"\\nCross-validated accuracy after filter method: {accuracy_fm:.4f}\") "
   ]
  },
  {
   "cell_type": "markdown",
   "id": "7bfc71a4",
   "metadata": {},
   "source": [
    "<div id=\"rfe\"> \n",
    "    <h2>Recursive Feature Elimination (RFE)</h2>    \n",
    "</div>"
   ]
  },
  {
   "cell_type": "code",
   "execution_count": 60,
   "id": "e79da9f8",
   "metadata": {},
   "outputs": [],
   "source": [
    "# Separate features and target variable  \n",
    "X = df_final_adp.drop('Outcome', axis=1)           # Features\n",
    "y = df_final_adp['Outcome']                        # Target variable\n",
    "\n",
    "# Split the dataset into training and testing sets (80/20) \n",
    "X_train, X_test, y_train, y_test = train_test_split(X, y, test_size=0.2, random_state=42, stratify=y)"
   ]
  },
  {
   "cell_type": "code",
   "execution_count": 61,
   "id": "43ef7d94",
   "metadata": {},
   "outputs": [
    {
     "data": {
      "text/html": [
       "<style>#sk-container-id-1 {color: black;}#sk-container-id-1 pre{padding: 0;}#sk-container-id-1 div.sk-toggleable {background-color: white;}#sk-container-id-1 label.sk-toggleable__label {cursor: pointer;display: block;width: 100%;margin-bottom: 0;padding: 0.3em;box-sizing: border-box;text-align: center;}#sk-container-id-1 label.sk-toggleable__label-arrow:before {content: \"▸\";float: left;margin-right: 0.25em;color: #696969;}#sk-container-id-1 label.sk-toggleable__label-arrow:hover:before {color: black;}#sk-container-id-1 div.sk-estimator:hover label.sk-toggleable__label-arrow:before {color: black;}#sk-container-id-1 div.sk-toggleable__content {max-height: 0;max-width: 0;overflow: hidden;text-align: left;background-color: #f0f8ff;}#sk-container-id-1 div.sk-toggleable__content pre {margin: 0.2em;color: black;border-radius: 0.25em;background-color: #f0f8ff;}#sk-container-id-1 input.sk-toggleable__control:checked~div.sk-toggleable__content {max-height: 200px;max-width: 100%;overflow: auto;}#sk-container-id-1 input.sk-toggleable__control:checked~label.sk-toggleable__label-arrow:before {content: \"▾\";}#sk-container-id-1 div.sk-estimator input.sk-toggleable__control:checked~label.sk-toggleable__label {background-color: #d4ebff;}#sk-container-id-1 div.sk-label input.sk-toggleable__control:checked~label.sk-toggleable__label {background-color: #d4ebff;}#sk-container-id-1 input.sk-hidden--visually {border: 0;clip: rect(1px 1px 1px 1px);clip: rect(1px, 1px, 1px, 1px);height: 1px;margin: -1px;overflow: hidden;padding: 0;position: absolute;width: 1px;}#sk-container-id-1 div.sk-estimator {font-family: monospace;background-color: #f0f8ff;border: 1px dotted black;border-radius: 0.25em;box-sizing: border-box;margin-bottom: 0.5em;}#sk-container-id-1 div.sk-estimator:hover {background-color: #d4ebff;}#sk-container-id-1 div.sk-parallel-item::after {content: \"\";width: 100%;border-bottom: 1px solid gray;flex-grow: 1;}#sk-container-id-1 div.sk-label:hover label.sk-toggleable__label {background-color: #d4ebff;}#sk-container-id-1 div.sk-serial::before {content: \"\";position: absolute;border-left: 1px solid gray;box-sizing: border-box;top: 0;bottom: 0;left: 50%;z-index: 0;}#sk-container-id-1 div.sk-serial {display: flex;flex-direction: column;align-items: center;background-color: white;padding-right: 0.2em;padding-left: 0.2em;position: relative;}#sk-container-id-1 div.sk-item {position: relative;z-index: 1;}#sk-container-id-1 div.sk-parallel {display: flex;align-items: stretch;justify-content: center;background-color: white;position: relative;}#sk-container-id-1 div.sk-item::before, #sk-container-id-1 div.sk-parallel-item::before {content: \"\";position: absolute;border-left: 1px solid gray;box-sizing: border-box;top: 0;bottom: 0;left: 50%;z-index: -1;}#sk-container-id-1 div.sk-parallel-item {display: flex;flex-direction: column;z-index: 1;position: relative;background-color: white;}#sk-container-id-1 div.sk-parallel-item:first-child::after {align-self: flex-end;width: 50%;}#sk-container-id-1 div.sk-parallel-item:last-child::after {align-self: flex-start;width: 50%;}#sk-container-id-1 div.sk-parallel-item:only-child::after {width: 0;}#sk-container-id-1 div.sk-dashed-wrapped {border: 1px dashed gray;margin: 0 0.4em 0.5em 0.4em;box-sizing: border-box;padding-bottom: 0.4em;background-color: white;}#sk-container-id-1 div.sk-label label {font-family: monospace;font-weight: bold;display: inline-block;line-height: 1.2em;}#sk-container-id-1 div.sk-label-container {text-align: center;}#sk-container-id-1 div.sk-container {/* jupyter's `normalize.less` sets `[hidden] { display: none; }` but bootstrap.min.css set `[hidden] { display: none !important; }` so we also need the `!important` here to be able to override the default hidden behavior on the sphinx rendered scikit-learn.org. See: https://github.com/scikit-learn/scikit-learn/issues/21755 */display: inline-block !important;position: relative;}#sk-container-id-1 div.sk-text-repr-fallback {display: none;}</style><div id=\"sk-container-id-1\" class=\"sk-top-container\"><div class=\"sk-text-repr-fallback\"><pre>RFE(estimator=LogisticRegression(max_iter=1000), n_features_to_select=6)</pre><b>In a Jupyter environment, please rerun this cell to show the HTML representation or trust the notebook. <br />On GitHub, the HTML representation is unable to render, please try loading this page with nbviewer.org.</b></div><div class=\"sk-container\" hidden><div class=\"sk-item sk-dashed-wrapped\"><div class=\"sk-label-container\"><div class=\"sk-label sk-toggleable\"><input class=\"sk-toggleable__control sk-hidden--visually\" id=\"sk-estimator-id-1\" type=\"checkbox\" ><label for=\"sk-estimator-id-1\" class=\"sk-toggleable__label sk-toggleable__label-arrow\">RFE</label><div class=\"sk-toggleable__content\"><pre>RFE(estimator=LogisticRegression(max_iter=1000), n_features_to_select=6)</pre></div></div></div><div class=\"sk-parallel\"><div class=\"sk-parallel-item\"><div class=\"sk-item\"><div class=\"sk-label-container\"><div class=\"sk-label sk-toggleable\"><input class=\"sk-toggleable__control sk-hidden--visually\" id=\"sk-estimator-id-2\" type=\"checkbox\" ><label for=\"sk-estimator-id-2\" class=\"sk-toggleable__label sk-toggleable__label-arrow\">estimator: LogisticRegression</label><div class=\"sk-toggleable__content\"><pre>LogisticRegression(max_iter=1000)</pre></div></div></div><div class=\"sk-serial\"><div class=\"sk-item\"><div class=\"sk-estimator sk-toggleable\"><input class=\"sk-toggleable__control sk-hidden--visually\" id=\"sk-estimator-id-3\" type=\"checkbox\" ><label for=\"sk-estimator-id-3\" class=\"sk-toggleable__label sk-toggleable__label-arrow\">LogisticRegression</label><div class=\"sk-toggleable__content\"><pre>LogisticRegression(max_iter=1000)</pre></div></div></div></div></div></div></div></div></div></div>"
      ],
      "text/plain": [
       "RFE(estimator=LogisticRegression(max_iter=1000), n_features_to_select=6)"
      ]
     },
     "execution_count": 61,
     "metadata": {},
     "output_type": "execute_result"
    }
   ],
   "source": [
    "# Initialize the Logistic Regression model  \n",
    "reg_model = LogisticRegression(max_iter=1000)                   # Added max_iter for convergence if needed  \n",
    "\n",
    "# Initialize and fit RFE  \n",
    "rfe = RFE(estimator=reg_model, n_features_to_select=6)          # Select 6 features  \n",
    "\n",
    "# Fit the model to the training data\n",
    "rfe.fit(X_train, y_train)"
   ]
  },
  {
   "cell_type": "code",
   "execution_count": 62,
   "id": "41386f09",
   "metadata": {},
   "outputs": [
    {
     "name": "stdout",
     "output_type": "stream",
     "text": [
      "Selected features using RFE:\n",
      "['Pregnancies', 'Glucose', 'SkinThickness', 'Insulin', 'BMI', 'DiabetesPedigreeFunction']\n"
     ]
    }
   ],
   "source": [
    "# Get the selected features  \n",
    "significant_features_rfe = X.columns[rfe.support_]  \n",
    "print(\"Selected features using RFE:\")  \n",
    "print(significant_features_rfe.tolist()) "
   ]
  },
  {
   "cell_type": "code",
   "execution_count": 63,
   "id": "61156820",
   "metadata": {},
   "outputs": [],
   "source": [
    "# Validate RFE\n",
    "# Separate features and target variable\n",
    "X_rfe = df_final_adp[significant_features_rfe]           # Features\n",
    "y_rfe = df_final_adp['Outcome']                          # Target variable"
   ]
  },
  {
   "cell_type": "code",
   "execution_count": 64,
   "id": "1146e34c",
   "metadata": {},
   "outputs": [
    {
     "name": "stdout",
     "output_type": "stream",
     "text": [
      "\n",
      "Cross-validated accuracy after RFE: 0.8458\n"
     ]
    }
   ],
   "source": [
    "# Initialize the KNN classifier\n",
    "clf_rfe = KNeighborsClassifier(n_neighbors = 1)\n",
    "\n",
    "# Perform cross-validation to check accuracy after RFE\n",
    "accuracy_rfe = np.mean(cross_val_score(clf_rfe, X_rfe, y_rfe, scoring='accuracy', cv=10))\n",
    "print(f\"\\nCross-validated accuracy after RFE: {accuracy_rfe:.4f}\")"
   ]
  },
  {
   "cell_type": "markdown",
   "id": "d9da78fa",
   "metadata": {},
   "source": [
    "<div id=\"pca\"> \n",
    "\t<h2>Principal Component Analysis (PCA)</h2>    \n",
    "</div>"
   ]
  },
  {
   "cell_type": "code",
   "execution_count": 65,
   "id": "854ec144",
   "metadata": {},
   "outputs": [],
   "source": [
    "# Separate features and target variable\n",
    "X = df_final_adp.drop('Outcome', axis = 1)             # Features\n",
    "Y = df_final_adp['Outcome']                            # Target variable"
   ]
  },
  {
   "cell_type": "code",
   "execution_count": 66,
   "id": "c1411f16",
   "metadata": {},
   "outputs": [
    {
     "name": "stdout",
     "output_type": "stream",
     "text": [
      "\n",
      "The shape of dataset before PCA --> (830, 8)\n",
      "\n",
      "The shape of dataset after PCA --> (830, 7)\n"
     ]
    }
   ],
   "source": [
    "# Using PCA to capture 95% of the variance in the dataset\n",
    "pca = PCA(0.95)\n",
    "X_pca = pca.fit_transform(X)\n",
    "print(\"\\nThe shape of dataset before PCA -->\", X.shape)\n",
    "print(\"\\nThe shape of dataset after PCA -->\", X_pca.shape)"
   ]
  },
  {
   "cell_type": "code",
   "execution_count": 67,
   "id": "7348a612",
   "metadata": {},
   "outputs": [
    {
     "name": "stdout",
     "output_type": "stream",
     "text": [
      "\n",
      "Explained variance ratio for each component: [0.3232792  0.18114863 0.13920465 0.12187408 0.09501972 0.0525558\n",
      " 0.04855405]\n",
      "\n",
      "Number of components that explain 95% of the variance --> 7\n"
     ]
    }
   ],
   "source": [
    "# Explain how much variance each principal component explains  \n",
    "print(\"\\nExplained variance ratio for each component:\", pca.explained_variance_ratio_)  \n",
    "print(\"\\nNumber of components that explain 95% of the variance -->\", pca.n_components_)"
   ]
  },
  {
   "cell_type": "code",
   "execution_count": 68,
   "id": "d982fc86",
   "metadata": {},
   "outputs": [
    {
     "name": "stdout",
     "output_type": "stream",
     "text": [
      "\n",
      "New features dataset after using PCA (95%):\n",
      "\n"
     ]
    },
    {
     "data": {
      "text/html": [
       "<div>\n",
       "<style scoped>\n",
       "    .dataframe tbody tr th:only-of-type {\n",
       "        vertical-align: middle;\n",
       "    }\n",
       "\n",
       "    .dataframe tbody tr th {\n",
       "        vertical-align: top;\n",
       "    }\n",
       "\n",
       "    .dataframe thead th {\n",
       "        text-align: right;\n",
       "    }\n",
       "</style>\n",
       "<table border=\"1\" class=\"dataframe\">\n",
       "  <thead>\n",
       "    <tr style=\"text-align: right;\">\n",
       "      <th></th>\n",
       "      <th>PC1</th>\n",
       "      <th>PC2</th>\n",
       "      <th>PC3</th>\n",
       "      <th>PC4</th>\n",
       "      <th>PC5</th>\n",
       "      <th>PC6</th>\n",
       "      <th>PC7</th>\n",
       "    </tr>\n",
       "  </thead>\n",
       "  <tbody>\n",
       "    <tr>\n",
       "      <th>0</th>\n",
       "      <td>-2.209645</td>\n",
       "      <td>-0.508301</td>\n",
       "      <td>0.724210</td>\n",
       "      <td>0.343598</td>\n",
       "      <td>0.183359</td>\n",
       "      <td>0.077944</td>\n",
       "      <td>-0.230410</td>\n",
       "    </tr>\n",
       "    <tr>\n",
       "      <th>1</th>\n",
       "      <td>0.152544</td>\n",
       "      <td>0.904492</td>\n",
       "      <td>-0.465995</td>\n",
       "      <td>-0.786564</td>\n",
       "      <td>0.306110</td>\n",
       "      <td>1.004383</td>\n",
       "      <td>-1.904204</td>\n",
       "    </tr>\n",
       "    <tr>\n",
       "      <th>2</th>\n",
       "      <td>0.401404</td>\n",
       "      <td>0.997838</td>\n",
       "      <td>-0.303815</td>\n",
       "      <td>-0.491292</td>\n",
       "      <td>-1.097628</td>\n",
       "      <td>0.951899</td>\n",
       "      <td>0.035326</td>\n",
       "    </tr>\n",
       "    <tr>\n",
       "      <th>3</th>\n",
       "      <td>0.000907</td>\n",
       "      <td>-0.805955</td>\n",
       "      <td>-0.980022</td>\n",
       "      <td>0.493056</td>\n",
       "      <td>0.252031</td>\n",
       "      <td>0.679500</td>\n",
       "      <td>-0.418031</td>\n",
       "    </tr>\n",
       "    <tr>\n",
       "      <th>4</th>\n",
       "      <td>0.639123</td>\n",
       "      <td>1.896677</td>\n",
       "      <td>3.135330</td>\n",
       "      <td>-0.861672</td>\n",
       "      <td>1.794370</td>\n",
       "      <td>0.928703</td>\n",
       "      <td>-0.802523</td>\n",
       "    </tr>\n",
       "    <tr>\n",
       "      <th>...</th>\n",
       "      <td>...</td>\n",
       "      <td>...</td>\n",
       "      <td>...</td>\n",
       "      <td>...</td>\n",
       "      <td>...</td>\n",
       "      <td>...</td>\n",
       "      <td>...</td>\n",
       "    </tr>\n",
       "    <tr>\n",
       "      <th>825</th>\n",
       "      <td>-1.187780</td>\n",
       "      <td>-1.343861</td>\n",
       "      <td>0.496662</td>\n",
       "      <td>-0.837847</td>\n",
       "      <td>-1.090334</td>\n",
       "      <td>-0.441093</td>\n",
       "      <td>0.504902</td>\n",
       "    </tr>\n",
       "    <tr>\n",
       "      <th>826</th>\n",
       "      <td>-2.078701</td>\n",
       "      <td>0.518520</td>\n",
       "      <td>-1.783425</td>\n",
       "      <td>-0.830088</td>\n",
       "      <td>-0.184351</td>\n",
       "      <td>0.861541</td>\n",
       "      <td>-0.155780</td>\n",
       "    </tr>\n",
       "    <tr>\n",
       "      <th>827</th>\n",
       "      <td>-0.245610</td>\n",
       "      <td>-0.211662</td>\n",
       "      <td>-0.394051</td>\n",
       "      <td>-0.799871</td>\n",
       "      <td>0.968647</td>\n",
       "      <td>0.030020</td>\n",
       "      <td>-0.173386</td>\n",
       "    </tr>\n",
       "    <tr>\n",
       "      <th>828</th>\n",
       "      <td>1.498222</td>\n",
       "      <td>0.268759</td>\n",
       "      <td>0.939827</td>\n",
       "      <td>-0.517690</td>\n",
       "      <td>0.524879</td>\n",
       "      <td>-0.442160</td>\n",
       "      <td>-0.207415</td>\n",
       "    </tr>\n",
       "    <tr>\n",
       "      <th>829</th>\n",
       "      <td>-1.099564</td>\n",
       "      <td>0.084863</td>\n",
       "      <td>0.335398</td>\n",
       "      <td>2.267866</td>\n",
       "      <td>-0.902278</td>\n",
       "      <td>0.075404</td>\n",
       "      <td>1.182822</td>\n",
       "    </tr>\n",
       "  </tbody>\n",
       "</table>\n",
       "<p>830 rows × 7 columns</p>\n",
       "</div>"
      ],
      "text/plain": [
       "          PC1       PC2       PC3       PC4       PC5       PC6       PC7\n",
       "0   -2.209645 -0.508301  0.724210  0.343598  0.183359  0.077944 -0.230410\n",
       "1    0.152544  0.904492 -0.465995 -0.786564  0.306110  1.004383 -1.904204\n",
       "2    0.401404  0.997838 -0.303815 -0.491292 -1.097628  0.951899  0.035326\n",
       "3    0.000907 -0.805955 -0.980022  0.493056  0.252031  0.679500 -0.418031\n",
       "4    0.639123  1.896677  3.135330 -0.861672  1.794370  0.928703 -0.802523\n",
       "..        ...       ...       ...       ...       ...       ...       ...\n",
       "825 -1.187780 -1.343861  0.496662 -0.837847 -1.090334 -0.441093  0.504902\n",
       "826 -2.078701  0.518520 -1.783425 -0.830088 -0.184351  0.861541 -0.155780\n",
       "827 -0.245610 -0.211662 -0.394051 -0.799871  0.968647  0.030020 -0.173386\n",
       "828  1.498222  0.268759  0.939827 -0.517690  0.524879 -0.442160 -0.207415\n",
       "829 -1.099564  0.084863  0.335398  2.267866 -0.902278  0.075404  1.182822\n",
       "\n",
       "[830 rows x 7 columns]"
      ]
     },
     "metadata": {},
     "output_type": "display_data"
    }
   ],
   "source": [
    "# Create a DataFrame for the PCA-transformed features   \n",
    "X_pca_df = pd.DataFrame(X_pca, columns=[f'PC{i+1}' for i in range(X_pca.shape[1])])  \n",
    "print(\"\\nNew features dataset after using PCA (95%):\\n\")  \n",
    "display(X_pca_df)"
   ]
  },
  {
   "cell_type": "code",
   "execution_count": 69,
   "id": "45654b67",
   "metadata": {},
   "outputs": [],
   "source": [
    "# Validate PCA\n",
    "# Split the data into training and testing sets (80/20)\n",
    "X_train_pca, X_test_pca, Y_train, Y_test = train_test_split(X_pca_df, Y, test_size=0.2, random_state=42)\n",
    "\n",
    "# Initialize the KNN classifier\n",
    "clf_pca = KNeighborsClassifier(n_neighbors = 1)"
   ]
  },
  {
   "cell_type": "code",
   "execution_count": 70,
   "id": "807f03f1",
   "metadata": {},
   "outputs": [
    {
     "name": "stdout",
     "output_type": "stream",
     "text": [
      "\n",
      "Cross-validated accuracy after PCA: 0.8147\n"
     ]
    }
   ],
   "source": [
    "# Perform cross-validation to check accuracy after PCA\n",
    "accuracy_pca = np.mean(cross_val_score(clf_pca, X_train_pca, Y_train, scoring='accuracy', cv=10))\n",
    "print(f\"\\nCross-validated accuracy after PCA: {accuracy_pca:.4f}\")"
   ]
  },
  {
   "cell_type": "markdown",
   "id": "c634ca74",
   "metadata": {},
   "source": [
    "<div id=\"output\"> \n",
    "    <h2>Output the results</h2>    \n",
    "</div>  "
   ]
  },
  {
   "cell_type": "code",
   "execution_count": 71,
   "id": "2d6af3b4",
   "metadata": {},
   "outputs": [
    {
     "name": "stdout",
     "output_type": "stream",
     "text": [
      "\n",
      "Filter method result: 0.8328810492989597\n",
      "\n",
      "RFE result: 0.8457831325301205\n",
      "\n",
      "PCA result: 0.8147218453188604\n"
     ]
    }
   ],
   "source": [
    "# Output the results of different feature selection methods   \n",
    "print('\\nFilter method result:', accuracy_fm)     # Print accuracy score for filter (correlation analysis) method  \n",
    "print('\\nRFE result:', accuracy_rfe)              # Print accuracy score for recursive feature elimination (RFE) method\n",
    "print('\\nPCA result:', accuracy_pca)              # Print accuracy score for principal component analysis (PCA) method"
   ]
  },
  {
   "cell_type": "code",
   "execution_count": 72,
   "id": "45d85422",
   "metadata": {},
   "outputs": [
    {
     "name": "stdout",
     "output_type": "stream",
     "text": [
      "\n",
      "Using features that obtained from Recursive Feature Elimination (RFE) because it had better accuracy \n",
      "\n"
     ]
    }
   ],
   "source": [
    "print('\\nUsing features that obtained from Recursive Feature Elimination (RFE) because it had better accuracy \\n')"
   ]
  },
  {
   "cell_type": "markdown",
   "id": "75a67867",
   "metadata": {},
   "source": [
    "**Final dataset** after feature selection\n",
    "<hr>"
   ]
  },
  {
   "cell_type": "code",
   "execution_count": 73,
   "id": "e6d49630",
   "metadata": {},
   "outputs": [
    {
     "name": "stdout",
     "output_type": "stream",
     "text": [
      "\n",
      "selected features:\n",
      " ['Pregnancies', 'Glucose', 'SkinThickness', 'Insulin', 'BMI', 'DiabetesPedigreeFunction']\n"
     ]
    }
   ],
   "source": [
    "# Final dataset after feature selection (recursive feature elimination (RFE))\n",
    "# Extract the names of the selected features \n",
    "selected_features = significant_features_rfe.tolist()\n",
    "print('\\nselected features:\\n', selected_features)"
   ]
  },
  {
   "cell_type": "code",
   "execution_count": 74,
   "id": "f9d1381a",
   "metadata": {},
   "outputs": [
    {
     "name": "stdout",
     "output_type": "stream",
     "text": [
      "Final dataframe with selected features and target column:\n"
     ]
    },
    {
     "data": {
      "text/html": [
       "<div>\n",
       "<style scoped>\n",
       "    .dataframe tbody tr th:only-of-type {\n",
       "        vertical-align: middle;\n",
       "    }\n",
       "\n",
       "    .dataframe tbody tr th {\n",
       "        vertical-align: top;\n",
       "    }\n",
       "\n",
       "    .dataframe thead th {\n",
       "        text-align: right;\n",
       "    }\n",
       "</style>\n",
       "<table border=\"1\" class=\"dataframe\">\n",
       "  <thead>\n",
       "    <tr style=\"text-align: right;\">\n",
       "      <th></th>\n",
       "      <th>Pregnancies</th>\n",
       "      <th>Glucose</th>\n",
       "      <th>SkinThickness</th>\n",
       "      <th>Insulin</th>\n",
       "      <th>BMI</th>\n",
       "      <th>DiabetesPedigreeFunction</th>\n",
       "      <th>Outcome</th>\n",
       "    </tr>\n",
       "  </thead>\n",
       "  <tbody>\n",
       "    <tr>\n",
       "      <th>0</th>\n",
       "      <td>0.673824</td>\n",
       "      <td>0.991351</td>\n",
       "      <td>0.694306</td>\n",
       "      <td>1.653288</td>\n",
       "      <td>0.247974</td>\n",
       "      <td>0.788892</td>\n",
       "      <td>1</td>\n",
       "    </tr>\n",
       "    <tr>\n",
       "      <th>1</th>\n",
       "      <td>-0.860651</td>\n",
       "      <td>-1.170674</td>\n",
       "      <td>0.088124</td>\n",
       "      <td>-0.768397</td>\n",
       "      <td>-0.840853</td>\n",
       "      <td>-0.311759</td>\n",
       "      <td>0</td>\n",
       "    </tr>\n",
       "    <tr>\n",
       "      <th>2</th>\n",
       "      <td>1.287615</td>\n",
       "      <td>2.192476</td>\n",
       "      <td>-0.688185</td>\n",
       "      <td>1.007732</td>\n",
       "      <td>-1.354158</td>\n",
       "      <td>0.968346</td>\n",
       "      <td>1</td>\n",
       "    </tr>\n",
       "    <tr>\n",
       "      <th>3</th>\n",
       "      <td>-0.860651</td>\n",
       "      <td>-1.033403</td>\n",
       "      <td>-0.518059</td>\n",
       "      <td>-0.526821</td>\n",
       "      <td>-0.607533</td>\n",
       "      <td>-1.045526</td>\n",
       "      <td>0</td>\n",
       "    </tr>\n",
       "    <tr>\n",
       "      <th>4</th>\n",
       "      <td>0.366929</td>\n",
       "      <td>-0.106820</td>\n",
       "      <td>-0.635478</td>\n",
       "      <td>0.045677</td>\n",
       "      <td>-0.996400</td>\n",
       "      <td>-0.909939</td>\n",
       "      <td>0</td>\n",
       "    </tr>\n",
       "    <tr>\n",
       "      <th>...</th>\n",
       "      <td>...</td>\n",
       "      <td>...</td>\n",
       "      <td>...</td>\n",
       "      <td>...</td>\n",
       "      <td>...</td>\n",
       "      <td>...</td>\n",
       "      <td>...</td>\n",
       "    </tr>\n",
       "    <tr>\n",
       "      <th>634</th>\n",
       "      <td>1.901405</td>\n",
       "      <td>-0.621588</td>\n",
       "      <td>2.007702</td>\n",
       "      <td>0.744915</td>\n",
       "      <td>0.139091</td>\n",
       "      <td>-1.029575</td>\n",
       "      <td>0</td>\n",
       "    </tr>\n",
       "    <tr>\n",
       "      <th>635</th>\n",
       "      <td>-0.553756</td>\n",
       "      <td>0.099087</td>\n",
       "      <td>-0.113937</td>\n",
       "      <td>1.419981</td>\n",
       "      <td>0.745724</td>\n",
       "      <td>-0.355625</td>\n",
       "      <td>0</td>\n",
       "    </tr>\n",
       "    <tr>\n",
       "      <th>636</th>\n",
       "      <td>0.366929</td>\n",
       "      <td>0.064769</td>\n",
       "      <td>-0.518059</td>\n",
       "      <td>-0.260644</td>\n",
       "      <td>-0.903072</td>\n",
       "      <td>-0.734473</td>\n",
       "      <td>0</td>\n",
       "    </tr>\n",
       "    <tr>\n",
       "      <th>637</th>\n",
       "      <td>-0.860651</td>\n",
       "      <td>0.236358</td>\n",
       "      <td>-1.103404</td>\n",
       "      <td>1.332257</td>\n",
       "      <td>-0.296440</td>\n",
       "      <td>-0.319735</td>\n",
       "      <td>1</td>\n",
       "    </tr>\n",
       "    <tr>\n",
       "      <th>638</th>\n",
       "      <td>-0.860651</td>\n",
       "      <td>-0.896131</td>\n",
       "      <td>0.290185</td>\n",
       "      <td>0.444893</td>\n",
       "      <td>-0.249776</td>\n",
       "      <td>-0.455322</td>\n",
       "      <td>0</td>\n",
       "    </tr>\n",
       "  </tbody>\n",
       "</table>\n",
       "<p>639 rows × 7 columns</p>\n",
       "</div>"
      ],
      "text/plain": [
       "     Pregnancies   Glucose  SkinThickness   Insulin       BMI  \\\n",
       "0       0.673824  0.991351       0.694306  1.653288  0.247974   \n",
       "1      -0.860651 -1.170674       0.088124 -0.768397 -0.840853   \n",
       "2       1.287615  2.192476      -0.688185  1.007732 -1.354158   \n",
       "3      -0.860651 -1.033403      -0.518059 -0.526821 -0.607533   \n",
       "4       0.366929 -0.106820      -0.635478  0.045677 -0.996400   \n",
       "..           ...       ...            ...       ...       ...   \n",
       "634     1.901405 -0.621588       2.007702  0.744915  0.139091   \n",
       "635    -0.553756  0.099087      -0.113937  1.419981  0.745724   \n",
       "636     0.366929  0.064769      -0.518059 -0.260644 -0.903072   \n",
       "637    -0.860651  0.236358      -1.103404  1.332257 -0.296440   \n",
       "638    -0.860651 -0.896131       0.290185  0.444893 -0.249776   \n",
       "\n",
       "     DiabetesPedigreeFunction  Outcome  \n",
       "0                    0.788892        1  \n",
       "1                   -0.311759        0  \n",
       "2                    0.968346        1  \n",
       "3                   -1.045526        0  \n",
       "4                   -0.909939        0  \n",
       "..                        ...      ...  \n",
       "634                 -1.029575        0  \n",
       "635                 -0.355625        0  \n",
       "636                 -0.734473        0  \n",
       "637                 -0.319735        1  \n",
       "638                 -0.455322        0  \n",
       "\n",
       "[639 rows x 7 columns]"
      ]
     },
     "metadata": {},
     "output_type": "display_data"
    }
   ],
   "source": [
    "# Create the final dataframe with the selected features and add the target column\n",
    "df_final = df_Scaled[selected_features] \n",
    "df_final['Outcome'] = df_Scaled['Outcome']\n",
    "\n",
    "# Display the final dataframe\n",
    "print(\"Final dataframe with selected features and target column:\") \n",
    "display(df_final)"
   ]
  },
  {
   "cell_type": "markdown",
   "id": "d54ecce2",
   "metadata": {},
   "source": [
    "<hr>\n",
    "<div id=\"classification\"> \n",
    "    <h2>Classification</h2>    \n",
    "</div>\n",
    "<div>\n",
    "    <ol>\n",
    "        <li><a href=\"#nb\">Naive Bayes</a></li>\n",
    "        <li><a href=\"#rf\">Random Forest</a></li>   \n",
    "    </ol>\n",
    "</div>\n",
    "<br>"
   ]
  },
  {
   "cell_type": "code",
   "execution_count": 75,
   "id": "d2734558",
   "metadata": {},
   "outputs": [],
   "source": [
    "# Separate features and target variable  \n",
    "X = df_final.drop('Outcome', axis=1)              # Features  \n",
    "y = df_final['Outcome']                           # Target variable\n",
    "\n",
    "# Split the dataset into training and testing sets (80/20) \n",
    "X_train, X_test, Y_train, Y_test = train_test_split(X, y, test_size=0.2, random_state=42)"
   ]
  },
  {
   "cell_type": "code",
   "execution_count": 76,
   "id": "bd1eb094",
   "metadata": {},
   "outputs": [
    {
     "name": "stdout",
     "output_type": "stream",
     "text": [
      "\n",
      "The shape of the X_train dataset --> (511, 6)\n",
      "\n",
      "The shape of the Y_train dataset --> (511,)\n",
      "\n",
      "The shape of the X_test dataset --> (128, 6)\n",
      "\n",
      "The shape of the Y_test dataset --> (128,)\n",
      "\n",
      "\n"
     ]
    }
   ],
   "source": [
    "print('\\nThe shape of the X_train dataset -->', X_train.shape)\n",
    "print('\\nThe shape of the Y_train dataset -->', Y_train.shape)\n",
    "print('\\nThe shape of the X_test dataset -->', X_test.shape)\n",
    "print('\\nThe shape of the Y_test dataset -->', Y_test.shape)\n",
    "print('\\n')"
   ]
  },
  {
   "cell_type": "markdown",
   "id": "a0475fc0",
   "metadata": {},
   "source": [
    "<hr>\n",
    "<div id=\"nb\">   \n",
    "    <h2>Naive Bayes</h2>    \n",
    "</div>  \n",
    "<div>  \n",
    "    <ol>  \n",
    "        <li>  \n",
    "            <a href=\"#valid\">Validating</a>  \n",
    "            <ol>   \n",
    "                <li><a href=\"#holdout\">Holdout</a></li>   \n",
    "                <li><a href=\"#rrs\">Repeated Random Sampling</a></li>\n",
    "                <li><a href=\"#cv\">Cross-validation</a></li>  \n",
    "                <li><a href=\"#loocv\">Leave-one-out Cross-validation</a></li>    \n",
    "            </ol>  \n",
    "        </li>  \n",
    "        <li><a href=\"#test\">Testing</a></li>  \n",
    "        <li><a href=\"#roc\">ROC plot and AUC score</a></li> \n",
    "        <li><a href=\"#output\">Output the results</a></li> \n",
    "    </ol>  \n",
    "</div>  \n",
    "<br>  "
   ]
  },
  {
   "cell_type": "markdown",
   "id": "89fb1e41",
   "metadata": {},
   "source": [
    "<div id=\"holdout\"> \n",
    "    <h2>Holdout</h2>    \n",
    "</div>"
   ]
  },
  {
   "cell_type": "code",
   "execution_count": 77,
   "id": "efd40b59",
   "metadata": {},
   "outputs": [
    {
     "data": {
      "text/html": [
       "<style>#sk-container-id-2 {color: black;}#sk-container-id-2 pre{padding: 0;}#sk-container-id-2 div.sk-toggleable {background-color: white;}#sk-container-id-2 label.sk-toggleable__label {cursor: pointer;display: block;width: 100%;margin-bottom: 0;padding: 0.3em;box-sizing: border-box;text-align: center;}#sk-container-id-2 label.sk-toggleable__label-arrow:before {content: \"▸\";float: left;margin-right: 0.25em;color: #696969;}#sk-container-id-2 label.sk-toggleable__label-arrow:hover:before {color: black;}#sk-container-id-2 div.sk-estimator:hover label.sk-toggleable__label-arrow:before {color: black;}#sk-container-id-2 div.sk-toggleable__content {max-height: 0;max-width: 0;overflow: hidden;text-align: left;background-color: #f0f8ff;}#sk-container-id-2 div.sk-toggleable__content pre {margin: 0.2em;color: black;border-radius: 0.25em;background-color: #f0f8ff;}#sk-container-id-2 input.sk-toggleable__control:checked~div.sk-toggleable__content {max-height: 200px;max-width: 100%;overflow: auto;}#sk-container-id-2 input.sk-toggleable__control:checked~label.sk-toggleable__label-arrow:before {content: \"▾\";}#sk-container-id-2 div.sk-estimator input.sk-toggleable__control:checked~label.sk-toggleable__label {background-color: #d4ebff;}#sk-container-id-2 div.sk-label input.sk-toggleable__control:checked~label.sk-toggleable__label {background-color: #d4ebff;}#sk-container-id-2 input.sk-hidden--visually {border: 0;clip: rect(1px 1px 1px 1px);clip: rect(1px, 1px, 1px, 1px);height: 1px;margin: -1px;overflow: hidden;padding: 0;position: absolute;width: 1px;}#sk-container-id-2 div.sk-estimator {font-family: monospace;background-color: #f0f8ff;border: 1px dotted black;border-radius: 0.25em;box-sizing: border-box;margin-bottom: 0.5em;}#sk-container-id-2 div.sk-estimator:hover {background-color: #d4ebff;}#sk-container-id-2 div.sk-parallel-item::after {content: \"\";width: 100%;border-bottom: 1px solid gray;flex-grow: 1;}#sk-container-id-2 div.sk-label:hover label.sk-toggleable__label {background-color: #d4ebff;}#sk-container-id-2 div.sk-serial::before {content: \"\";position: absolute;border-left: 1px solid gray;box-sizing: border-box;top: 0;bottom: 0;left: 50%;z-index: 0;}#sk-container-id-2 div.sk-serial {display: flex;flex-direction: column;align-items: center;background-color: white;padding-right: 0.2em;padding-left: 0.2em;position: relative;}#sk-container-id-2 div.sk-item {position: relative;z-index: 1;}#sk-container-id-2 div.sk-parallel {display: flex;align-items: stretch;justify-content: center;background-color: white;position: relative;}#sk-container-id-2 div.sk-item::before, #sk-container-id-2 div.sk-parallel-item::before {content: \"\";position: absolute;border-left: 1px solid gray;box-sizing: border-box;top: 0;bottom: 0;left: 50%;z-index: -1;}#sk-container-id-2 div.sk-parallel-item {display: flex;flex-direction: column;z-index: 1;position: relative;background-color: white;}#sk-container-id-2 div.sk-parallel-item:first-child::after {align-self: flex-end;width: 50%;}#sk-container-id-2 div.sk-parallel-item:last-child::after {align-self: flex-start;width: 50%;}#sk-container-id-2 div.sk-parallel-item:only-child::after {width: 0;}#sk-container-id-2 div.sk-dashed-wrapped {border: 1px dashed gray;margin: 0 0.4em 0.5em 0.4em;box-sizing: border-box;padding-bottom: 0.4em;background-color: white;}#sk-container-id-2 div.sk-label label {font-family: monospace;font-weight: bold;display: inline-block;line-height: 1.2em;}#sk-container-id-2 div.sk-label-container {text-align: center;}#sk-container-id-2 div.sk-container {/* jupyter's `normalize.less` sets `[hidden] { display: none; }` but bootstrap.min.css set `[hidden] { display: none !important; }` so we also need the `!important` here to be able to override the default hidden behavior on the sphinx rendered scikit-learn.org. See: https://github.com/scikit-learn/scikit-learn/issues/21755 */display: inline-block !important;position: relative;}#sk-container-id-2 div.sk-text-repr-fallback {display: none;}</style><div id=\"sk-container-id-2\" class=\"sk-top-container\"><div class=\"sk-text-repr-fallback\"><pre>GaussianNB()</pre><b>In a Jupyter environment, please rerun this cell to show the HTML representation or trust the notebook. <br />On GitHub, the HTML representation is unable to render, please try loading this page with nbviewer.org.</b></div><div class=\"sk-container\" hidden><div class=\"sk-item\"><div class=\"sk-estimator sk-toggleable\"><input class=\"sk-toggleable__control sk-hidden--visually\" id=\"sk-estimator-id-4\" type=\"checkbox\" checked><label for=\"sk-estimator-id-4\" class=\"sk-toggleable__label sk-toggleable__label-arrow\">GaussianNB</label><div class=\"sk-toggleable__content\"><pre>GaussianNB()</pre></div></div></div></div></div>"
      ],
      "text/plain": [
       "GaussianNB()"
      ]
     },
     "execution_count": 77,
     "metadata": {},
     "output_type": "execute_result"
    }
   ],
   "source": [
    "# Holdout \n",
    "# Split the dataset into training and validating sets (80/20)\n",
    "x_train, x_val, y_train, y_val = train_test_split(X_train, Y_train, test_size=0.2, random_state=42)\n",
    "\n",
    "# Train a Naive Bayes classifier\n",
    "clf_nb_h = GaussianNB()\n",
    "\n",
    "# Fit the model to the training data\n",
    "clf_nb_h.fit(x_train, y_train)"
   ]
  },
  {
   "cell_type": "code",
   "execution_count": 78,
   "id": "ed65cc4b",
   "metadata": {},
   "outputs": [
    {
     "name": "stdout",
     "output_type": "stream",
     "text": [
      "\n",
      "Holdout result:\n",
      "\n",
      "Accuracy  --> 0.7766990291262136\n",
      "\n",
      "\n"
     ]
    }
   ],
   "source": [
    "# Predict the labels for the validating data\n",
    "y_predict = clf_nb_h.predict(x_val)\n",
    "\n",
    "# Evaluate model performance\n",
    "print('\\nHoldout result:')\n",
    "accuracy_score_holdout = accuracy_score(y_val, y_predict)\n",
    "print('\\nAccuracy  -->', accuracy_score_holdout)\n",
    "print('\\n')"
   ]
  },
  {
   "cell_type": "markdown",
   "id": "e58a1184",
   "metadata": {},
   "source": [
    "<div id=\"rrs\"> \n",
    "    <h2>Repeated Random Sampling</h2>    \n",
    "</div>"
   ]
  },
  {
   "cell_type": "code",
   "execution_count": 79,
   "id": "a8e7a319",
   "metadata": {},
   "outputs": [],
   "source": [
    "# Repeated random sampling\n",
    "\n",
    "Accuracy = []             # Initialize a list to store accuracy results\n",
    "num_repeats = 10          # Number of times to repeat random sampling\n",
    "\n",
    "# Perform repeated random sampling\n",
    "for i in range(num_repeats):\n",
    "    \n",
    "    # Split the dataset into training and validating sets (80/20)\n",
    "    x_train, x_val, y_train, y_val = train_test_split(X_train, Y_train, test_size=0.2, random_state=42)\n",
    "\n",
    "    # Train a Naive Bayes classifier\n",
    "    clf_nb_rrs = GaussianNB()\n",
    "\n",
    "    # Fit the model to the training data\n",
    "    clf_nb_rrs.fit(x_train, y_train)\n",
    "\n",
    "    # Predict the labels for the validating data\n",
    "    y_predict = clf_nb_rrs.predict(x_val)\n",
    "    accuracy_score(y_val, y_predict)\n",
    "    Accuracy.append(accuracy_score(y_val, y_predict))"
   ]
  },
  {
   "cell_type": "code",
   "execution_count": 80,
   "id": "b56ddb3e",
   "metadata": {},
   "outputs": [
    {
     "name": "stdout",
     "output_type": "stream",
     "text": [
      "\n",
      "Accuracy in 10 iterations for different train and validation sets:\n",
      "\n"
     ]
    },
    {
     "data": {
      "text/html": [
       "<div>\n",
       "<style scoped>\n",
       "    .dataframe tbody tr th:only-of-type {\n",
       "        vertical-align: middle;\n",
       "    }\n",
       "\n",
       "    .dataframe tbody tr th {\n",
       "        vertical-align: top;\n",
       "    }\n",
       "\n",
       "    .dataframe thead th {\n",
       "        text-align: right;\n",
       "    }\n",
       "</style>\n",
       "<table border=\"1\" class=\"dataframe\">\n",
       "  <thead>\n",
       "    <tr style=\"text-align: right;\">\n",
       "      <th></th>\n",
       "      <th>Accuracy</th>\n",
       "    </tr>\n",
       "  </thead>\n",
       "  <tbody>\n",
       "    <tr>\n",
       "      <th>0</th>\n",
       "      <td>0.776699</td>\n",
       "    </tr>\n",
       "    <tr>\n",
       "      <th>1</th>\n",
       "      <td>0.776699</td>\n",
       "    </tr>\n",
       "    <tr>\n",
       "      <th>2</th>\n",
       "      <td>0.776699</td>\n",
       "    </tr>\n",
       "    <tr>\n",
       "      <th>3</th>\n",
       "      <td>0.776699</td>\n",
       "    </tr>\n",
       "    <tr>\n",
       "      <th>4</th>\n",
       "      <td>0.776699</td>\n",
       "    </tr>\n",
       "    <tr>\n",
       "      <th>5</th>\n",
       "      <td>0.776699</td>\n",
       "    </tr>\n",
       "    <tr>\n",
       "      <th>6</th>\n",
       "      <td>0.776699</td>\n",
       "    </tr>\n",
       "    <tr>\n",
       "      <th>7</th>\n",
       "      <td>0.776699</td>\n",
       "    </tr>\n",
       "    <tr>\n",
       "      <th>8</th>\n",
       "      <td>0.776699</td>\n",
       "    </tr>\n",
       "    <tr>\n",
       "      <th>9</th>\n",
       "      <td>0.776699</td>\n",
       "    </tr>\n",
       "  </tbody>\n",
       "</table>\n",
       "</div>"
      ],
      "text/plain": [
       "   Accuracy\n",
       "0  0.776699\n",
       "1  0.776699\n",
       "2  0.776699\n",
       "3  0.776699\n",
       "4  0.776699\n",
       "5  0.776699\n",
       "6  0.776699\n",
       "7  0.776699\n",
       "8  0.776699\n",
       "9  0.776699"
      ]
     },
     "metadata": {},
     "output_type": "display_data"
    },
    {
     "name": "stdout",
     "output_type": "stream",
     "text": [
      "\n",
      "The mean of different accuracies for validating the model --> 0.7766990291262135\n",
      "\n",
      "\n"
     ]
    }
   ],
   "source": [
    "# Evaluate model performance        \n",
    "df_Accuracy = pd.DataFrame(Accuracy, columns=['Accuracy'])\n",
    "print('\\nAccuracy in 10 iterations for different train and validation sets:\\n')\n",
    "display(df_Accuracy)\n",
    "\n",
    "accuracy_score_rrs = df_Accuracy.Accuracy.mean()\n",
    "print('\\nThe mean of different accuracies for validating the model -->', accuracy_score_rrs)\n",
    "print('\\n')"
   ]
  },
  {
   "cell_type": "markdown",
   "id": "f365493d",
   "metadata": {},
   "source": [
    "<div id=\"cv\"> \n",
    "\t<h2>Cross_validation</h2>    \n",
    "</div>"
   ]
  },
  {
   "cell_type": "code",
   "execution_count": 81,
   "id": "7a6aade4",
   "metadata": {},
   "outputs": [
    {
     "data": {
      "text/html": [
       "<style>#sk-container-id-3 {color: black;}#sk-container-id-3 pre{padding: 0;}#sk-container-id-3 div.sk-toggleable {background-color: white;}#sk-container-id-3 label.sk-toggleable__label {cursor: pointer;display: block;width: 100%;margin-bottom: 0;padding: 0.3em;box-sizing: border-box;text-align: center;}#sk-container-id-3 label.sk-toggleable__label-arrow:before {content: \"▸\";float: left;margin-right: 0.25em;color: #696969;}#sk-container-id-3 label.sk-toggleable__label-arrow:hover:before {color: black;}#sk-container-id-3 div.sk-estimator:hover label.sk-toggleable__label-arrow:before {color: black;}#sk-container-id-3 div.sk-toggleable__content {max-height: 0;max-width: 0;overflow: hidden;text-align: left;background-color: #f0f8ff;}#sk-container-id-3 div.sk-toggleable__content pre {margin: 0.2em;color: black;border-radius: 0.25em;background-color: #f0f8ff;}#sk-container-id-3 input.sk-toggleable__control:checked~div.sk-toggleable__content {max-height: 200px;max-width: 100%;overflow: auto;}#sk-container-id-3 input.sk-toggleable__control:checked~label.sk-toggleable__label-arrow:before {content: \"▾\";}#sk-container-id-3 div.sk-estimator input.sk-toggleable__control:checked~label.sk-toggleable__label {background-color: #d4ebff;}#sk-container-id-3 div.sk-label input.sk-toggleable__control:checked~label.sk-toggleable__label {background-color: #d4ebff;}#sk-container-id-3 input.sk-hidden--visually {border: 0;clip: rect(1px 1px 1px 1px);clip: rect(1px, 1px, 1px, 1px);height: 1px;margin: -1px;overflow: hidden;padding: 0;position: absolute;width: 1px;}#sk-container-id-3 div.sk-estimator {font-family: monospace;background-color: #f0f8ff;border: 1px dotted black;border-radius: 0.25em;box-sizing: border-box;margin-bottom: 0.5em;}#sk-container-id-3 div.sk-estimator:hover {background-color: #d4ebff;}#sk-container-id-3 div.sk-parallel-item::after {content: \"\";width: 100%;border-bottom: 1px solid gray;flex-grow: 1;}#sk-container-id-3 div.sk-label:hover label.sk-toggleable__label {background-color: #d4ebff;}#sk-container-id-3 div.sk-serial::before {content: \"\";position: absolute;border-left: 1px solid gray;box-sizing: border-box;top: 0;bottom: 0;left: 50%;z-index: 0;}#sk-container-id-3 div.sk-serial {display: flex;flex-direction: column;align-items: center;background-color: white;padding-right: 0.2em;padding-left: 0.2em;position: relative;}#sk-container-id-3 div.sk-item {position: relative;z-index: 1;}#sk-container-id-3 div.sk-parallel {display: flex;align-items: stretch;justify-content: center;background-color: white;position: relative;}#sk-container-id-3 div.sk-item::before, #sk-container-id-3 div.sk-parallel-item::before {content: \"\";position: absolute;border-left: 1px solid gray;box-sizing: border-box;top: 0;bottom: 0;left: 50%;z-index: -1;}#sk-container-id-3 div.sk-parallel-item {display: flex;flex-direction: column;z-index: 1;position: relative;background-color: white;}#sk-container-id-3 div.sk-parallel-item:first-child::after {align-self: flex-end;width: 50%;}#sk-container-id-3 div.sk-parallel-item:last-child::after {align-self: flex-start;width: 50%;}#sk-container-id-3 div.sk-parallel-item:only-child::after {width: 0;}#sk-container-id-3 div.sk-dashed-wrapped {border: 1px dashed gray;margin: 0 0.4em 0.5em 0.4em;box-sizing: border-box;padding-bottom: 0.4em;background-color: white;}#sk-container-id-3 div.sk-label label {font-family: monospace;font-weight: bold;display: inline-block;line-height: 1.2em;}#sk-container-id-3 div.sk-label-container {text-align: center;}#sk-container-id-3 div.sk-container {/* jupyter's `normalize.less` sets `[hidden] { display: none; }` but bootstrap.min.css set `[hidden] { display: none !important; }` so we also need the `!important` here to be able to override the default hidden behavior on the sphinx rendered scikit-learn.org. See: https://github.com/scikit-learn/scikit-learn/issues/21755 */display: inline-block !important;position: relative;}#sk-container-id-3 div.sk-text-repr-fallback {display: none;}</style><div id=\"sk-container-id-3\" class=\"sk-top-container\"><div class=\"sk-text-repr-fallback\"><pre>GaussianNB()</pre><b>In a Jupyter environment, please rerun this cell to show the HTML representation or trust the notebook. <br />On GitHub, the HTML representation is unable to render, please try loading this page with nbviewer.org.</b></div><div class=\"sk-container\" hidden><div class=\"sk-item\"><div class=\"sk-estimator sk-toggleable\"><input class=\"sk-toggleable__control sk-hidden--visually\" id=\"sk-estimator-id-5\" type=\"checkbox\" checked><label for=\"sk-estimator-id-5\" class=\"sk-toggleable__label sk-toggleable__label-arrow\">GaussianNB</label><div class=\"sk-toggleable__content\"><pre>GaussianNB()</pre></div></div></div></div></div>"
      ],
      "text/plain": [
       "GaussianNB()"
      ]
     },
     "execution_count": 81,
     "metadata": {},
     "output_type": "execute_result"
    }
   ],
   "source": [
    "# Cross_validation\n",
    "# Split the dataset into training and validating sets (80/20)\n",
    "x_train, x_val, y_train, y_val = train_test_split(X_train, Y_train, test_size=0.2, random_state=42)\n",
    "\n",
    "# Train a Naive Bayes classifier\n",
    "clf_nb_cv = GaussianNB()\n",
    "\n",
    "# Fit the model to the training data\n",
    "clf_nb_cv.fit(x_train, y_train)"
   ]
  },
  {
   "cell_type": "code",
   "execution_count": 82,
   "id": "00302296",
   "metadata": {},
   "outputs": [],
   "source": [
    "# Perform cross-validation\n",
    "CV_scores = cross_val_score(clf_nb_cv, x_train, y_train, cv=10)        # 10-fold cross-validation\n",
    "CV_score_df = pd.DataFrame(CV_scores, columns = ['Accuracy'])"
   ]
  },
  {
   "cell_type": "code",
   "execution_count": 83,
   "id": "74065fa6",
   "metadata": {},
   "outputs": [
    {
     "name": "stdout",
     "output_type": "stream",
     "text": [
      "\n",
      "Validating the model with cross-validation:\n",
      "\n",
      "\n",
      "CV scores for 10 folds:\n",
      "\n"
     ]
    },
    {
     "data": {
      "text/html": [
       "<div>\n",
       "<style scoped>\n",
       "    .dataframe tbody tr th:only-of-type {\n",
       "        vertical-align: middle;\n",
       "    }\n",
       "\n",
       "    .dataframe tbody tr th {\n",
       "        vertical-align: top;\n",
       "    }\n",
       "\n",
       "    .dataframe thead th {\n",
       "        text-align: right;\n",
       "    }\n",
       "</style>\n",
       "<table border=\"1\" class=\"dataframe\">\n",
       "  <thead>\n",
       "    <tr style=\"text-align: right;\">\n",
       "      <th></th>\n",
       "      <th>Accuracy</th>\n",
       "    </tr>\n",
       "  </thead>\n",
       "  <tbody>\n",
       "    <tr>\n",
       "      <th>0</th>\n",
       "      <td>0.780488</td>\n",
       "    </tr>\n",
       "    <tr>\n",
       "      <th>1</th>\n",
       "      <td>0.829268</td>\n",
       "    </tr>\n",
       "    <tr>\n",
       "      <th>2</th>\n",
       "      <td>0.780488</td>\n",
       "    </tr>\n",
       "    <tr>\n",
       "      <th>3</th>\n",
       "      <td>0.780488</td>\n",
       "    </tr>\n",
       "    <tr>\n",
       "      <th>4</th>\n",
       "      <td>0.780488</td>\n",
       "    </tr>\n",
       "    <tr>\n",
       "      <th>5</th>\n",
       "      <td>0.829268</td>\n",
       "    </tr>\n",
       "    <tr>\n",
       "      <th>6</th>\n",
       "      <td>0.756098</td>\n",
       "    </tr>\n",
       "    <tr>\n",
       "      <th>7</th>\n",
       "      <td>0.707317</td>\n",
       "    </tr>\n",
       "    <tr>\n",
       "      <th>8</th>\n",
       "      <td>0.850000</td>\n",
       "    </tr>\n",
       "    <tr>\n",
       "      <th>9</th>\n",
       "      <td>0.700000</td>\n",
       "    </tr>\n",
       "  </tbody>\n",
       "</table>\n",
       "</div>"
      ],
      "text/plain": [
       "   Accuracy\n",
       "0  0.780488\n",
       "1  0.829268\n",
       "2  0.780488\n",
       "3  0.780488\n",
       "4  0.780488\n",
       "5  0.829268\n",
       "6  0.756098\n",
       "7  0.707317\n",
       "8  0.850000\n",
       "9  0.700000"
      ]
     },
     "metadata": {},
     "output_type": "display_data"
    },
    {
     "name": "stdout",
     "output_type": "stream",
     "text": [
      "\n",
      "The mean of CV scores --> 0.779390243902439\n",
      "\n",
      "\n"
     ]
    }
   ],
   "source": [
    "# Evaluate model performance\n",
    "print('\\nValidating the model with cross-validation:\\n')\n",
    "print('\\nCV scores for 10 folds:\\n')\n",
    "display(CV_score_df)\n",
    "\n",
    "accuracy_score_cv = CV_score_df.Accuracy.mean()\n",
    "print('\\nThe mean of CV scores -->', accuracy_score_cv)\n",
    "print('\\n')"
   ]
  },
  {
   "cell_type": "markdown",
   "id": "7293c66c",
   "metadata": {},
   "source": [
    "<div id=\"loocv\"> \n",
    "\t<h2>Leave-on-out Cross-validation</h2>    \n",
    "</div>"
   ]
  },
  {
   "cell_type": "code",
   "execution_count": 84,
   "id": "3f4976da",
   "metadata": {},
   "outputs": [],
   "source": [
    "# Leave-one-out Cross-validation (LOOCV)\n",
    "# Split the dataset into training and validating sets (80/20)\n",
    "x_train, x_val, y_train, y_val = train_test_split(X_train, Y_train, test_size=0.2, random_state=42)\n",
    "\n",
    "# Train a Naive Bayes classifier\n",
    "clf_nb_loocv = GaussianNB()"
   ]
  },
  {
   "cell_type": "code",
   "execution_count": 85,
   "id": "c3aca28e",
   "metadata": {},
   "outputs": [],
   "source": [
    "# Perform Leave-one-out Cross-validation\n",
    "LOOCV = LeaveOneOut()\n",
    "LOOCV_scores = cross_val_score(clf_nb_loocv, x_train, y_train, cv = LOOCV)\n",
    "LOOCV_scores_df = pd.DataFrame(LOOCV_scores, columns = ['Accuracy'])"
   ]
  },
  {
   "cell_type": "code",
   "execution_count": 86,
   "id": "aca909f5",
   "metadata": {},
   "outputs": [
    {
     "name": "stdout",
     "output_type": "stream",
     "text": [
      "\n",
      "Validating the model with Leave-one-out Cross-validation:\n",
      "\n",
      "\n",
      "LOOCV scores:\n",
      "\n"
     ]
    },
    {
     "data": {
      "text/html": [
       "<div>\n",
       "<style scoped>\n",
       "    .dataframe tbody tr th:only-of-type {\n",
       "        vertical-align: middle;\n",
       "    }\n",
       "\n",
       "    .dataframe tbody tr th {\n",
       "        vertical-align: top;\n",
       "    }\n",
       "\n",
       "    .dataframe thead th {\n",
       "        text-align: right;\n",
       "    }\n",
       "</style>\n",
       "<table border=\"1\" class=\"dataframe\">\n",
       "  <thead>\n",
       "    <tr style=\"text-align: right;\">\n",
       "      <th></th>\n",
       "      <th>Accuracy</th>\n",
       "    </tr>\n",
       "  </thead>\n",
       "  <tbody>\n",
       "    <tr>\n",
       "      <th>0</th>\n",
       "      <td>1.0</td>\n",
       "    </tr>\n",
       "    <tr>\n",
       "      <th>1</th>\n",
       "      <td>1.0</td>\n",
       "    </tr>\n",
       "    <tr>\n",
       "      <th>2</th>\n",
       "      <td>1.0</td>\n",
       "    </tr>\n",
       "    <tr>\n",
       "      <th>3</th>\n",
       "      <td>1.0</td>\n",
       "    </tr>\n",
       "    <tr>\n",
       "      <th>4</th>\n",
       "      <td>1.0</td>\n",
       "    </tr>\n",
       "    <tr>\n",
       "      <th>...</th>\n",
       "      <td>...</td>\n",
       "    </tr>\n",
       "    <tr>\n",
       "      <th>403</th>\n",
       "      <td>0.0</td>\n",
       "    </tr>\n",
       "    <tr>\n",
       "      <th>404</th>\n",
       "      <td>1.0</td>\n",
       "    </tr>\n",
       "    <tr>\n",
       "      <th>405</th>\n",
       "      <td>0.0</td>\n",
       "    </tr>\n",
       "    <tr>\n",
       "      <th>406</th>\n",
       "      <td>0.0</td>\n",
       "    </tr>\n",
       "    <tr>\n",
       "      <th>407</th>\n",
       "      <td>1.0</td>\n",
       "    </tr>\n",
       "  </tbody>\n",
       "</table>\n",
       "<p>408 rows × 1 columns</p>\n",
       "</div>"
      ],
      "text/plain": [
       "     Accuracy\n",
       "0         1.0\n",
       "1         1.0\n",
       "2         1.0\n",
       "3         1.0\n",
       "4         1.0\n",
       "..        ...\n",
       "403       0.0\n",
       "404       1.0\n",
       "405       0.0\n",
       "406       0.0\n",
       "407       1.0\n",
       "\n",
       "[408 rows x 1 columns]"
      ]
     },
     "metadata": {},
     "output_type": "display_data"
    },
    {
     "name": "stdout",
     "output_type": "stream",
     "text": [
      "\n",
      "The mean of CV scores --> 0.7794117647058824\n",
      "\n",
      "\n"
     ]
    }
   ],
   "source": [
    "# Evaluate model performance\n",
    "print('\\nValidating the model with Leave-one-out Cross-validation:\\n')\n",
    "print('\\nLOOCV scores:\\n')\n",
    "display(LOOCV_scores_df)\n",
    "\n",
    "accuracy_score_loocv = LOOCV_scores_df.Accuracy.mean()\n",
    "print('\\nThe mean of CV scores -->', accuracy_score_loocv)\n",
    "print('\\n')"
   ]
  },
  {
   "cell_type": "markdown",
   "id": "06dc9688",
   "metadata": {},
   "source": [
    "<div id=\"test\"> \n",
    "    <h2>Testing</h2>    \n",
    "</div>"
   ]
  },
  {
   "cell_type": "code",
   "execution_count": 87,
   "id": "5b734195",
   "metadata": {},
   "outputs": [],
   "source": [
    "# Testing\n",
    "# Train a Naive Bayes classifier\n",
    "clf_nb = GaussianNB()\n",
    "\n",
    "# Fit the model to the training data\n",
    "clf_nb.fit(X_train, Y_train)\n",
    "\n",
    "# Predict the labels for the testing data\n",
    "Y_predict = clf_nb.predict(X_test)\n",
    "\n",
    "# Predict the probabilities for the testing data\n",
    "y_prob = clf_nb.predict_proba(X_test)[:, 1]             # Extract probabilities for the positive class"
   ]
  },
  {
   "cell_type": "code",
   "execution_count": 88,
   "id": "726af42c",
   "metadata": {},
   "outputs": [
    {
     "name": "stdout",
     "output_type": "stream",
     "text": [
      "\n",
      "Testing the model:\n",
      "\n",
      "\n",
      "Accuracy  --> 0.78125\n",
      "\n",
      "Recall or Sensitivity or TPR ---> 0.5555555555555556\n",
      "\n",
      "Precision --> 0.625\n",
      "\n",
      "F1_score --> 0.5882352941176471\n",
      "\n",
      "\n"
     ]
    }
   ],
   "source": [
    "# Evaluate model performance\n",
    "print('\\nTesting the model:\\n')\n",
    "\n",
    "accuracy_score_nb_testing = accuracy_score(Y_test, Y_predict)\n",
    "print('\\nAccuracy  -->', accuracy_score_nb_testing)                                # Accuracy calculation\n",
    "print('\\nRecall or Sensitivity or TPR --->', recall_score(Y_test, Y_predict))      # Recall calculation\n",
    "print('\\nPrecision -->', precision_score(Y_test, Y_predict))                       # Precision calculation\n",
    "print('\\nF1_score -->', f1_score(Y_test, Y_predict))                               # F1 score calculation\n",
    "print('\\n')"
   ]
  },
  {
   "cell_type": "code",
   "execution_count": 89,
   "id": "669a537f",
   "metadata": {},
   "outputs": [
    {
     "name": "stdout",
     "output_type": "stream",
     "text": [
      "\n",
      "Classification report:\n",
      "               precision    recall  f1-score   support\n",
      "\n",
      "           0       0.83      0.87      0.85        92\n",
      "           1       0.62      0.56      0.59        36\n",
      "\n",
      "    accuracy                           0.78       128\n",
      "   macro avg       0.73      0.71      0.72       128\n",
      "weighted avg       0.77      0.78      0.78       128\n",
      "\n"
     ]
    }
   ],
   "source": [
    "# Generate and display the classification report\n",
    "print('\\nClassification report:\\n', classification_report(Y_test, Y_predict))"
   ]
  },
  {
   "cell_type": "code",
   "execution_count": 90,
   "id": "ac5e18c9",
   "metadata": {},
   "outputs": [
    {
     "name": "stdout",
     "output_type": "stream",
     "text": [
      "\n",
      "Confusion matrix:\n",
      "\n"
     ]
    },
    {
     "data": {
      "text/html": [
       "<div>\n",
       "<style scoped>\n",
       "    .dataframe tbody tr th:only-of-type {\n",
       "        vertical-align: middle;\n",
       "    }\n",
       "\n",
       "    .dataframe tbody tr th {\n",
       "        vertical-align: top;\n",
       "    }\n",
       "\n",
       "    .dataframe thead th {\n",
       "        text-align: right;\n",
       "    }\n",
       "</style>\n",
       "<table border=\"1\" class=\"dataframe\">\n",
       "  <thead>\n",
       "    <tr style=\"text-align: right;\">\n",
       "      <th></th>\n",
       "      <th>benign present</th>\n",
       "      <th>malignant present</th>\n",
       "    </tr>\n",
       "  </thead>\n",
       "  <tbody>\n",
       "    <tr>\n",
       "      <th>test benign</th>\n",
       "      <td>80</td>\n",
       "      <td>12</td>\n",
       "    </tr>\n",
       "    <tr>\n",
       "      <th>test malignant</th>\n",
       "      <td>16</td>\n",
       "      <td>20</td>\n",
       "    </tr>\n",
       "  </tbody>\n",
       "</table>\n",
       "</div>"
      ],
      "text/plain": [
       "                benign present  malignant present\n",
       "test benign                 80                 12\n",
       "test malignant              16                 20"
      ]
     },
     "metadata": {},
     "output_type": "display_data"
    },
    {
     "name": "stdout",
     "output_type": "stream",
     "text": [
      "\n",
      "\n"
     ]
    }
   ],
   "source": [
    "# Generate and display the confusion matrix\n",
    "confusion_matrix = metrics.confusion_matrix(Y_test, Y_predict)\n",
    "\n",
    "# Create a dataframe for the confusion matrix for better visualization\n",
    "confusion_matrix_dataframe = pd.DataFrame(confusion_matrix, columns = ['benign present', 'malignant present'], \n",
    "                                          index = ['test benign', 'test malignant'])\n",
    "print(\"\\nConfusion matrix:\\n\")\n",
    "display(confusion_matrix_dataframe)\n",
    "print('\\n')"
   ]
  },
  {
   "cell_type": "markdown",
   "id": "f0f9c501",
   "metadata": {},
   "source": [
    "<div id=\"roc\"> \n",
    "    <h2>ROC plot and AUC score</h2>    \n",
    "</div>"
   ]
  },
  {
   "cell_type": "code",
   "execution_count": 91,
   "id": "2a76210f",
   "metadata": {},
   "outputs": [],
   "source": [
    "# Function to plot ROC curve  \n",
    "def plot_roc_curve(Y_test, y_prob):     \n",
    "    # Calculate ROC curve  \n",
    "    fpr, tpr, thresholds = roc_curve(Y_test, y_prob)  \n",
    "    \n",
    "    # Plot ROC curve\n",
    "    plt.plot(fpr, tpr)  \n",
    "    plt.xlabel('False Positive Rate')  \n",
    "    plt.ylabel('True Positive Rate')  \n",
    "    plt.title('ROC Curve')  \n",
    "    plt.grid()\n",
    "    plt.show()          "
   ]
  },
  {
   "cell_type": "code",
   "execution_count": 92,
   "id": "df6a6e42",
   "metadata": {},
   "outputs": [
    {
     "data": {
      "image/png": "[encoded data removed]",
      "text/plain": [
       "<Figure size 640x480 with 1 Axes>"
      ]
     },
     "metadata": {},
     "output_type": "display_data"
    },
    {
     "name": "stdout",
     "output_type": "stream",
     "text": [
      "\n",
      "AUC score: 0.8472222222222222\n",
      "\n",
      "\n"
     ]
    }
   ],
   "source": [
    "# Plot the ROC curve using predicted probabilities  \n",
    "plot_roc_curve(Y_test, y_prob)  \n",
    "\n",
    "# Calculate AUC score  \n",
    "auc_score = roc_auc_score(Y_test, y_prob)   \n",
    "print('\\nAUC score:', auc_score)  \n",
    "print('\\n')"
   ]
  },
  {
   "cell_type": "markdown",
   "id": "258cac47",
   "metadata": {},
   "source": [
    "<div id=\"output\"> \n",
    "    <h2>Output the results</h2>    \n",
    "</div>"
   ]
  },
  {
   "cell_type": "code",
   "execution_count": 93,
   "id": "7f7927ff",
   "metadata": {},
   "outputs": [
    {
     "name": "stdout",
     "output_type": "stream",
     "text": [
      "\n",
      "Holdout result: 0.7766990291262136\n",
      "\n",
      "Repeated random sampling result: 0.7766990291262135\n",
      "\n",
      "Cross-validation result: 0.779390243902439\n",
      "\n",
      "Leave-one-out Cross-validation result: 0.7794117647058824\n",
      "\n",
      "Naive Bayes testing result: 0.78125\n",
      "\n",
      "AUC score: 0.8472222222222222\n"
     ]
    }
   ],
   "source": [
    "# Output the results of different validation methods and the Naive Bayes testing  \n",
    "print('\\nHoldout result:', accuracy_score_holdout)                       # Print accuracy score for the holdout method  \n",
    "print('\\nRepeated random sampling result:', accuracy_score_rrs)          # Print accuracy score for repeated random sampling method\n",
    "print('\\nCross-validation result:', accuracy_score_cv)                   # Print accuracy score for cross-validation method  \n",
    "print('\\nLeave-one-out Cross-validation result:', accuracy_score_loocv)  # Print accuracy score for leave-one-out cross-validation method  \n",
    "print('\\nNaive Bayes testing result:', accuracy_score_nb_testing)        # Print accuracy score for naive bayes testing  \n",
    "print('\\nAUC score:', auc_score)                                         # Print AUC score for the model"
   ]
  },
  {
   "cell_type": "markdown",
   "id": "864b81b8",
   "metadata": {},
   "source": [
    "<hr>\n",
    "<div id=\"rf\">   \n",
    "    <h2>Random Forest</h2>    \n",
    "</div>  \n",
    "<div>  \n",
    "<ol>  \n",
    "        <li>  \n",
    "            <a href=\"#valid\">Validating</a>  \n",
    "            <ol>   \n",
    "                <li><a href=\"#cv\">Cross-validation</a></li>                   \n",
    "            </ol>  \n",
    "        </li>  \n",
    "        <li><a href=\"#test\">Testing</a></li>  \n",
    "        <li><a href=\"#roc\">ROC plot and AUC score</a></li>\n",
    "        <li><a href=\"#tuning\">Tuning Random Forest</a></li>\n",
    "        <li><a href=\"#roc\">ROC plot and AUC score after tuning Random Forest</a></li> \n",
    "        <li><a href=\"#output\">Output the results</a></li> \n",
    "    </ol>  \n",
    "</div>  \n",
    "<br>  "
   ]
  },
  {
   "cell_type": "markdown",
   "id": "25a32db1",
   "metadata": {},
   "source": [
    "<div id=\"cv\"> \n",
    "\t<h2>Cross_validation</h2>    \n",
    "</div>"
   ]
  },
  {
   "cell_type": "code",
   "execution_count": 94,
   "id": "dda4de21",
   "metadata": {},
   "outputs": [
    {
     "data": {
      "text/html": [
       "<style>#sk-container-id-4 {color: black;}#sk-container-id-4 pre{padding: 0;}#sk-container-id-4 div.sk-toggleable {background-color: white;}#sk-container-id-4 label.sk-toggleable__label {cursor: pointer;display: block;width: 100%;margin-bottom: 0;padding: 0.3em;box-sizing: border-box;text-align: center;}#sk-container-id-4 label.sk-toggleable__label-arrow:before {content: \"▸\";float: left;margin-right: 0.25em;color: #696969;}#sk-container-id-4 label.sk-toggleable__label-arrow:hover:before {color: black;}#sk-container-id-4 div.sk-estimator:hover label.sk-toggleable__label-arrow:before {color: black;}#sk-container-id-4 div.sk-toggleable__content {max-height: 0;max-width: 0;overflow: hidden;text-align: left;background-color: #f0f8ff;}#sk-container-id-4 div.sk-toggleable__content pre {margin: 0.2em;color: black;border-radius: 0.25em;background-color: #f0f8ff;}#sk-container-id-4 input.sk-toggleable__control:checked~div.sk-toggleable__content {max-height: 200px;max-width: 100%;overflow: auto;}#sk-container-id-4 input.sk-toggleable__control:checked~label.sk-toggleable__label-arrow:before {content: \"▾\";}#sk-container-id-4 div.sk-estimator input.sk-toggleable__control:checked~label.sk-toggleable__label {background-color: #d4ebff;}#sk-container-id-4 div.sk-label input.sk-toggleable__control:checked~label.sk-toggleable__label {background-color: #d4ebff;}#sk-container-id-4 input.sk-hidden--visually {border: 0;clip: rect(1px 1px 1px 1px);clip: rect(1px, 1px, 1px, 1px);height: 1px;margin: -1px;overflow: hidden;padding: 0;position: absolute;width: 1px;}#sk-container-id-4 div.sk-estimator {font-family: monospace;background-color: #f0f8ff;border: 1px dotted black;border-radius: 0.25em;box-sizing: border-box;margin-bottom: 0.5em;}#sk-container-id-4 div.sk-estimator:hover {background-color: #d4ebff;}#sk-container-id-4 div.sk-parallel-item::after {content: \"\";width: 100%;border-bottom: 1px solid gray;flex-grow: 1;}#sk-container-id-4 div.sk-label:hover label.sk-toggleable__label {background-color: #d4ebff;}#sk-container-id-4 div.sk-serial::before {content: \"\";position: absolute;border-left: 1px solid gray;box-sizing: border-box;top: 0;bottom: 0;left: 50%;z-index: 0;}#sk-container-id-4 div.sk-serial {display: flex;flex-direction: column;align-items: center;background-color: white;padding-right: 0.2em;padding-left: 0.2em;position: relative;}#sk-container-id-4 div.sk-item {position: relative;z-index: 1;}#sk-container-id-4 div.sk-parallel {display: flex;align-items: stretch;justify-content: center;background-color: white;position: relative;}#sk-container-id-4 div.sk-item::before, #sk-container-id-4 div.sk-parallel-item::before {content: \"\";position: absolute;border-left: 1px solid gray;box-sizing: border-box;top: 0;bottom: 0;left: 50%;z-index: -1;}#sk-container-id-4 div.sk-parallel-item {display: flex;flex-direction: column;z-index: 1;position: relative;background-color: white;}#sk-container-id-4 div.sk-parallel-item:first-child::after {align-self: flex-end;width: 50%;}#sk-container-id-4 div.sk-parallel-item:last-child::after {align-self: flex-start;width: 50%;}#sk-container-id-4 div.sk-parallel-item:only-child::after {width: 0;}#sk-container-id-4 div.sk-dashed-wrapped {border: 1px dashed gray;margin: 0 0.4em 0.5em 0.4em;box-sizing: border-box;padding-bottom: 0.4em;background-color: white;}#sk-container-id-4 div.sk-label label {font-family: monospace;font-weight: bold;display: inline-block;line-height: 1.2em;}#sk-container-id-4 div.sk-label-container {text-align: center;}#sk-container-id-4 div.sk-container {/* jupyter's `normalize.less` sets `[hidden] { display: none; }` but bootstrap.min.css set `[hidden] { display: none !important; }` so we also need the `!important` here to be able to override the default hidden behavior on the sphinx rendered scikit-learn.org. See: https://github.com/scikit-learn/scikit-learn/issues/21755 */display: inline-block !important;position: relative;}#sk-container-id-4 div.sk-text-repr-fallback {display: none;}</style><div id=\"sk-container-id-4\" class=\"sk-top-container\"><div class=\"sk-text-repr-fallback\"><pre>RandomForestClassifier(random_state=42)</pre><b>In a Jupyter environment, please rerun this cell to show the HTML representation or trust the notebook. <br />On GitHub, the HTML representation is unable to render, please try loading this page with nbviewer.org.</b></div><div class=\"sk-container\" hidden><div class=\"sk-item\"><div class=\"sk-estimator sk-toggleable\"><input class=\"sk-toggleable__control sk-hidden--visually\" id=\"sk-estimator-id-6\" type=\"checkbox\" checked><label for=\"sk-estimator-id-6\" class=\"sk-toggleable__label sk-toggleable__label-arrow\">RandomForestClassifier</label><div class=\"sk-toggleable__content\"><pre>RandomForestClassifier(random_state=42)</pre></div></div></div></div></div>"
      ],
      "text/plain": [
       "RandomForestClassifier(random_state=42)"
      ]
     },
     "execution_count": 94,
     "metadata": {},
     "output_type": "execute_result"
    }
   ],
   "source": [
    "# Cross_validation\n",
    "# Split the dataset into training and validating sets (80/20)\n",
    "x_train, x_val, y_train, y_val = train_test_split(X_train, Y_train, test_size=0.2, random_state=42)\n",
    "\n",
    "# Train a random forest classifier\n",
    "clf_rf_cv = RandomForestClassifier(random_state=42)\n",
    "\n",
    "# Fit the model to the training data\n",
    "clf_rf_cv.fit(x_train, y_train)"
   ]
  },
  {
   "cell_type": "code",
   "execution_count": 95,
   "id": "f332d78e",
   "metadata": {},
   "outputs": [],
   "source": [
    "# Perform cross-validation\n",
    "CV_scores = cross_val_score(clf_rf_cv, x_train, y_train, cv=10)        # 10-fold cross-validation\n",
    "CV_score_df = pd.DataFrame(CV_scores, columns = ['Accuracy'])"
   ]
  },
  {
   "cell_type": "code",
   "execution_count": 96,
   "id": "c050445a",
   "metadata": {},
   "outputs": [
    {
     "name": "stdout",
     "output_type": "stream",
     "text": [
      "\n",
      "Validating the model with cross-validation:\n",
      "\n",
      "\n",
      "CV scores for 10 folds:\n",
      "\n"
     ]
    },
    {
     "data": {
      "text/html": [
       "<div>\n",
       "<style scoped>\n",
       "    .dataframe tbody tr th:only-of-type {\n",
       "        vertical-align: middle;\n",
       "    }\n",
       "\n",
       "    .dataframe tbody tr th {\n",
       "        vertical-align: top;\n",
       "    }\n",
       "\n",
       "    .dataframe thead th {\n",
       "        text-align: right;\n",
       "    }\n",
       "</style>\n",
       "<table border=\"1\" class=\"dataframe\">\n",
       "  <thead>\n",
       "    <tr style=\"text-align: right;\">\n",
       "      <th></th>\n",
       "      <th>Accuracy</th>\n",
       "    </tr>\n",
       "  </thead>\n",
       "  <tbody>\n",
       "    <tr>\n",
       "      <th>0</th>\n",
       "      <td>0.682927</td>\n",
       "    </tr>\n",
       "    <tr>\n",
       "      <th>1</th>\n",
       "      <td>0.878049</td>\n",
       "    </tr>\n",
       "    <tr>\n",
       "      <th>2</th>\n",
       "      <td>0.756098</td>\n",
       "    </tr>\n",
       "    <tr>\n",
       "      <th>3</th>\n",
       "      <td>0.780488</td>\n",
       "    </tr>\n",
       "    <tr>\n",
       "      <th>4</th>\n",
       "      <td>0.731707</td>\n",
       "    </tr>\n",
       "    <tr>\n",
       "      <th>5</th>\n",
       "      <td>0.658537</td>\n",
       "    </tr>\n",
       "    <tr>\n",
       "      <th>6</th>\n",
       "      <td>0.731707</td>\n",
       "    </tr>\n",
       "    <tr>\n",
       "      <th>7</th>\n",
       "      <td>0.682927</td>\n",
       "    </tr>\n",
       "    <tr>\n",
       "      <th>8</th>\n",
       "      <td>0.850000</td>\n",
       "    </tr>\n",
       "    <tr>\n",
       "      <th>9</th>\n",
       "      <td>0.650000</td>\n",
       "    </tr>\n",
       "  </tbody>\n",
       "</table>\n",
       "</div>"
      ],
      "text/plain": [
       "   Accuracy\n",
       "0  0.682927\n",
       "1  0.878049\n",
       "2  0.756098\n",
       "3  0.780488\n",
       "4  0.731707\n",
       "5  0.658537\n",
       "6  0.731707\n",
       "7  0.682927\n",
       "8  0.850000\n",
       "9  0.650000"
      ]
     },
     "metadata": {},
     "output_type": "display_data"
    },
    {
     "name": "stdout",
     "output_type": "stream",
     "text": [
      "\n",
      "The mean of CV scores --> 0.7402439024390244\n",
      "\n",
      "\n"
     ]
    }
   ],
   "source": [
    "# Evaluate model performance\n",
    "print('\\nValidating the model with cross-validation:\\n')\n",
    "print('\\nCV scores for 10 folds:\\n')\n",
    "display(CV_score_df)\n",
    "\n",
    "accuracy_score_cv = CV_score_df.Accuracy.mean()\n",
    "print('\\nThe mean of CV scores -->', accuracy_score_cv)\n",
    "print('\\n')"
   ]
  },
  {
   "cell_type": "markdown",
   "id": "6235b4d6",
   "metadata": {},
   "source": [
    "<div id=\"test\"> \n",
    "    <h2>Testing</h2>    \n",
    "</div>"
   ]
  },
  {
   "cell_type": "code",
   "execution_count": 97,
   "id": "09f1ee24",
   "metadata": {},
   "outputs": [],
   "source": [
    "# Testing\n",
    "# Initialize the Random Forest classifier  \n",
    "clf_rf = RandomForestClassifier(random_state=42)         # Use a random state for reproducibility  \n",
    "\n",
    "# Fit the model to the training data  \n",
    "clf_rf.fit(X_train, Y_train)\n",
    "\n",
    "# Predict the labels for the testing data\n",
    "Y_predict = clf_rf.predict(X_test)\n",
    "\n",
    "# Predict the probabilities for the testing data\n",
    "y_prob = clf_rf.predict_proba(X_test)[:, 1]             # Extract probabilities for the positive class"
   ]
  },
  {
   "cell_type": "code",
   "execution_count": 98,
   "id": "1462a925",
   "metadata": {},
   "outputs": [
    {
     "name": "stdout",
     "output_type": "stream",
     "text": [
      "\n",
      "Testing the model:\n",
      "\n",
      "Accuracy --> 0.828125\n",
      "Recall or Sensitivity or TPR --> 0.828125\n",
      "Precision --> 0.8223214285714284\n",
      "F1 Score --> 0.8230263157894737\n",
      "\n",
      "\n"
     ]
    }
   ],
   "source": [
    "# Evaluate the model performance  \n",
    "print('\\nTesting the model:\\n') \n",
    "\n",
    "accuracy_score_rf_testing = accuracy_score(Y_test, Y_predict)\n",
    "print('Accuracy -->', accuracy_score_rf_testing)                                                   # Accuracy calculation \n",
    "\n",
    "# Add the average='weighted' parameter in recall, precision, and f1 score calculations to handle multiclass cases if applicable\n",
    "print('Recall or Sensitivity or TPR -->', recall_score(Y_test, Y_predict, average='weighted'))     # Recall calculation  \n",
    "print('Precision -->', precision_score(Y_test, Y_predict, average='weighted'))                     # Precision calculation  \n",
    "print('F1 Score -->', f1_score(Y_test, Y_predict, average='weighted'))                             # F1 score calculation\n",
    "print('\\n')"
   ]
  },
  {
   "cell_type": "code",
   "execution_count": 99,
   "id": "452ade0a",
   "metadata": {},
   "outputs": [
    {
     "name": "stdout",
     "output_type": "stream",
     "text": [
      "\n",
      "Classification Report:\n",
      "\n",
      "               precision    recall  f1-score   support\n",
      "\n",
      "           0       0.86      0.91      0.88        92\n",
      "           1       0.73      0.61      0.67        36\n",
      "\n",
      "    accuracy                           0.83       128\n",
      "   macro avg       0.80      0.76      0.78       128\n",
      "weighted avg       0.82      0.83      0.82       128\n",
      "\n"
     ]
    }
   ],
   "source": [
    "# Generate and display the classification report\n",
    "print('\\nClassification Report:\\n\\n', classification_report(Y_test, Y_predict))   "
   ]
  },
  {
   "cell_type": "code",
   "execution_count": 100,
   "id": "9c7862e3",
   "metadata": {},
   "outputs": [
    {
     "name": "stdout",
     "output_type": "stream",
     "text": [
      "\n",
      "Confusion matrix:\n",
      "                 benign present  malignant present\n",
      "test benign                 84                  8\n",
      "test malignant              14                 22\n",
      "\n",
      "\n"
     ]
    }
   ],
   "source": [
    "# Generate and display the confusion matrix\n",
    "confusion_matrix = metrics.confusion_matrix(Y_test, Y_predict)\n",
    "\n",
    "# Create a dataframe for the confusion matrix for better visualization\n",
    "confusion_matrix_dataframe = pd.DataFrame(confusion_matrix, columns = ['benign present', 'malignant present'], \n",
    "                                          index = ['test benign', 'test malignant'])    \n",
    "print(\"\\nConfusion matrix:\\n\", confusion_matrix_dataframe)  \n",
    "print('\\n')"
   ]
  },
  {
   "cell_type": "markdown",
   "id": "cd58c3c3",
   "metadata": {},
   "source": [
    "<div id=\"roc\"> \n",
    "    <h2>ROC plot and AUC score</h2>    \n",
    "</div>"
   ]
  },
  {
   "cell_type": "code",
   "execution_count": 101,
   "id": "3865d8b9",
   "metadata": {},
   "outputs": [],
   "source": [
    "# Function to plot ROC curve  \n",
    "def plot_roc_curve(Y_test, y_prob):     \n",
    "    # Calculate ROC curve  \n",
    "    fpr, tpr, thresholds = roc_curve(Y_test, y_prob)  \n",
    "    \n",
    "    # Plot ROC curve  \n",
    "    plt.plot(fpr, tpr, label='ROC Curve')  \n",
    "    plt.plot([0, 1], [0, 1], 'k--')               # Add dashed diagonal line  \n",
    "    plt.xlabel('False Positive Rate')   \n",
    "    plt.ylabel('True Positive Rate')   \n",
    "    plt.title('ROC Curve')   \n",
    "    plt.grid()  \n",
    "    plt.legend(loc='lower right')  \n",
    "    plt.show()    "
   ]
  },
  {
   "cell_type": "code",
   "execution_count": 102,
   "id": "fea7c043",
   "metadata": {},
   "outputs": [
    {
     "data": {
      "image/png": "[encoded data removed]",
      "text/plain": [
       "<Figure size 640x480 with 1 Axes>"
      ]
     },
     "metadata": {},
     "output_type": "display_data"
    },
    {
     "name": "stdout",
     "output_type": "stream",
     "text": [
      "\n",
      "AUC score: 0.8586956521739129\n"
     ]
    }
   ],
   "source": [
    "# Plot the ROC curve using predicted probabilities  \n",
    "plot_roc_curve(Y_test, y_prob)  \n",
    "\n",
    "# Calculate AUC score  \n",
    "auc_score = roc_auc_score(Y_test, y_prob)   \n",
    "print('\\nAUC score:', auc_score)"
   ]
  },
  {
   "cell_type": "markdown",
   "id": "3159bcb8",
   "metadata": {},
   "source": [
    "<div id=\"tuning\"> \n",
    "    <h2>Tuning Random Forest</h2>    \n",
    "</div>"
   ]
  },
  {
   "cell_type": "code",
   "execution_count": 103,
   "id": "e2440292",
   "metadata": {},
   "outputs": [],
   "source": [
    "# Defining the hyperparameter\n",
    "param_grid_rf = {'n_estimators':[100, 150, 200 ],       # Number of trees in the forest\n",
    "         'criterion':['gini', 'entropy'],               # Function to measure the quality of a split\n",
    "         'max_features':['sqrt', 'log2'],               # Number of features to consider when looking for the best split\n",
    "         'max_depth':[80, 90, 100, 110],                # Maximum depth of the tree\n",
    "         'min_samples_split': [2, 5, 10]}               # Minimum number of samples required to split an internal node"
   ]
  },
  {
   "cell_type": "code",
   "execution_count": 104,
   "id": "99d35c27",
   "metadata": {},
   "outputs": [
    {
     "name": "stdout",
     "output_type": "stream",
     "text": [
      "Fitting 5 folds for each of 144 candidates, totalling 720 fits\n"
     ]
    },
    {
     "data": {
      "text/html": [
       "<style>#sk-container-id-5 {color: black;}#sk-container-id-5 pre{padding: 0;}#sk-container-id-5 div.sk-toggleable {background-color: white;}#sk-container-id-5 label.sk-toggleable__label {cursor: pointer;display: block;width: 100%;margin-bottom: 0;padding: 0.3em;box-sizing: border-box;text-align: center;}#sk-container-id-5 label.sk-toggleable__label-arrow:before {content: \"▸\";float: left;margin-right: 0.25em;color: #696969;}#sk-container-id-5 label.sk-toggleable__label-arrow:hover:before {color: black;}#sk-container-id-5 div.sk-estimator:hover label.sk-toggleable__label-arrow:before {color: black;}#sk-container-id-5 div.sk-toggleable__content {max-height: 0;max-width: 0;overflow: hidden;text-align: left;background-color: #f0f8ff;}#sk-container-id-5 div.sk-toggleable__content pre {margin: 0.2em;color: black;border-radius: 0.25em;background-color: #f0f8ff;}#sk-container-id-5 input.sk-toggleable__control:checked~div.sk-toggleable__content {max-height: 200px;max-width: 100%;overflow: auto;}#sk-container-id-5 input.sk-toggleable__control:checked~label.sk-toggleable__label-arrow:before {content: \"▾\";}#sk-container-id-5 div.sk-estimator input.sk-toggleable__control:checked~label.sk-toggleable__label {background-color: #d4ebff;}#sk-container-id-5 div.sk-label input.sk-toggleable__control:checked~label.sk-toggleable__label {background-color: #d4ebff;}#sk-container-id-5 input.sk-hidden--visually {border: 0;clip: rect(1px 1px 1px 1px);clip: rect(1px, 1px, 1px, 1px);height: 1px;margin: -1px;overflow: hidden;padding: 0;position: absolute;width: 1px;}#sk-container-id-5 div.sk-estimator {font-family: monospace;background-color: #f0f8ff;border: 1px dotted black;border-radius: 0.25em;box-sizing: border-box;margin-bottom: 0.5em;}#sk-container-id-5 div.sk-estimator:hover {background-color: #d4ebff;}#sk-container-id-5 div.sk-parallel-item::after {content: \"\";width: 100%;border-bottom: 1px solid gray;flex-grow: 1;}#sk-container-id-5 div.sk-label:hover label.sk-toggleable__label {background-color: #d4ebff;}#sk-container-id-5 div.sk-serial::before {content: \"\";position: absolute;border-left: 1px solid gray;box-sizing: border-box;top: 0;bottom: 0;left: 50%;z-index: 0;}#sk-container-id-5 div.sk-serial {display: flex;flex-direction: column;align-items: center;background-color: white;padding-right: 0.2em;padding-left: 0.2em;position: relative;}#sk-container-id-5 div.sk-item {position: relative;z-index: 1;}#sk-container-id-5 div.sk-parallel {display: flex;align-items: stretch;justify-content: center;background-color: white;position: relative;}#sk-container-id-5 div.sk-item::before, #sk-container-id-5 div.sk-parallel-item::before {content: \"\";position: absolute;border-left: 1px solid gray;box-sizing: border-box;top: 0;bottom: 0;left: 50%;z-index: -1;}#sk-container-id-5 div.sk-parallel-item {display: flex;flex-direction: column;z-index: 1;position: relative;background-color: white;}#sk-container-id-5 div.sk-parallel-item:first-child::after {align-self: flex-end;width: 50%;}#sk-container-id-5 div.sk-parallel-item:last-child::after {align-self: flex-start;width: 50%;}#sk-container-id-5 div.sk-parallel-item:only-child::after {width: 0;}#sk-container-id-5 div.sk-dashed-wrapped {border: 1px dashed gray;margin: 0 0.4em 0.5em 0.4em;box-sizing: border-box;padding-bottom: 0.4em;background-color: white;}#sk-container-id-5 div.sk-label label {font-family: monospace;font-weight: bold;display: inline-block;line-height: 1.2em;}#sk-container-id-5 div.sk-label-container {text-align: center;}#sk-container-id-5 div.sk-container {/* jupyter's `normalize.less` sets `[hidden] { display: none; }` but bootstrap.min.css set `[hidden] { display: none !important; }` so we also need the `!important` here to be able to override the default hidden behavior on the sphinx rendered scikit-learn.org. See: https://github.com/scikit-learn/scikit-learn/issues/21755 */display: inline-block !important;position: relative;}#sk-container-id-5 div.sk-text-repr-fallback {display: none;}</style><div id=\"sk-container-id-5\" class=\"sk-top-container\"><div class=\"sk-text-repr-fallback\"><pre>GridSearchCV(cv=5, estimator=RandomForestClassifier(random_state=42), n_jobs=-1,\n",
       "             param_grid={&#x27;criterion&#x27;: [&#x27;gini&#x27;, &#x27;entropy&#x27;],\n",
       "                         &#x27;max_depth&#x27;: [80, 90, 100, 110],\n",
       "                         &#x27;max_features&#x27;: [&#x27;sqrt&#x27;, &#x27;log2&#x27;],\n",
       "                         &#x27;min_samples_split&#x27;: [2, 5, 10],\n",
       "                         &#x27;n_estimators&#x27;: [100, 150, 200]},\n",
       "             scoring=&#x27;accuracy&#x27;, verbose=2)</pre><b>In a Jupyter environment, please rerun this cell to show the HTML representation or trust the notebook. <br />On GitHub, the HTML representation is unable to render, please try loading this page with nbviewer.org.</b></div><div class=\"sk-container\" hidden><div class=\"sk-item sk-dashed-wrapped\"><div class=\"sk-label-container\"><div class=\"sk-label sk-toggleable\"><input class=\"sk-toggleable__control sk-hidden--visually\" id=\"sk-estimator-id-7\" type=\"checkbox\" ><label for=\"sk-estimator-id-7\" class=\"sk-toggleable__label sk-toggleable__label-arrow\">GridSearchCV</label><div class=\"sk-toggleable__content\"><pre>GridSearchCV(cv=5, estimator=RandomForestClassifier(random_state=42), n_jobs=-1,\n",
       "             param_grid={&#x27;criterion&#x27;: [&#x27;gini&#x27;, &#x27;entropy&#x27;],\n",
       "                         &#x27;max_depth&#x27;: [80, 90, 100, 110],\n",
       "                         &#x27;max_features&#x27;: [&#x27;sqrt&#x27;, &#x27;log2&#x27;],\n",
       "                         &#x27;min_samples_split&#x27;: [2, 5, 10],\n",
       "                         &#x27;n_estimators&#x27;: [100, 150, 200]},\n",
       "             scoring=&#x27;accuracy&#x27;, verbose=2)</pre></div></div></div><div class=\"sk-parallel\"><div class=\"sk-parallel-item\"><div class=\"sk-item\"><div class=\"sk-label-container\"><div class=\"sk-label sk-toggleable\"><input class=\"sk-toggleable__control sk-hidden--visually\" id=\"sk-estimator-id-8\" type=\"checkbox\" ><label for=\"sk-estimator-id-8\" class=\"sk-toggleable__label sk-toggleable__label-arrow\">estimator: RandomForestClassifier</label><div class=\"sk-toggleable__content\"><pre>RandomForestClassifier(random_state=42)</pre></div></div></div><div class=\"sk-serial\"><div class=\"sk-item\"><div class=\"sk-estimator sk-toggleable\"><input class=\"sk-toggleable__control sk-hidden--visually\" id=\"sk-estimator-id-9\" type=\"checkbox\" ><label for=\"sk-estimator-id-9\" class=\"sk-toggleable__label sk-toggleable__label-arrow\">RandomForestClassifier</label><div class=\"sk-toggleable__content\"><pre>RandomForestClassifier(random_state=42)</pre></div></div></div></div></div></div></div></div></div></div>"
      ],
      "text/plain": [
       "GridSearchCV(cv=5, estimator=RandomForestClassifier(random_state=42), n_jobs=-1,\n",
       "             param_grid={'criterion': ['gini', 'entropy'],\n",
       "                         'max_depth': [80, 90, 100, 110],\n",
       "                         'max_features': ['sqrt', 'log2'],\n",
       "                         'min_samples_split': [2, 5, 10],\n",
       "                         'n_estimators': [100, 150, 200]},\n",
       "             scoring='accuracy', verbose=2)"
      ]
     },
     "execution_count": 104,
     "metadata": {},
     "output_type": "execute_result"
    }
   ],
   "source": [
    "# Create a random forest classifier\n",
    "clf_rf_tune = RandomForestClassifier(random_state=42)\n",
    "\n",
    "# Initialize GridSearchCV with the classifier and hyperparameter grid\n",
    "grid_search = GridSearchCV(estimator=clf_rf_tune,         # The classifier to optimize\n",
    "                           param_grid=param_grid_rf,      # The hyperparameter grid\n",
    "                           scoring='accuracy',            # Evaluation metric\n",
    "                           cv=5,                          # Number of cross-validation folds\n",
    "                           n_jobs = -1,                   # Use all available cores  \n",
    "                           verbose = 2)                   # Detailed output during the fitting process\n",
    "\n",
    "# Fit the model to the training data\n",
    "grid_search.fit(X_train, Y_train)"
   ]
  },
  {
   "cell_type": "code",
   "execution_count": 105,
   "id": "d85e3a9d",
   "metadata": {},
   "outputs": [
    {
     "name": "stdout",
     "output_type": "stream",
     "text": [
      "Best parameters: {'criterion': 'gini', 'max_depth': 80, 'max_features': 'sqrt', 'min_samples_split': 2, 'n_estimators': 150}\n",
      "Best cross-validation score: 0.7631829430801447\n"
     ]
    }
   ],
   "source": [
    "# Output the best hyperparameters and best score found by GridSearchCV  \n",
    "print(\"Best parameters:\", grid_search.best_params_)  \n",
    "print(\"Best cross-validation score:\", grid_search.best_score_)"
   ]
  },
  {
   "cell_type": "code",
   "execution_count": 106,
   "id": "092959e4",
   "metadata": {},
   "outputs": [],
   "source": [
    "# Test the best model on the test set  \n",
    "best_rf = grid_search.best_estimator_  \n",
    "\n",
    "# Predict the labels  \n",
    "y_pred = best_rf.predict(X_test)\n",
    "\n",
    "# Predict the probabilities for the testing data\n",
    "y_prob = best_rf.predict_proba(X_test)[:, 1]             # Extract probabilities for the positive class"
   ]
  },
  {
   "cell_type": "code",
   "execution_count": 116,
   "id": "733f6a1d",
   "metadata": {},
   "outputs": [
    {
     "name": "stdout",
     "output_type": "stream",
     "text": [
      "\n",
      "Tuning the model:\n",
      "\n",
      "\n",
      "Accuracy  --> 0.828125\n",
      "Recall or Sensitivity or TPR ---> 0.828125\n",
      "Precision --> 0.821875\n",
      "f1_score --> 0.8209635416666666\n",
      "\n",
      "\n"
     ]
    }
   ],
   "source": [
    "# Evaluate model performance  \n",
    "print('\\nTuning the model:\\n')\n",
    "\n",
    "accuracy_score_rf_tuning = accuracy_score(Y_test, y_pred)\n",
    "print('\\nAccuracy  -->', accuracy_score_rf_tuning)                                                  # Accuracy calculation\n",
    "\n",
    "# Add the average='weighted' parameter in recall, precision, and f1 score calculations to handle multiclass cases if applicable\n",
    "print('Recall or Sensitivity or TPR --->', recall_score(Y_test, y_pred, average='weighted'))      # Recall calculation\n",
    "print('Precision -->', precision_score(Y_test, y_pred, average='weighted'))                       # Precision calculation\n",
    "print('f1_score -->', f1_score(Y_test, y_pred, average='weighted'))                               # F1 score calculation\n",
    "print('\\n')"
   ]
  },
  {
   "cell_type": "code",
   "execution_count": 108,
   "id": "59ad5f0c",
   "metadata": {},
   "outputs": [
    {
     "name": "stdout",
     "output_type": "stream",
     "text": [
      "\n",
      "Classification Report:\n",
      "\n",
      "               precision    recall  f1-score   support\n",
      "\n",
      "           0       0.85      0.92      0.89        92\n",
      "           1       0.75      0.58      0.66        36\n",
      "\n",
      "    accuracy                           0.83       128\n",
      "   macro avg       0.80      0.75      0.77       128\n",
      "weighted avg       0.82      0.83      0.82       128\n",
      "\n"
     ]
    }
   ],
   "source": [
    "# Generate and display the classification report\n",
    "print('\\nClassification Report:\\n\\n', classification_report(Y_test, y_pred))   "
   ]
  },
  {
   "cell_type": "code",
   "execution_count": 109,
   "id": "4a69969f",
   "metadata": {},
   "outputs": [
    {
     "name": "stdout",
     "output_type": "stream",
     "text": [
      "\n",
      "Confusion matrix:\n",
      "                 benign present  malignant present\n",
      "test benign                 85                  7\n",
      "test malignant              15                 21\n",
      "\n",
      "\n"
     ]
    }
   ],
   "source": [
    "# Generate and display the confusion matrix  \n",
    "confusion_matrix = metrics.confusion_matrix(Y_test, y_pred)  \n",
    "\n",
    "# Create a dataframe for the confusion matrix for better visualization\n",
    "confusion_matrix_dataframe = pd.DataFrame(confusion_matrix, columns = ['benign present', 'malignant present'], \n",
    "                                          index = ['test benign', 'test malignant'])    \n",
    "print(\"\\nConfusion matrix:\\n\", confusion_matrix_dataframe)  \n",
    "print('\\n')"
   ]
  },
  {
   "cell_type": "code",
   "execution_count": 110,
   "id": "3a0aea3d",
   "metadata": {},
   "outputs": [
    {
     "data": {
      "image/png": "[encoded data removed]",
      "text/plain": [
       "<Figure size 600x400 with 2 Axes>"
      ]
     },
     "metadata": {},
     "output_type": "display_data"
    },
    {
     "name": "stdout",
     "output_type": "stream",
     "text": [
      "\n",
      "\n"
     ]
    }
   ],
   "source": [
    "# Visualize confusion matrix\n",
    "plt.figure(figsize=(6, 4))\n",
    "sns.heatmap(confusion_matrix_dataframe, annot=True, fmt='d', cmap='YlGnBu')\n",
    "plt.title('Confusion Matrix')\n",
    "plt.show()\n",
    "print('\\n')"
   ]
  },
  {
   "cell_type": "markdown",
   "id": "262acdc6",
   "metadata": {},
   "source": [
    "<div id=\"roc\"> \n",
    "    <h2>ROC plot and AUC score after tuning Random Forest</h2>    \n",
    "</div>"
   ]
  },
  {
   "cell_type": "code",
   "execution_count": 111,
   "id": "ae73ec4b",
   "metadata": {},
   "outputs": [],
   "source": [
    "# Function to plot ROC curve  \n",
    "def plot_roc_curve(Y_test, y_prob):     \n",
    "    # Calculate ROC curve  \n",
    "    fpr, tpr, thresholds = roc_curve(Y_test, y_prob)  \n",
    "    \n",
    "    # Plot ROC curve  \n",
    "    plt.plot(fpr, tpr, label='ROC Curve')  \n",
    "    plt.plot([0, 1], [0, 1], 'k--')               # Add dashed diagonal line  \n",
    "    plt.xlabel('False Positive Rate')   \n",
    "    plt.ylabel('True Positive Rate')   \n",
    "    plt.title('ROC Curve')   \n",
    "    plt.grid()  \n",
    "    plt.legend(loc='lower right')  \n",
    "    plt.show()    "
   ]
  },
  {
   "cell_type": "code",
   "execution_count": 112,
   "id": "f741b577",
   "metadata": {},
   "outputs": [
    {
     "data": {
      "image/png": "[encoded data removed]",
      "text/plain": [
       "<Figure size 640x480 with 1 Axes>"
      ]
     },
     "metadata": {},
     "output_type": "display_data"
    },
    {
     "name": "stdout",
     "output_type": "stream",
     "text": [
      "\n",
      "AUC score: 0.8651871980676328\n",
      "\n",
      "\n"
     ]
    }
   ],
   "source": [
    "# Plot the ROC curve using predicted probabilities  \n",
    "plot_roc_curve(Y_test, y_prob)  \n",
    "\n",
    "# Calculate AUC score  \n",
    "auc_score_tu = roc_auc_score(Y_test, y_prob)   \n",
    "print('\\nAUC score:', auc_score_tu)\n",
    "print('\\n')"
   ]
  },
  {
   "cell_type": "markdown",
   "id": "d28d49eb",
   "metadata": {},
   "source": [
    "<div id=\"output\"> \n",
    "    <h2>Output the results</h2>    \n",
    "</div>"
   ]
  },
  {
   "cell_type": "code",
   "execution_count": 114,
   "id": "ee095a35",
   "metadata": {},
   "outputs": [
    {
     "name": "stdout",
     "output_type": "stream",
     "text": [
      "\n",
      "Cross-validation result: 0.7402439024390244\n",
      "\n",
      "Random Forest testing result: 0.828125\n",
      "\n",
      "Random Forest tuning result: 0.828125\n",
      "\n",
      "AUC score: 0.8586956521739129\n",
      "\n",
      "AUC score after tuning: 0.8651871980676328\n"
     ]
    }
   ],
   "source": [
    "# Output the results of different validation methods and the random forest testing  \n",
    "print('\\nCross-validation result:', accuracy_score_cv)                   # Print accuracy score for cross-validation method   \n",
    "print('\\nRandom Forest testing result:', accuracy_score_rf_testing)      # Print accuracy score for random forest testing\n",
    "print('\\nRandom Forest tuning result:', accuracy_score_rf_tuning)        # Print accuracy score for random forest tuning  \n",
    "print('\\nAUC score:', auc_score)                                         # Print AUC score for the model\n",
    "print('\\nAUC score after tuning:', auc_score_tu)                         # Print AUC score for the model after tuning"
   ]
  }
 ],
 "metadata": {
  "kernelspec": {
   "display_name": "Python 3",
   "language": "python",
   "name": "python3"
  },
  "language_info": {
   "codemirror_mode": {
    "name": "ipython",
    "version": 3
   },
   "file_extension": ".py",
   "mimetype": "text/x-python",
   "name": "python",
   "nbconvert_exporter": "python",
   "pygments_lexer": "ipython3",
   "version": "3.8.0"
  }
 },
 "nbformat": 4,
 "nbformat_minor": 5
}
